{
 "cells": [
  {
   "cell_type": "markdown",
   "metadata": {},
   "source": [
    "# **RANDOM CLASSIFICATION TO TEST MODEL ROBUSTNESS**"
   ]
  },
  {
   "cell_type": "markdown",
   "metadata": {},
   "source": [
    "## Loading Datasets"
   ]
  },
  {
   "cell_type": "code",
   "execution_count": 20,
   "metadata": {},
   "outputs": [],
   "source": [
    "import numpy as np\n",
    "import pandas as pd\n",
    "import matplotlib.pyplot as plt\n",
    "\n",
    "import sys\n",
    "import warnings\n",
    "\n",
    "from sklearn.manifold import TSNE\n",
    "import matplotlib.patches as mpatches\n",
    "\n",
    "from sklearn.model_selection import train_test_split\n",
    "from sklearn.pipeline import make_pipeline\n",
    "\n",
    "from sklearn.feature_selection import mutual_info_classif as MIC\n",
    "from sklearn.feature_selection import SelectKBest\n",
    "\n",
    "from sklearn.preprocessing import StandardScaler as Scaler\n",
    "from sklearn.decomposition import PCA\n",
    "\n",
    "from sklearn.svm import SVC\n",
    "from sklearn.svm import LinearSVC\n",
    "from sklearn.neighbors import NearestCentroid"
   ]
  },
  {
   "cell_type": "code",
   "execution_count": 2,
   "metadata": {},
   "outputs": [
    {
     "name": "stdout",
     "output_type": "stream",
     "text": [
      "loaded for article\n",
      "loaded for beard\n",
      "loaded for blood\n",
      "loaded for company\n",
      "loaded for death\n",
      "loaded for gun\n",
      "loaded for id\n",
      "loaded for interview\n",
      "loaded for passport\n"
     ]
    }
   ],
   "source": [
    "cols = ['fileName','noun','fake','size','start','end']\n",
    "indexer = pd.DataFrame(columns=cols)\n",
    "df = pd.DataFrame(columns=range(1024))\n",
    "listNouns = ['article','beard','blood','company','death','gun','id','interview','passport']\n",
    "#Load NOUN datasets\n",
    "for noun in listNouns:\n",
    "    arrF = np.load('ELMOfiles/'+noun+'FAKE.npy')\n",
    "    arrNF = np.load('ELMOfiles/'+noun+'.npy')\n",
    "    \n",
    "    count=len(df)\n",
    "    df = df.append(pd.DataFrame(arrF),ignore_index=True)\n",
    "    d_temp = pd.DataFrame(data=[[noun+'FAKE.npy',noun,True,arrF.shape[0],count,len(df)-1]],columns=cols)\n",
    "    indexer = indexer.append(d_temp,ignore_index=True)\n",
    "    \n",
    "    count=len(df)\n",
    "    df = df.append(pd.DataFrame(arrNF),ignore_index=True)\n",
    "    d_temp = pd.DataFrame(data=[[noun+'.npy',noun,False,arrNF.shape[0],count,len(df)-1]],columns=cols)\n",
    "    indexer = indexer.append(d_temp,ignore_index=True)\n",
    "    \n",
    "    print(\"loaded for \"+noun)\n",
    "\n",
    "#-------------------------------------------------------------------------[FAKE]_NOUN_\n",
    "#Define a dataframe that contains embeddings with FAKE\n",
    "priv = ['beard','blood','company','death','gun']\n",
    "indexer.insert(loc=3,column='privative',value=False)\n",
    "for index, row in indexer.iterrows():\n",
    "    if row['noun'] in priv:\n",
    "        indexer.at[index,'privative']= True\n",
    "        \n",
    "priv_fakes_idx = indexer[(indexer.fake) & (indexer.privative)]\n",
    "non_priv_fakes_idx = indexer[(indexer.fake==True) & (indexer.privative==False)]\n",
    "\n",
    "fake_nouns = pd.DataFrame(columns=range(1024))\n",
    "for index, row in indexer[indexer['fake']].iterrows():\n",
    "    fake_nouns=fake_nouns.append(df.loc[row['start']:row['end']])\n",
    "\n",
    "#affine this dataframe : add a 'priv' column\n",
    "if 'priv' in fake_nouns.columns:\n",
    "    fake_nouns = fake_nouns.drop(columns=['priv'])\n",
    "    \n",
    "fake_nouns.insert(loc=1024,column='priv',value=-1)\n",
    "for index, row in priv_fakes_idx.iterrows():\n",
    "    for i in range(row['start'],row['end']+1):\n",
    "        fake_nouns.at[i,'priv']= 1\n",
    "\n",
    "#add 'noun' column\n",
    "if 'noun' in fake_nouns.columns:\n",
    "    fake_nouns = fake_nouns.drop(columns=['noun'])\n",
    "    \n",
    "fake_nouns.insert(loc=1024,column='noun',value='')\n",
    "for index, row in indexer[indexer['fake']].iterrows():\n",
    "    for i in range(row['start'],row['end']+1):\n",
    "        fake_nouns.at[i,'noun']= row['noun']\n",
    "\n",
    "targets_Fnouns = fake_nouns['priv']\n",
    "nouns_Fnouns = fake_nouns['noun']\n",
    "X_Fnouns = fake_nouns.drop(columns=['priv','noun'])\n",
    "\n",
    "#---------------------------------------------------------------------[NOT FAKE]_NOUN_\n",
    "not_fake_nouns = pd.DataFrame(columns=range(1024))\n",
    "\n",
    "priv_not_fakes_idx = indexer[(indexer.fake==False) & (indexer.privative)]\n",
    "\n",
    "for index, row in indexer[indexer['fake']==False].iterrows():\n",
    "    not_fake_nouns=not_fake_nouns.append(df.loc[row['start']:row['end']])\n",
    "\n",
    "if 'priv' in not_fake_nouns.columns:\n",
    "    not_fake_nouns = not_fake_nouns.drop(columns=['priv'])\n",
    "    \n",
    "not_fake_nouns.insert(loc=1024,column='priv',value=-1)\n",
    "for index, row in priv_not_fakes_idx.iterrows():\n",
    "    for i in range(row['start'],row['end']+1):\n",
    "        not_fake_nouns.at[i,'priv']= 1\n",
    "\n",
    "\n",
    "if 'noun' in not_fake_nouns.columns:\n",
    "    not_fake_nouns = not_fake_nouns.drop(columns=['noun'])\n",
    "    \n",
    "not_fake_nouns.insert(loc=1024,column='noun',value='')\n",
    "for index, row in indexer[indexer['fake']==False].iterrows():\n",
    "    for i in range(row['start'],row['end']+1):\n",
    "        not_fake_nouns.at[i,'noun']= row['noun']\n",
    "\n",
    "targets_NFnouns = not_fake_nouns['priv']\n",
    "nouns_NFnouns = not_fake_nouns['noun']\n",
    "X_NFnouns = not_fake_nouns.drop(columns=['priv','noun'])"
   ]
  },
  {
   "cell_type": "code",
   "execution_count": 3,
   "metadata": {},
   "outputs": [
    {
     "name": "stdout",
     "output_type": "stream",
     "text": [
      "done for article\n",
      "done for beard\n",
      "done for blood\n",
      "done for company\n",
      "done for death\n",
      "done for gun\n",
      "done for id\n",
      "done for interview\n",
      "done for passport\n"
     ]
    }
   ],
   "source": [
    "cols = ['fileName','noun','size','start','end']\n",
    "indexer_fakes = pd.DataFrame(columns=cols)\n",
    "fakes_embd = pd.DataFrame(columns=range(1024))\n",
    "\n",
    "for noun in listNouns:\n",
    "    arrF = np.load('ELMOfiles/FAKE'+noun+'FAKE.npy')\n",
    "    count=len(fakes_embd)\n",
    "    fakes_embd = fakes_embd.append(pd.DataFrame(arrF),ignore_index=True)\n",
    "    d_temp = pd.DataFrame(data=[[noun+'FAKE.npy',noun,arrF.shape[0],count,len(fakes_embd)-1]],columns=cols)\n",
    "    indexer_fakes = indexer_fakes.append(d_temp,ignore_index=True)\n",
    "    \n",
    "    print(\"done for \"+noun)\n",
    "    \n",
    "fakes_embd.index = X_Fnouns.index #re-indexing\n",
    "\n",
    "if 'priv' in fakes_embd.columns:\n",
    "    fakes_embd = fakes_embd.drop(columns=['priv'])\n",
    "    \n",
    "fakes_embd.insert(loc=1024,column='priv',value=fake_nouns['priv'])\n",
    "\n",
    "if 'noun' in fakes_embd.columns:\n",
    "    fakes_embd = fakes_embd.drop(columns=['noun'])\n",
    "    \n",
    "fakes_embd.insert(loc=1024,column='noun',value=fake_nouns['noun'])\n",
    "\n",
    "targets_fakes = fakes_embd['priv']\n",
    "nouns_fakes = fakes_embd['noun']\n",
    "X_fakes = fakes_embd.drop(columns=['priv','noun'])"
   ]
  },
  {
   "cell_type": "code",
   "execution_count": 4,
   "metadata": {},
   "outputs": [
    {
     "data": {
      "text/html": [
       "<div>\n",
       "<style scoped>\n",
       "    .dataframe tbody tr th:only-of-type {\n",
       "        vertical-align: middle;\n",
       "    }\n",
       "\n",
       "    .dataframe tbody tr th {\n",
       "        vertical-align: top;\n",
       "    }\n",
       "\n",
       "    .dataframe thead th {\n",
       "        text-align: right;\n",
       "    }\n",
       "</style>\n",
       "<table border=\"1\" class=\"dataframe\">\n",
       "  <thead>\n",
       "    <tr style=\"text-align: right;\">\n",
       "      <th></th>\n",
       "      <th>0</th>\n",
       "      <th>1</th>\n",
       "      <th>2</th>\n",
       "      <th>3</th>\n",
       "      <th>4</th>\n",
       "      <th>5</th>\n",
       "      <th>6</th>\n",
       "      <th>7</th>\n",
       "      <th>8</th>\n",
       "      <th>9</th>\n",
       "      <th>...</th>\n",
       "      <th>1016</th>\n",
       "      <th>1017</th>\n",
       "      <th>1018</th>\n",
       "      <th>1019</th>\n",
       "      <th>1020</th>\n",
       "      <th>1021</th>\n",
       "      <th>1022</th>\n",
       "      <th>1023</th>\n",
       "      <th>noun</th>\n",
       "      <th>priv</th>\n",
       "    </tr>\n",
       "  </thead>\n",
       "  <tbody>\n",
       "    <tr>\n",
       "      <th>105</th>\n",
       "      <td>0.156440</td>\n",
       "      <td>0.392243</td>\n",
       "      <td>0.670808</td>\n",
       "      <td>0.017239</td>\n",
       "      <td>-0.791780</td>\n",
       "      <td>-0.307966</td>\n",
       "      <td>0.248630</td>\n",
       "      <td>0.756638</td>\n",
       "      <td>0.463805</td>\n",
       "      <td>-0.627815</td>\n",
       "      <td>...</td>\n",
       "      <td>0.305649</td>\n",
       "      <td>-0.135865</td>\n",
       "      <td>-0.271025</td>\n",
       "      <td>-0.151438</td>\n",
       "      <td>-0.234853</td>\n",
       "      <td>-0.049934</td>\n",
       "      <td>-1.069263</td>\n",
       "      <td>-0.391737</td>\n",
       "      <td>article</td>\n",
       "      <td>-1</td>\n",
       "    </tr>\n",
       "    <tr>\n",
       "      <th>112</th>\n",
       "      <td>0.001389</td>\n",
       "      <td>0.085758</td>\n",
       "      <td>-0.206224</td>\n",
       "      <td>0.260565</td>\n",
       "      <td>-0.452545</td>\n",
       "      <td>-0.281362</td>\n",
       "      <td>1.044623</td>\n",
       "      <td>0.543559</td>\n",
       "      <td>0.991329</td>\n",
       "      <td>0.229313</td>\n",
       "      <td>...</td>\n",
       "      <td>0.319981</td>\n",
       "      <td>-0.373213</td>\n",
       "      <td>-0.615894</td>\n",
       "      <td>0.271822</td>\n",
       "      <td>-0.657521</td>\n",
       "      <td>-0.538877</td>\n",
       "      <td>-1.375160</td>\n",
       "      <td>-0.441863</td>\n",
       "      <td>article</td>\n",
       "      <td>-1</td>\n",
       "    </tr>\n",
       "    <tr>\n",
       "      <th>117</th>\n",
       "      <td>1.105892</td>\n",
       "      <td>-0.487816</td>\n",
       "      <td>0.602358</td>\n",
       "      <td>-0.166988</td>\n",
       "      <td>-0.321126</td>\n",
       "      <td>-0.739577</td>\n",
       "      <td>1.126680</td>\n",
       "      <td>0.872510</td>\n",
       "      <td>1.027808</td>\n",
       "      <td>0.872063</td>\n",
       "      <td>...</td>\n",
       "      <td>0.458427</td>\n",
       "      <td>-0.005996</td>\n",
       "      <td>-0.043152</td>\n",
       "      <td>0.327320</td>\n",
       "      <td>-0.078642</td>\n",
       "      <td>-0.101164</td>\n",
       "      <td>-0.867164</td>\n",
       "      <td>-0.521396</td>\n",
       "      <td>article</td>\n",
       "      <td>-1</td>\n",
       "    </tr>\n",
       "    <tr>\n",
       "      <th>128</th>\n",
       "      <td>0.115704</td>\n",
       "      <td>-0.347319</td>\n",
       "      <td>-0.350481</td>\n",
       "      <td>0.170118</td>\n",
       "      <td>-0.759647</td>\n",
       "      <td>0.066949</td>\n",
       "      <td>0.748896</td>\n",
       "      <td>1.137835</td>\n",
       "      <td>0.820300</td>\n",
       "      <td>0.044535</td>\n",
       "      <td>...</td>\n",
       "      <td>0.130317</td>\n",
       "      <td>0.412327</td>\n",
       "      <td>0.014418</td>\n",
       "      <td>0.755649</td>\n",
       "      <td>-0.843460</td>\n",
       "      <td>-0.128049</td>\n",
       "      <td>-0.966879</td>\n",
       "      <td>-0.858058</td>\n",
       "      <td>article</td>\n",
       "      <td>-1</td>\n",
       "    </tr>\n",
       "    <tr>\n",
       "      <th>133</th>\n",
       "      <td>-0.044899</td>\n",
       "      <td>0.108831</td>\n",
       "      <td>-0.049638</td>\n",
       "      <td>-0.250247</td>\n",
       "      <td>-0.526304</td>\n",
       "      <td>-0.102664</td>\n",
       "      <td>0.656976</td>\n",
       "      <td>0.668502</td>\n",
       "      <td>-0.041566</td>\n",
       "      <td>-0.421197</td>\n",
       "      <td>...</td>\n",
       "      <td>-0.087243</td>\n",
       "      <td>0.133813</td>\n",
       "      <td>-0.076750</td>\n",
       "      <td>0.115744</td>\n",
       "      <td>-0.193680</td>\n",
       "      <td>0.264048</td>\n",
       "      <td>-0.795319</td>\n",
       "      <td>-0.907033</td>\n",
       "      <td>article</td>\n",
       "      <td>-1</td>\n",
       "    </tr>\n",
       "    <tr>\n",
       "      <th>...</th>\n",
       "      <td>...</td>\n",
       "      <td>...</td>\n",
       "      <td>...</td>\n",
       "      <td>...</td>\n",
       "      <td>...</td>\n",
       "      <td>...</td>\n",
       "      <td>...</td>\n",
       "      <td>...</td>\n",
       "      <td>...</td>\n",
       "      <td>...</td>\n",
       "      <td>...</td>\n",
       "      <td>...</td>\n",
       "      <td>...</td>\n",
       "      <td>...</td>\n",
       "      <td>...</td>\n",
       "      <td>...</td>\n",
       "      <td>...</td>\n",
       "      <td>...</td>\n",
       "      <td>...</td>\n",
       "      <td>...</td>\n",
       "      <td>...</td>\n",
       "    </tr>\n",
       "    <tr>\n",
       "      <th>87380</th>\n",
       "      <td>-0.137506</td>\n",
       "      <td>0.099917</td>\n",
       "      <td>-0.032697</td>\n",
       "      <td>0.161520</td>\n",
       "      <td>0.249910</td>\n",
       "      <td>0.403148</td>\n",
       "      <td>0.138841</td>\n",
       "      <td>0.546167</td>\n",
       "      <td>0.759870</td>\n",
       "      <td>-0.121248</td>\n",
       "      <td>...</td>\n",
       "      <td>0.698584</td>\n",
       "      <td>0.211146</td>\n",
       "      <td>0.066850</td>\n",
       "      <td>-0.222897</td>\n",
       "      <td>-0.150912</td>\n",
       "      <td>-0.376265</td>\n",
       "      <td>-1.074107</td>\n",
       "      <td>0.322007</td>\n",
       "      <td>passport</td>\n",
       "      <td>-1</td>\n",
       "    </tr>\n",
       "    <tr>\n",
       "      <th>87381</th>\n",
       "      <td>0.219394</td>\n",
       "      <td>0.449579</td>\n",
       "      <td>0.681783</td>\n",
       "      <td>0.283674</td>\n",
       "      <td>0.037013</td>\n",
       "      <td>0.920118</td>\n",
       "      <td>1.119931</td>\n",
       "      <td>1.174181</td>\n",
       "      <td>1.044679</td>\n",
       "      <td>0.028064</td>\n",
       "      <td>...</td>\n",
       "      <td>1.390398</td>\n",
       "      <td>-1.054640</td>\n",
       "      <td>0.440998</td>\n",
       "      <td>-0.254634</td>\n",
       "      <td>-0.286329</td>\n",
       "      <td>-0.700240</td>\n",
       "      <td>-0.582169</td>\n",
       "      <td>0.302576</td>\n",
       "      <td>passport</td>\n",
       "      <td>-1</td>\n",
       "    </tr>\n",
       "    <tr>\n",
       "      <th>87387</th>\n",
       "      <td>0.608585</td>\n",
       "      <td>-0.415489</td>\n",
       "      <td>0.836140</td>\n",
       "      <td>-0.999897</td>\n",
       "      <td>-0.867784</td>\n",
       "      <td>0.053833</td>\n",
       "      <td>-0.358101</td>\n",
       "      <td>0.382194</td>\n",
       "      <td>0.134095</td>\n",
       "      <td>0.161360</td>\n",
       "      <td>...</td>\n",
       "      <td>0.398527</td>\n",
       "      <td>0.178212</td>\n",
       "      <td>0.821113</td>\n",
       "      <td>0.791539</td>\n",
       "      <td>-0.015616</td>\n",
       "      <td>-0.229806</td>\n",
       "      <td>0.081768</td>\n",
       "      <td>0.328378</td>\n",
       "      <td>passport</td>\n",
       "      <td>-1</td>\n",
       "    </tr>\n",
       "    <tr>\n",
       "      <th>87407</th>\n",
       "      <td>-0.060577</td>\n",
       "      <td>-0.480153</td>\n",
       "      <td>-0.571447</td>\n",
       "      <td>-0.161473</td>\n",
       "      <td>-0.386373</td>\n",
       "      <td>0.639669</td>\n",
       "      <td>0.533180</td>\n",
       "      <td>0.443756</td>\n",
       "      <td>0.097704</td>\n",
       "      <td>0.006382</td>\n",
       "      <td>...</td>\n",
       "      <td>0.492267</td>\n",
       "      <td>-1.264138</td>\n",
       "      <td>0.734522</td>\n",
       "      <td>-0.145348</td>\n",
       "      <td>-0.375813</td>\n",
       "      <td>-0.590630</td>\n",
       "      <td>0.142282</td>\n",
       "      <td>0.518544</td>\n",
       "      <td>passport</td>\n",
       "      <td>-1</td>\n",
       "    </tr>\n",
       "    <tr>\n",
       "      <th>87438</th>\n",
       "      <td>-0.231851</td>\n",
       "      <td>0.211250</td>\n",
       "      <td>0.648720</td>\n",
       "      <td>0.321236</td>\n",
       "      <td>0.344313</td>\n",
       "      <td>0.475061</td>\n",
       "      <td>0.594489</td>\n",
       "      <td>0.572660</td>\n",
       "      <td>1.040656</td>\n",
       "      <td>-0.348476</td>\n",
       "      <td>...</td>\n",
       "      <td>0.185732</td>\n",
       "      <td>-0.419778</td>\n",
       "      <td>0.855557</td>\n",
       "      <td>-0.164774</td>\n",
       "      <td>-0.359340</td>\n",
       "      <td>-0.326031</td>\n",
       "      <td>-0.633887</td>\n",
       "      <td>0.369414</td>\n",
       "      <td>passport</td>\n",
       "      <td>-1</td>\n",
       "    </tr>\n",
       "  </tbody>\n",
       "</table>\n",
       "<p>8685 rows × 1026 columns</p>\n",
       "</div>"
      ],
      "text/plain": [
       "              0         1         2         3         4         5         6  \\\n",
       "105    0.156440  0.392243  0.670808  0.017239 -0.791780 -0.307966  0.248630   \n",
       "112    0.001389  0.085758 -0.206224  0.260565 -0.452545 -0.281362  1.044623   \n",
       "117    1.105892 -0.487816  0.602358 -0.166988 -0.321126 -0.739577  1.126680   \n",
       "128    0.115704 -0.347319 -0.350481  0.170118 -0.759647  0.066949  0.748896   \n",
       "133   -0.044899  0.108831 -0.049638 -0.250247 -0.526304 -0.102664  0.656976   \n",
       "...         ...       ...       ...       ...       ...       ...       ...   \n",
       "87380 -0.137506  0.099917 -0.032697  0.161520  0.249910  0.403148  0.138841   \n",
       "87381  0.219394  0.449579  0.681783  0.283674  0.037013  0.920118  1.119931   \n",
       "87387  0.608585 -0.415489  0.836140 -0.999897 -0.867784  0.053833 -0.358101   \n",
       "87407 -0.060577 -0.480153 -0.571447 -0.161473 -0.386373  0.639669  0.533180   \n",
       "87438 -0.231851  0.211250  0.648720  0.321236  0.344313  0.475061  0.594489   \n",
       "\n",
       "              7         8         9  ...      1016      1017      1018  \\\n",
       "105    0.756638  0.463805 -0.627815  ...  0.305649 -0.135865 -0.271025   \n",
       "112    0.543559  0.991329  0.229313  ...  0.319981 -0.373213 -0.615894   \n",
       "117    0.872510  1.027808  0.872063  ...  0.458427 -0.005996 -0.043152   \n",
       "128    1.137835  0.820300  0.044535  ...  0.130317  0.412327  0.014418   \n",
       "133    0.668502 -0.041566 -0.421197  ... -0.087243  0.133813 -0.076750   \n",
       "...         ...       ...       ...  ...       ...       ...       ...   \n",
       "87380  0.546167  0.759870 -0.121248  ...  0.698584  0.211146  0.066850   \n",
       "87381  1.174181  1.044679  0.028064  ...  1.390398 -1.054640  0.440998   \n",
       "87387  0.382194  0.134095  0.161360  ...  0.398527  0.178212  0.821113   \n",
       "87407  0.443756  0.097704  0.006382  ...  0.492267 -1.264138  0.734522   \n",
       "87438  0.572660  1.040656 -0.348476  ...  0.185732 -0.419778  0.855557   \n",
       "\n",
       "           1019      1020      1021      1022      1023      noun  priv  \n",
       "105   -0.151438 -0.234853 -0.049934 -1.069263 -0.391737   article    -1  \n",
       "112    0.271822 -0.657521 -0.538877 -1.375160 -0.441863   article    -1  \n",
       "117    0.327320 -0.078642 -0.101164 -0.867164 -0.521396   article    -1  \n",
       "128    0.755649 -0.843460 -0.128049 -0.966879 -0.858058   article    -1  \n",
       "133    0.115744 -0.193680  0.264048 -0.795319 -0.907033   article    -1  \n",
       "...         ...       ...       ...       ...       ...       ...   ...  \n",
       "87380 -0.222897 -0.150912 -0.376265 -1.074107  0.322007  passport    -1  \n",
       "87381 -0.254634 -0.286329 -0.700240 -0.582169  0.302576  passport    -1  \n",
       "87387  0.791539 -0.015616 -0.229806  0.081768  0.328378  passport    -1  \n",
       "87407 -0.145348 -0.375813 -0.590630  0.142282  0.518544  passport    -1  \n",
       "87438 -0.164774 -0.359340 -0.326031 -0.633887  0.369414  passport    -1  \n",
       "\n",
       "[8685 rows x 1026 columns]"
      ]
     },
     "execution_count": 4,
     "metadata": {},
     "output_type": "execute_result"
    }
   ],
   "source": [
    "# We extract 10% of the not_fake NOUNS dataset because it is too big for computations\n",
    "not_fake_samples = not_fake_nouns.loc[not_fake_nouns.sample(int(len(not_fake_nouns)/10)).index.sort_values()]\n",
    "#The preservation of class (nouns) proportions is ensured by the size of the sample (around 8700 items)\n",
    "targets_nfs = not_fake_samples['priv']\n",
    "nouns_nfs = not_fake_samples['noun']\n",
    "X_nfs = not_fake_samples.drop(columns=['priv','noun'])\n",
    "not_fake_samples"
   ]
  },
  {
   "cell_type": "code",
   "execution_count": 5,
   "metadata": {},
   "outputs": [
    {
     "data": {
      "text/plain": [
       "blood        11395\n",
       "gun          11091\n",
       "company      10802\n",
       "article      10392\n",
       "death        10323\n",
       "interview    10133\n",
       "id            9723\n",
       "passport      9247\n",
       "beard         3752\n",
       "Name: noun, dtype: int64"
      ]
     },
     "execution_count": 5,
     "metadata": {},
     "output_type": "execute_result"
    }
   ],
   "source": [
    "nouns_NFnouns.value_counts()"
   ]
  },
  {
   "cell_type": "markdown",
   "metadata": {},
   "source": [
    "## Datasets storage reminder : \n",
    "* [fake] **NOUN** : fake_nouns ; indexer ; X_Fnouns ; targets_Fnouns ; nouns_Fnouns\n",
    "* [not fake] **NOUN** : not_fake_nouns ; indexer ; X_NFnouns ; targets_NFnouns ; nouns_NFnouns\n",
    "* **sampled** [not fake] **NOUN** : not_fake_samples ; - ; X_nfs ; targets_nfs ; nouns_nfs\n",
    "* **FAKE** : fakes_embd ; indexer_fakes ; X_fakes ; targets_fakes ; nouns_fakes"
   ]
  },
  {
   "cell_type": "markdown",
   "metadata": {},
   "source": [
    "## Random Sampling"
   ]
  },
  {
   "cell_type": "code",
   "execution_count": 6,
   "metadata": {},
   "outputs": [],
   "source": [
    "def random_labeling(tolerance,df,debug=False,rng=None,out_list=False):\n",
    "    delta = tolerance*2\n",
    "    while delta > tolerance:\n",
    "        if rng:\n",
    "            rand_classes = {listNouns[k]:rng.integers(0,2) for k in range(9)}\n",
    "        else:\n",
    "            rand_classes = {listNouns[k]:np.random.randint(2) for k in range(9)}\n",
    "        rand_targets = pd.Series(data=np.ones(len(df))*-1,index=df.index)\n",
    "        for i, embd in df.iterrows():\n",
    "            if rand_classes[embd['noun']]==1:\n",
    "                rand_targets[i]=1\n",
    "        delta = np.abs(rand_targets.sum())\n",
    "    if debug:\n",
    "        print('sampling delta : ', delta)\n",
    "        print(rand_targets.value_counts())\n",
    "    if out_list:\n",
    "        return (rand_targets, rand_classes)\n",
    "    else:\n",
    "        return rand_targets"
   ]
  },
  {
   "cell_type": "code",
   "execution_count": 6,
   "metadata": {},
   "outputs": [
    {
     "name": "stdout",
     "output_type": "stream",
     "text": [
      "sampling delta :  35.0\n",
      "-1.0    317\n",
      " 1.0    282\n",
      "dtype: int64\n"
     ]
    },
    {
     "data": {
      "image/png": "[encoded data removed]",
      "text/plain": [
       "<Figure size 432x288 with 1 Axes>"
      ]
     },
     "metadata": {
      "needs_background": "light"
     },
     "output_type": "display_data"
    }
   ],
   "source": [
    "rand_targets = random_labeling(50,fakes_embd,True)\n",
    "tsneX = TSNE(n_components=2, init='pca', random_state=0)\n",
    "X_trans = tsneX.fit_transform(X_fakes).T\n",
    "\n",
    "colors_classes={-1: 'blue', 1 : 'gold'}\n",
    "\n",
    "plt.scatter(X_trans[0], X_trans[1], color=rand_targets.map(colors_classes))\n",
    "plt.title(\"t-SNE\")\n",
    "plt.axis('tight')\n",
    "plt.show()"
   ]
  },
  {
   "cell_type": "markdown",
   "metadata": {},
   "source": [
    "## Functions to test robustness"
   ]
  },
  {
   "cell_type": "markdown",
   "metadata": {},
   "source": [
    "### Banned Noun Classification (BNC)"
   ]
  },
  {
   "cell_type": "code",
   "execution_count": 7,
   "metadata": {},
   "outputs": [],
   "source": [
    "def Accuracy_BannedNoun(classifier,Xtrain,Ttrain,Xbanned,Tbanned,preprocess=None,k=2,show_kbest=False):\n",
    "    if preprocess=='pca':\n",
    "        model = make_pipeline(Scaler(),PCA(n_components=0.975),classifier)\n",
    "    else:\n",
    "        model = classifier\n",
    "    model.fit(Xtrain,Ttrain)\n",
    "    y_train = model.predict(Xtrain)\n",
    "    Tacc = np.sum(Ttrain == y_train)/len(Xtrain)\n",
    "    y_banned = model.predict(Xbanned)\n",
    "    Bacc = np.sum(Tbanned == y_banned)/len(Xbanned)\n",
    "    return (Tacc,Bacc)\n",
    "\n",
    "def BNC_accuracy(classifier,X,targets,nouns,preprocess=None,k=2,full_output=False,debug=False,show_kbest=False):\n",
    "    if debug:\n",
    "        print(\"\\rTest {} : BNC  starting%                     \".format(debug), end=\"\")\n",
    "        sys.stdout.flush()\n",
    "    Taccs = np.zeros(len(listNouns))\n",
    "    Baccs = np.zeros(len(listNouns))\n",
    "    \n",
    "    for i,bannedW in enumerate(listNouns):\n",
    "        if debug:\n",
    "            print(\"\\rTest {} : BNC for {} ; {}%             \".format(debug, bannedW, 100 * i // len(listNouns)), end=\"\")\n",
    "            sys.stdout.flush()\n",
    "        Xtrain = X[nouns!=bannedW]\n",
    "        Ttrain = targets[nouns!=bannedW]\n",
    "        if preprocess=='kbest':\n",
    "            select = SelectKBest(MIC,k).fit(Xtrain,Ttrain)\n",
    "            scaler = Scaler()\n",
    "            Xtrain = scaler.fit_transform(select.transform(Xtrain))\n",
    "            if show_kbest:\n",
    "                print(\"({})\".format(np.where(select.get_support())[0]))\n",
    "        Xbanned = X[nouns==bannedW]\n",
    "        if preprocess == 'kbest':\n",
    "            Xbanned = scaler.transform(select.transform(Xbanned))\n",
    "        Tbanned = targets[nouns==bannedW]\n",
    "        Tacc,Bacc = Accuracy_BannedNoun(classifier,Xtrain,Ttrain,Xbanned,Tbanned,preprocess,k,show_kbest)\n",
    "        Taccs[i],Baccs[i] = Tacc, Bacc\n",
    "    AvgTrain = np.mean(Taccs)\n",
    "    AvgBanned = np.mean(Baccs)\n",
    "    if full_output:\n",
    "        return (Taccs,Baccs)\n",
    "    else:\n",
    "        return (AvgTrain,AvgBanned)"
   ]
  },
  {
   "cell_type": "markdown",
   "metadata": {},
   "source": [
    "### Classical Train/Test split and classification"
   ]
  },
  {
   "cell_type": "code",
   "execution_count": 8,
   "metadata": {},
   "outputs": [],
   "source": [
    "def classical_accuracy(classifier,X,targets,nouns,preprocess=None,k=2,out_model=False):\n",
    "    #model selection\n",
    "    if preprocess=='pca':\n",
    "        model = make_pipeline(Scaler(),PCA(n_components=0.975),classifier)\n",
    "    elif preprocess=='kbest local' or preprocess=='kbest global':\n",
    "        model = make_pipeline(SelectKBest(MIC,k),Scaler(),classifier)\n",
    "    else:\n",
    "        model = classifier\n",
    "    #The training set should be balanced in term of repartition of nouns\n",
    "    Xtrain,Xtest,Ttrain,Ttest =train_test_split(X, targets, test_size=0.25, random_state=0, stratify=nouns,shuffle=True)\n",
    "    #model training and predictions\n",
    "    model.fit(Xtrain,Ttrain)\n",
    "    y_train = model.predict(Xtrain)\n",
    "    y_test = model.predict(Xtest)\n",
    "    #accuracies\n",
    "    Train_acc = np.sum(Ttrain == y_train)/len(Xtrain)\n",
    "    Test_acc = np.sum(Ttest == y_test)/len(Xtest)\n",
    "    if out_model:\n",
    "        return (Train_acc,Test_acc,model)\n",
    "    else:\n",
    "        return (Train_acc,Test_acc)"
   ]
  },
  {
   "cell_type": "code",
   "execution_count": 9,
   "metadata": {},
   "outputs": [],
   "source": [
    "priv = ['beard','blood','company','death','gun']\n",
    "non_priv = ['article','id','interview','passport']"
   ]
  },
  {
   "cell_type": "code",
   "execution_count": 10,
   "metadata": {},
   "outputs": [
    {
     "name": "stdout",
     "output_type": "stream",
     "text": [
      "% of original unbalancing : 8% in NOT FAKE ; 3% in FAKE\n"
     ]
    }
   ],
   "source": [
    "delta_not_fake = np.sum(nouns_nfs.value_counts()[priv])-np.sum(nouns_nfs.value_counts()[non_priv])\n",
    "delta_fake = np.abs(np.sum(nouns_fakes.value_counts()[priv])-np.sum(nouns_fakes.value_counts()[non_priv]))\n",
    "print('% of original unbalancing : {}% in NOT FAKE ; {}% in FAKE'.format(delta_not_fake*100//len(nouns_nfs), delta_fake*100//len(nouns_fakes)))"
   ]
  },
  {
   "cell_type": "code",
   "execution_count": 11,
   "metadata": {},
   "outputs": [],
   "source": [
    "datasets = {'FAKES': [fakes_embd, X_fakes,targets_fakes, nouns_fakes],\n",
    "            'fake NOUNS': [fake_nouns, X_Fnouns, targets_Fnouns, nouns_Fnouns],\n",
    "            'not fake NOUNS': [not_fake_samples, X_nfs, targets_nfs, nouns_nfs]\n",
    "           }\n",
    "nb_tests = 8"
   ]
  },
  {
   "cell_type": "code",
   "execution_count": 12,
   "metadata": {},
   "outputs": [],
   "source": [
    "def random_classif_process(classifier,clf_name,nb_tests,preprocess=None,k=2):\n",
    "    print(\"============================================ {} =============================================\".format(clf_name.upper()))\n",
    "    for category in datasets.keys():\n",
    "        print('--------------------------{}--------------------------'.format(category))\n",
    "        embeddings,X,T,N = datasets[category]\n",
    "        if preprocess=='tsne':\n",
    "            tsne = TSNE(n_components=k)\n",
    "            X = tsne.fit_transform(X)\n",
    "        Taccs, Gaccs = np.zeros((2,nb_tests))\n",
    "        BNC_Taccs, Baccs = np.zeros((2,nb_tests))\n",
    "        for i in range(nb_tests):\n",
    "            print(\"\\rTest {} : random sampling            \".format(i+1), end=\"\")\n",
    "            sys.stdout.flush()\n",
    "            rand_T = random_labeling(int(len(embeddings)*0.09),embeddings) #we have a tolerance of 9% the size of the dataset, since it is the difference maximum we observed in the original class repartition\n",
    "            print(\"\\rTest {} : random classif              \".format(i+1), end=\"\")\n",
    "            sys.stdout.flush()\n",
    "            Taccs[i], Gaccs[i] = classical_accuracy(classifier,X,rand_T,N,preprocess=preprocess,k=k)\n",
    "            BNC_Taccs[i], Baccs[i] = BNC_accuracy(classifier,X,rand_T,N,preprocess=preprocess,k=k,debug=i+1)\n",
    "        print('\\rAverage train accuracy : {}%   ( {}  )'.format(np.mean(Taccs).round(4)*100,np.std(Taccs).round(4)*100))\n",
    "        print('Average test accuracy : {}%   ( {}  )'.format(np.mean(Gaccs).round(4)*100,np.std(Gaccs).round(4)*100))\n",
    "        print('\\rAverage BNC train accuracy : {}%   ( {}  )'.format(np.mean(BNC_Taccs).round(4)*100,np.std(BNC_Taccs).round(4)*100))\n",
    "        print('Average BNC test accuracy : {}%   ( {}  )'.format(np.mean(Baccs).round(4)*100,np.std(Baccs).round(4)*100))"
   ]
  },
  {
   "cell_type": "code",
   "execution_count": 12,
   "metadata": {},
   "outputs": [],
   "source": [
    "def partition(n):\n",
    "    buffer = []\n",
    "    if n==1:\n",
    "        return [[0],[1]]\n",
    "    sub_list=partition(n-1)\n",
    "    for part in sub_list:\n",
    "        buffer.append([0]+part.copy())\n",
    "        buffer.append([1]+part.copy())\n",
    "    return buffer"
   ]
  },
  {
   "cell_type": "markdown",
   "metadata": {},
   "source": [
    "## Visualization of a random classification"
   ]
  },
  {
   "cell_type": "markdown",
   "metadata": {},
   "source": [
    "We will use FAKE embeddings"
   ]
  },
  {
   "cell_type": "code",
   "execution_count": 535,
   "metadata": {},
   "outputs": [],
   "source": [
    "# # Looking for a random key that output the original separation\n",
    "# privativity_dict = {'article': 0, 'beard': 1, 'blood': 1, 'company': 1, 'death': 1, 'gun': 1, 'id': 0, 'interview': 0, 'passport': 0}\n",
    "# non_privativity_dict = {n:0**privativity_dict[n] for n in privativity_dict}\n",
    "\n",
    "# i=0\n",
    "# rng = np.random.default_rng(i)\n",
    "# rand_T, rand_dict = random_labeling(int(len(fakes_embd)*0.09),fakes_embd,rng=rng,out_list=True)\n",
    "\n",
    "# while rand_dict != privativity_dict and rand_dict != non_privativity_dict:\n",
    "#     i+=1\n",
    "#     rng = np.random.default_rng(i)\n",
    "#     rand_T, rand_dict = random_labeling(int(len(fakes_embd)*0.09),fakes_embd,rng=rng,out_list=True)\n",
    "# print(i)"
   ]
  },
  {
   "cell_type": "code",
   "execution_count": 13,
   "metadata": {},
   "outputs": [],
   "source": [
    "warnings.filterwarnings('ignore') #ignore FutureWarnings"
   ]
  },
  {
   "cell_type": "code",
   "execution_count": 43,
   "metadata": {},
   "outputs": [
    {
     "name": "stdout",
     "output_type": "stream",
     "text": [
      "{'article': 0, 'beard': 0, 'blood': 1, 'company': 1, 'death': 0, 'gun': 1, 'id': 0, 'interview': 0, 'passport': 1}\n"
     ]
    },
    {
     "data": {
      "image/png": "[encoded data removed]",
      "text/plain": [
       "<Figure size 432x288 with 1 Axes>"
      ]
     },
     "metadata": {
      "needs_background": "light"
     },
     "output_type": "display_data"
    }
   ],
   "source": [
    "rng = np.random.default_rng(42) #set 26 to get original class division\n",
    "\n",
    "#Choose if you want a controlled rng or not\n",
    "#rand_T, rand_dict = random_labeling(int(len(fakes_embd)*0.09),fakes_embd,rng=rng,out_list=True)\n",
    "rand_T, rand_dict = random_labeling(int(len(fakes_embd)*0.09),fakes_embd,out_list=True)\n",
    "\n",
    "print(rand_dict)\n",
    "\n",
    "Tacc, Gacc, model = classical_accuracy(LinearSVC(max_iter=100000),X_fakes,rand_T,nouns_fakes,preprocess='kbest local',k=2,out_model=True)\n",
    "#_, Loc_Bacc = BNC_accuracy(LinearSVC(max_iter=100000),X_fakes,rand_T,nouns_fakes, preprocess='kbest local',k=2,debug=1)\n",
    "#_, Gbl_Bacc = BNC_accuracy(LinearSVC(max_iter=100000),X_fakes,rand_T,nouns_fakes, preprocess='kbest global',k=2,debug=1)\n",
    "\n",
    "\n",
    "X_fakes_trans = model[1].transform(model[0].transform(X_fakes)).T\n",
    "axes_nb = np.where(model[0].get_support())[0]\n",
    "\n",
    "colors_classes={-1: 'blue', 1 : 'gold'}\n",
    "\n",
    "w = model[2].coef_[0]\n",
    "i = model[2].intercept_[0]\n",
    "x1 = np.linspace(-2.5,2.5,10)\n",
    "a = -w[0]/w[1]\n",
    "x2 = a * x1 - i/w[1]\n",
    "colors_classes={-1: 'blue', 1 : 'gold'}\n",
    "\n",
    "plt.scatter(X_fakes_trans[0], X_fakes_trans[1], color=rand_T.map(colors_classes))\n",
    "plt.plot(x1,x2,'k--',label='Separation line')\n",
    "plt.title(\"k-best reduction (2) and random classes \\n train : {}% ; test : {}% \\n BNC local {}% ; global : {}%\".format(Tacc.round(4)*100, Gacc.round(4)*100,Loc_Bacc.round(4)*100,Gbl_Bacc.round(4)*100))\n",
    "plt.axis('tight')\n",
    "plt.xlabel('feature #' + str(axes_nb[0]))\n",
    "plt.ylabel('feature #' + str(axes_nb[1]))\n",
    "plt.show()"
   ]
  },
  {
   "cell_type": "code",
   "execution_count": 19,
   "metadata": {},
   "outputs": [
    {
     "name": "stdout",
     "output_type": "stream",
     "text": [
      "Test 1 : BNC for passport ; 88%              "
     ]
    },
    {
     "data": {
      "image/png": "[encoded data removed]",
      "text/plain": [
       "<Figure size 432x288 with 1 Axes>"
      ]
     },
     "metadata": {
      "needs_background": "light"
     },
     "output_type": "display_data"
    }
   ],
   "source": [
    "Tacc, Gacc, model = classical_accuracy(LinearSVC(max_iter=100000),X_fakes,targets_fakes,nouns_fakes,preprocess='kbest local',k=2,out_model=True)\n",
    "_, Loc_Bacc = BNC_accuracy(LinearSVC(max_iter=100000),X_fakes,targets_fakes,nouns_fakes, preprocess='kbest local',k=2,debug=1)\n",
    "_, Gbl_Bacc = BNC_accuracy(LinearSVC(max_iter=100000),X_fakes,targets_fakes,nouns_fakes, preprocess='kbest global',k=2,debug=1)\n",
    "\n",
    "\n",
    "X_fakes_trans = model[1].transform(model[0].transform(X_fakes)).T\n",
    "axes_nb = np.where(model[0].get_support())[0]\n",
    "\n",
    "colors_classes={-1: 'blue', 1 : 'gold'}\n",
    "\n",
    "w = model[2].coef_[0]\n",
    "i = model[2].intercept_[0]\n",
    "x1 = np.linspace(-2.5,2.5,10)\n",
    "a = -w[0]/w[1]\n",
    "x2 = a * x1 - i/w[1]\n",
    "colors_classes={-1: 'blue', 1 : 'gold'}\n",
    "\n",
    "plt.scatter(X_fakes_trans[0], X_fakes_trans[1], color=targets_fakes.map(colors_classes))\n",
    "plt.plot(x1,x2,'k--',label='Separation line')\n",
    "plt.title(\"k-best reduction (2) and true classes \\n train : {}% ; test : {}% \\n BNC local {}% ; global : {}%\".format(Tacc.round(4)*100, Gacc.round(4)*100,Loc_Bacc.round(4)*100,Gbl_Bacc.round(4)*100))\n",
    "plt.axis('tight')\n",
    "plt.xlabel('feature #' + str(axes_nb[0]))\n",
    "plt.ylabel('feature #' + str(axes_nb[1]))\n",
    "plt.show()"
   ]
  },
  {
   "cell_type": "code",
   "execution_count": 25,
   "metadata": {},
   "outputs": [
    {
     "name": "stdout",
     "output_type": "stream",
     "text": [
      "Test 2 : BNC for article ; 0%               ([531 617 678 727 793 816 864 914 979 999])\n",
      "Test 2 : BNC for beard ; 11%             ([531 616 685 816 861 864 878 897 914 985])\n",
      "Test 2 : BNC for blood ; 22%             ([531 620 710 802 816 864 866 897 902 914])\n",
      "Test 2 : BNC for company ; 33%             ([531 695 789 816 864 878 897 914 979 985])\n",
      "Test 2 : BNC for death ; 44%             ([531 678 726 789 816 822 864 878 914 979])\n",
      "Test 2 : BNC for gun ; 55%             ([531 678 816 822 864 878 897 914 979 985])\n",
      "Test 2 : BNC for id ; 66%             ([531 687 745 789 816 822 840 878 985 999])\n",
      "Test 2 : BNC for interview ; 77%             ([531 678 726 789 816 864 878 897 914 985])\n",
      "Test 2 : BNC for passport ; 88%             ([531 678 710 740 816 866 868 878 897 979])\n"
     ]
    },
    {
     "data": {
      "text/plain": [
       "(0.9562665929837214, 0.823032786644227)"
      ]
     },
     "execution_count": 25,
     "metadata": {},
     "output_type": "execute_result"
    }
   ],
   "source": [
    "BNC_accuracy(LinearSVC(max_iter=100000),X_fakes,targets_fakes,nouns_fakes, preprocess='kbest local',k=10,debug=2,show_kbest=True)"
   ]
  },
  {
   "cell_type": "code",
   "execution_count": 497,
   "metadata": {},
   "outputs": [
    {
     "name": "stdout",
     "output_type": "stream",
     "text": [
      "[676 985]\n"
     ]
    },
    {
     "data": {
      "text/plain": [
       "(0.8607260725479077, 0.7250925658136687)"
      ]
     },
     "execution_count": 497,
     "metadata": {},
     "output_type": "execute_result"
    }
   ],
   "source": [
    "selector = SelectKBest(MIC,2)\n",
    "X_trans = Scaler().fit_transform(selector.fit_transform(X_fakes,rand_T))\n",
    "print(\"\\r{}\".format(np.where(selector.get_support())[0]))\n",
    "BNC_accuracy(classifier,X_trans,rand_T,nouns_fakes)"
   ]
  },
  {
   "cell_type": "code",
   "execution_count": null,
   "metadata": {},
   "outputs": [],
   "source": [
    "warnings.filterwarnings('default')"
   ]
  },
  {
   "cell_type": "markdown",
   "metadata": {},
   "source": [
    "## Testing all random partitions WITH 2-KBEST (LINEAR SVM)"
   ]
  },
  {
   "cell_type": "code",
   "execution_count": 13,
   "metadata": {},
   "outputs": [],
   "source": [
    "warnings.filterwarnings('ignore')"
   ]
  },
  {
   "cell_type": "code",
   "execution_count": 14,
   "metadata": {},
   "outputs": [
    {
     "name": "stdout",
     "output_type": "stream",
     "text": [
      "original index :  9\n"
     ]
    },
    {
     "data": {
      "text/plain": [
       "88"
      ]
     },
     "execution_count": 14,
     "metadata": {},
     "output_type": "execute_result"
    }
   ],
   "source": [
    "combinaisons = partition(9)\n",
    "\n",
    "counts = nouns_fakes.value_counts(sort=False).sort_index()\n",
    "\n",
    "valid_parts = []\n",
    "for part in combinaisons :\n",
    "    target_0 = 0\n",
    "    target_1 = 0\n",
    "    for i, value in enumerate(counts):\n",
    "        if part[i]:\n",
    "            target_1 += value\n",
    "        else:\n",
    "            target_0 += value\n",
    "    if np.abs(target_0 - target_1)<int(len(fakes_embd)*0.09):\n",
    "        valid_parts.append(part)\n",
    "origin_ind_fakes = valid_parts.index([0,1,1,1,1,1,0,0,0])\n",
    "print('original index : ',origin_ind_fakes)            \n",
    "len(valid_parts)"
   ]
  },
  {
   "cell_type": "code",
   "execution_count": 16,
   "metadata": {},
   "outputs": [
    {
     "data": {
      "text/plain": [
       "44"
      ]
     },
     "execution_count": 16,
     "metadata": {},
     "output_type": "execute_result"
    }
   ],
   "source": [
    "# As expected, all valid partitions have also their symetric that is valid and in the reverse order.\n",
    "pairs = 0\n",
    "for i in range(len(valid_parts)//2):\n",
    "    if valid_parts[i]==list((np.array(valid_parts[-i-1])-1)*-1):\n",
    "        pairs+=1\n",
    "pairs"
   ]
  },
  {
   "cell_type": "code",
   "execution_count": 21,
   "metadata": {},
   "outputs": [
    {
     "name": "stdout",
     "output_type": "stream",
     "text": [
      "Test 1 : BNC for passport ; 88%              (0.9198580035878958, 0.5828963614163383)\n",
      "Test 2 : BNC for passport ; 88%              (0.9198580035878958, 0.5828963614163383)\n"
     ]
    }
   ],
   "source": [
    "part = valid_parts[0]\n",
    "\n",
    "part_classes = {listNouns[k]:part[k] for k in range(9)}\n",
    "part_targets = pd.Series(data=np.ones(len(fakes_embd))*-1,index=fakes_embd.index)\n",
    "for i, embd in fakes_embd.iterrows():\n",
    "    if part_classes[embd['noun']]==1:\n",
    "        part_targets[i]=1\n",
    "print(BNC_accuracy(LinearSVC(),X_fakes,part_targets,nouns_fakes,preprocess='kbest',k=2,debug=1))\n",
    "\n",
    "part = valid_parts[-1]\n",
    "part_classes = {listNouns[k]:part[k] for k in range(9)}\n",
    "part_targets = pd.Series(data=np.ones(len(fakes_embd))*-1,index=fakes_embd.index)\n",
    "for i, embd in fakes_embd.iterrows():\n",
    "    if part_classes[embd['noun']]==1:\n",
    "        part_targets[i]=1\n",
    "print(BNC_accuracy(LinearSVC(),X_fakes,part_targets,nouns_fakes,preprocess='kbest',k=2,debug=2))\n",
    "\n",
    "\n",
    "#The result is the same for a partition or its reverse ! So we does not need to count the symetric ones."
   ]
  },
  {
   "cell_type": "code",
   "execution_count": 17,
   "metadata": {},
   "outputs": [
    {
     "name": "stdout",
     "output_type": "stream",
     "text": [
      "Test 44 : BNC for passport ; 88%              "
     ]
    }
   ],
   "source": [
    "parts_to_test = valid_parts[:len(valid_parts)//2]\n",
    "FAKES_classic_scores = np.empty(len(parts_to_test))\n",
    "FAKES_BNC_scores = np.empty(len(parts_to_test))\n",
    "FNOUNS_classic_scores = np.empty(len(parts_to_test))\n",
    "FNOUNS_BNC_scores = np.empty(len(parts_to_test))\n",
    "\n",
    "for ind,part in enumerate(parts_to_test):\n",
    "    part_classes = {listNouns[k]:part[k] for k in range(9)}\n",
    "    part_targets = pd.Series(data=np.ones(len(fakes_embd))*-1,index=fakes_embd.index)\n",
    "    for i, embd in fakes_embd.iterrows():\n",
    "        if part_classes[embd['noun']]==1:\n",
    "            part_targets[i]=1\n",
    "    _,FAKES_classic_scores[ind] = classical_accuracy(LinearSVC(max_iter=100000),X_fakes,part_targets,nouns_fakes,preprocess='kbest',k=2)\n",
    "    _,FAKES_BNC_scores[ind] = BNC_accuracy(LinearSVC(max_iter=100000),X_fakes,part_targets,nouns_fakes,preprocess='kbest',k=2,debug=ind+1)\n",
    "    _,FNOUNS_classic_scores[ind] = classical_accuracy(LinearSVC(max_iter=100000),X_Fnouns,part_targets,nouns_Fnouns ,preprocess='kbest',k=2)\n",
    "    _,FNOUNS_BNC_scores[ind] = BNC_accuracy(LinearSVC(max_iter=100000),X_Fnouns,part_targets,nouns_Fnouns,preprocess='kbest',k=2,debug=ind+1)\n"
   ]
  },
  {
   "cell_type": "code",
   "execution_count": 18,
   "metadata": {},
   "outputs": [
    {
     "data": {
      "text/plain": [
       "0.7977901546288577"
      ]
     },
     "execution_count": 18,
     "metadata": {},
     "output_type": "execute_result"
    }
   ],
   "source": [
    "np.max(FAKES_BNC_scores)"
   ]
  },
  {
   "cell_type": "code",
   "execution_count": 19,
   "metadata": {},
   "outputs": [
    {
     "name": "stdout",
     "output_type": "stream",
     "text": [
      "0.7978 [0, 1, 1, 1, 1, 1, 0, 0, 0]  baseline (original partition)\n",
      "0.7891 [0, 1, 1, 0, 0, 1, 1, 0, 0] 15\n",
      "0.7534 [1, 1, 1, 0, 0, 0, 0, 1, 0] 20\n"
     ]
    }
   ],
   "source": [
    "high_s_fakes = FAKES_BNC_scores[FAKES_BNC_scores>0.71]\n",
    "highest_p_fakes = np.flip(np.argsort(FAKES_BNC_scores))[:len(high_s_fakes)]\n",
    "for ind in highest_p_fakes:\n",
    "    if ind == origin_ind_fakes:\n",
    "        print(FAKES_BNC_scores[origin_ind_fakes].round(4) , valid_parts[origin_ind_fakes], ' baseline (original partition)')\n",
    "    else:\n",
    "        print(FAKES_BNC_scores[ind].round(4) , valid_parts[ind], ind)"
   ]
  },
  {
   "cell_type": "code",
   "execution_count": 20,
   "metadata": {},
   "outputs": [
    {
     "name": "stdout",
     "output_type": "stream",
     "text": [
      "0.9468 [0, 1, 1, 1, 1, 1, 0, 0, 0]  baseline (original partition)\n",
      "0.7306 [1, 1, 0, 1, 1, 0, 1, 1, 0] 36\n",
      "0.7182 [0, 0, 1, 0, 1, 0, 1, 0, 0] 12\n"
     ]
    }
   ],
   "source": [
    "high_s_fnouns = FNOUNS_BNC_scores[FNOUNS_BNC_scores>0.71]\n",
    "highest_p_fnouns = np.flip(np.argsort(FNOUNS_BNC_scores))[:len(high_s_fnouns)]\n",
    "for ind in highest_p_fnouns:\n",
    "    if ind == origin_ind_fakes:\n",
    "        print(FNOUNS_BNC_scores[origin_ind_fakes].round(4) , valid_parts[origin_ind_fakes], ' baseline (original partition)')\n",
    "    else:\n",
    "        print(FNOUNS_BNC_scores[ind].round(4) , valid_parts[ind], ind)"
   ]
  },
  {
   "cell_type": "code",
   "execution_count": 45,
   "metadata": {},
   "outputs": [
    {
     "data": {
      "text/plain": [
       "['article',\n",
       " 'beard',\n",
       " 'blood',\n",
       " 'company',\n",
       " 'death',\n",
       " 'gun',\n",
       " 'id',\n",
       " 'interview',\n",
       " 'passport']"
      ]
     },
     "execution_count": 45,
     "metadata": {},
     "output_type": "execute_result"
    }
   ],
   "source": [
    "listNouns"
   ]
  },
  {
   "cell_type": "code",
   "execution_count": 44,
   "metadata": {},
   "outputs": [
    {
     "data": {
      "text/plain": [
       "[1, 0, 0, 0, 1, 1, 1, 0, 0]"
      ]
     },
     "execution_count": 44,
     "metadata": {},
     "output_type": "execute_result"
    }
   ],
   "source": [
    "valid_parts[23]"
   ]
  },
  {
   "cell_type": "code",
   "execution_count": 21,
   "metadata": {},
   "outputs": [
    {
     "data": {
      "image/png": "[encoded data removed]",
      "text/plain": [
       "<Figure size 720x288 with 2 Axes>"
      ]
     },
     "metadata": {
      "needs_background": "light"
     },
     "output_type": "display_data"
    }
   ],
   "source": [
    "fig, ax = plt.subplots(1,2,figsize=(10,4))\n",
    "ax[0].hist(FAKES_BNC_scores,bins=44,density=False)\n",
    "ax[1].hist(FNOUNS_BNC_scores,bins=44,density=False)\n",
    "ax[0].set_title('BNC Score on FAKE embeddings \\nmean : {} , std : {}'.format(np.mean(FAKES_BNC_scores).round(4)*100,np.std(FAKES_BNC_scores).round(3)*100) )\n",
    "ax[1].set_title('BNC Score on (fake)NOUN embeddings \\nmean : {} , std : {}'.format(np.mean(FNOUNS_BNC_scores).round(4)*100,np.std(FNOUNS_BNC_scores).round(4)*100))\n",
    "plt.show()"
   ]
  },
  {
   "cell_type": "code",
   "execution_count": 22,
   "metadata": {},
   "outputs": [
    {
     "data": {
      "text/plain": [
       "array([0.4369, 0.1713])"
      ]
     },
     "execution_count": 22,
     "metadata": {},
     "output_type": "execute_result"
    }
   ],
   "source": [
    "np.round((np.mean(FAKES_BNC_scores),np.std(FAKES_BNC_scores)),4)"
   ]
  },
  {
   "cell_type": "code",
   "execution_count": 23,
   "metadata": {},
   "outputs": [
    {
     "data": {
      "text/plain": [
       "array([0.4772, 0.1653])"
      ]
     },
     "execution_count": 23,
     "metadata": {},
     "output_type": "execute_result"
    }
   ],
   "source": [
    "np.round((np.mean(FNOUNS_BNC_scores),np.std(FNOUNS_BNC_scores)),4)"
   ]
  },
  {
   "cell_type": "code",
   "execution_count": 41,
   "metadata": {},
   "outputs": [
    {
     "name": "stdout",
     "output_type": "stream",
     "text": [
      "original index :  8\n",
      "nb of valid partitions :  138\n"
     ]
    }
   ],
   "source": [
    "counts = nouns_nfs.value_counts(sort=False).sort_index()\n",
    "\n",
    "valid_parts = []\n",
    "for part in combinaisons :\n",
    "    target_0 = 0\n",
    "    target_1 = 0\n",
    "    for i, value in enumerate(counts):\n",
    "        if part[i]:\n",
    "            target_1 += value\n",
    "        else:\n",
    "            target_0 += value\n",
    "    if np.abs(target_0 - target_1)<int(max(len(not_fake_samples)*0.09,targets_nfs.sum())):\n",
    "        valid_parts.append(part)\n",
    "\n",
    "origin_ind_notfakes = valid_parts.index([0,1,1,1,1,1,0,0,0])\n",
    "print('original index : ',origin_ind_notfakes)\n",
    "\n",
    "print('nb of valid partitions : ',len(valid_parts))\n",
    "\n"
   ]
  },
  {
   "cell_type": "code",
   "execution_count": 42,
   "metadata": {},
   "outputs": [
    {
     "name": "stdout",
     "output_type": "stream",
     "text": [
      "Test 41 : BNC for death ; 44%                 "
     ]
    },
    {
     "ename": "KeyboardInterrupt",
     "evalue": "",
     "output_type": "error",
     "traceback": [
      "\u001b[1;31m---------------------------------------------------------------------------\u001b[0m",
      "\u001b[1;31mKeyboardInterrupt\u001b[0m                         Traceback (most recent call last)",
      "\u001b[1;32m<ipython-input-42-4a313002e402>\u001b[0m in \u001b[0;36m<module>\u001b[1;34m\u001b[0m\n\u001b[0;32m     10\u001b[0m             \u001b[0mpart_targets\u001b[0m\u001b[1;33m[\u001b[0m\u001b[0mi\u001b[0m\u001b[1;33m]\u001b[0m\u001b[1;33m=\u001b[0m\u001b[1;36m1\u001b[0m\u001b[1;33m\u001b[0m\u001b[1;33m\u001b[0m\u001b[0m\n\u001b[0;32m     11\u001b[0m     \u001b[0m_\u001b[0m\u001b[1;33m,\u001b[0m\u001b[0mNFNOUNS_classic_scores\u001b[0m\u001b[1;33m[\u001b[0m\u001b[0mind\u001b[0m\u001b[1;33m]\u001b[0m \u001b[1;33m=\u001b[0m \u001b[0mclassical_accuracy\u001b[0m\u001b[1;33m(\u001b[0m\u001b[0mLinearSVC\u001b[0m\u001b[1;33m(\u001b[0m\u001b[0mmax_iter\u001b[0m\u001b[1;33m=\u001b[0m\u001b[1;36m100000\u001b[0m\u001b[1;33m)\u001b[0m\u001b[1;33m,\u001b[0m\u001b[0mX_nfs\u001b[0m\u001b[1;33m,\u001b[0m\u001b[0mpart_targets\u001b[0m\u001b[1;33m,\u001b[0m\u001b[0mnouns_nfs\u001b[0m \u001b[1;33m,\u001b[0m\u001b[0mpreprocess\u001b[0m\u001b[1;33m=\u001b[0m\u001b[1;34m'kbest local'\u001b[0m\u001b[1;33m,\u001b[0m\u001b[0mk\u001b[0m\u001b[1;33m=\u001b[0m\u001b[1;36m2\u001b[0m\u001b[1;33m)\u001b[0m\u001b[1;33m\u001b[0m\u001b[1;33m\u001b[0m\u001b[0m\n\u001b[1;32m---> 12\u001b[1;33m     \u001b[0m_\u001b[0m\u001b[1;33m,\u001b[0m\u001b[0mNFNOUNS_BNC_scores\u001b[0m\u001b[1;33m[\u001b[0m\u001b[0mind\u001b[0m\u001b[1;33m]\u001b[0m \u001b[1;33m=\u001b[0m \u001b[0mBNC_accuracy\u001b[0m\u001b[1;33m(\u001b[0m\u001b[0mLinearSVC\u001b[0m\u001b[1;33m(\u001b[0m\u001b[0mmax_iter\u001b[0m\u001b[1;33m=\u001b[0m\u001b[1;36m100000\u001b[0m\u001b[1;33m)\u001b[0m\u001b[1;33m,\u001b[0m\u001b[0mX_nfs\u001b[0m\u001b[1;33m,\u001b[0m\u001b[0mpart_targets\u001b[0m\u001b[1;33m,\u001b[0m\u001b[0mnouns_nfs\u001b[0m\u001b[1;33m,\u001b[0m\u001b[0mpreprocess\u001b[0m\u001b[1;33m=\u001b[0m\u001b[1;34m'kbest local'\u001b[0m\u001b[1;33m,\u001b[0m\u001b[0mk\u001b[0m\u001b[1;33m=\u001b[0m\u001b[1;36m2\u001b[0m\u001b[1;33m,\u001b[0m\u001b[0mdebug\u001b[0m\u001b[1;33m=\u001b[0m\u001b[0mind\u001b[0m\u001b[1;33m+\u001b[0m\u001b[1;36m1\u001b[0m\u001b[1;33m)\u001b[0m\u001b[1;33m\u001b[0m\u001b[1;33m\u001b[0m\u001b[0m\n\u001b[0m",
      "\u001b[1;32m<ipython-input-7-2bc4df7c4ca9>\u001b[0m in \u001b[0;36mBNC_accuracy\u001b[1;34m(classifier, X, targets, nouns, preprocess, k, full_output, debug, show_kbest)\u001b[0m\n\u001b[0;32m     29\u001b[0m         \u001b[0mTtrain\u001b[0m \u001b[1;33m=\u001b[0m \u001b[0mtargets\u001b[0m\u001b[1;33m[\u001b[0m\u001b[0mnouns\u001b[0m\u001b[1;33m!=\u001b[0m\u001b[0mbannedW\u001b[0m\u001b[1;33m]\u001b[0m\u001b[1;33m\u001b[0m\u001b[1;33m\u001b[0m\u001b[0m\n\u001b[0;32m     30\u001b[0m         \u001b[1;32mif\u001b[0m \u001b[0mpreprocess\u001b[0m\u001b[1;33m==\u001b[0m\u001b[1;34m'kbest local'\u001b[0m\u001b[1;33m:\u001b[0m\u001b[1;33m\u001b[0m\u001b[1;33m\u001b[0m\u001b[0m\n\u001b[1;32m---> 31\u001b[1;33m             \u001b[0mselect\u001b[0m \u001b[1;33m=\u001b[0m \u001b[0mSelectKBest\u001b[0m\u001b[1;33m(\u001b[0m\u001b[0mMIC\u001b[0m\u001b[1;33m,\u001b[0m\u001b[0mk\u001b[0m\u001b[1;33m)\u001b[0m\u001b[1;33m.\u001b[0m\u001b[0mfit\u001b[0m\u001b[1;33m(\u001b[0m\u001b[0mXtrain\u001b[0m\u001b[1;33m,\u001b[0m\u001b[0mTtrain\u001b[0m\u001b[1;33m)\u001b[0m\u001b[1;33m\u001b[0m\u001b[1;33m\u001b[0m\u001b[0m\n\u001b[0m\u001b[0;32m     32\u001b[0m             \u001b[0mscalr\u001b[0m \u001b[1;33m=\u001b[0m \u001b[0mScaler\u001b[0m\u001b[1;33m(\u001b[0m\u001b[1;33m)\u001b[0m\u001b[1;33m\u001b[0m\u001b[1;33m\u001b[0m\u001b[0m\n\u001b[0;32m     33\u001b[0m             \u001b[0mXtrain\u001b[0m \u001b[1;33m=\u001b[0m \u001b[0mscalr\u001b[0m\u001b[1;33m.\u001b[0m\u001b[0mfit_transform\u001b[0m\u001b[1;33m(\u001b[0m\u001b[0mselect\u001b[0m\u001b[1;33m.\u001b[0m\u001b[0mtransform\u001b[0m\u001b[1;33m(\u001b[0m\u001b[0mXtrain\u001b[0m\u001b[1;33m)\u001b[0m\u001b[1;33m)\u001b[0m\u001b[1;33m\u001b[0m\u001b[1;33m\u001b[0m\u001b[0m\n",
      "\u001b[1;32m~\\Anaconda3\\envs\\RProj\\lib\\site-packages\\sklearn\\feature_selection\\_univariate_selection.py\u001b[0m in \u001b[0;36mfit\u001b[1;34m(self, X, y)\u001b[0m\n\u001b[0;32m    350\u001b[0m \u001b[1;33m\u001b[0m\u001b[0m\n\u001b[0;32m    351\u001b[0m         \u001b[0mself\u001b[0m\u001b[1;33m.\u001b[0m\u001b[0m_check_params\u001b[0m\u001b[1;33m(\u001b[0m\u001b[0mX\u001b[0m\u001b[1;33m,\u001b[0m \u001b[0my\u001b[0m\u001b[1;33m)\u001b[0m\u001b[1;33m\u001b[0m\u001b[1;33m\u001b[0m\u001b[0m\n\u001b[1;32m--> 352\u001b[1;33m         \u001b[0mscore_func_ret\u001b[0m \u001b[1;33m=\u001b[0m \u001b[0mself\u001b[0m\u001b[1;33m.\u001b[0m\u001b[0mscore_func\u001b[0m\u001b[1;33m(\u001b[0m\u001b[0mX\u001b[0m\u001b[1;33m,\u001b[0m \u001b[0my\u001b[0m\u001b[1;33m)\u001b[0m\u001b[1;33m\u001b[0m\u001b[1;33m\u001b[0m\u001b[0m\n\u001b[0m\u001b[0;32m    353\u001b[0m         \u001b[1;32mif\u001b[0m \u001b[0misinstance\u001b[0m\u001b[1;33m(\u001b[0m\u001b[0mscore_func_ret\u001b[0m\u001b[1;33m,\u001b[0m \u001b[1;33m(\u001b[0m\u001b[0mlist\u001b[0m\u001b[1;33m,\u001b[0m \u001b[0mtuple\u001b[0m\u001b[1;33m)\u001b[0m\u001b[1;33m)\u001b[0m\u001b[1;33m:\u001b[0m\u001b[1;33m\u001b[0m\u001b[1;33m\u001b[0m\u001b[0m\n\u001b[0;32m    354\u001b[0m             \u001b[0mself\u001b[0m\u001b[1;33m.\u001b[0m\u001b[0mscores_\u001b[0m\u001b[1;33m,\u001b[0m \u001b[0mself\u001b[0m\u001b[1;33m.\u001b[0m\u001b[0mpvalues_\u001b[0m \u001b[1;33m=\u001b[0m \u001b[0mscore_func_ret\u001b[0m\u001b[1;33m\u001b[0m\u001b[1;33m\u001b[0m\u001b[0m\n",
      "\u001b[1;32m~\\Anaconda3\\envs\\RProj\\lib\\site-packages\\sklearn\\utils\\validation.py\u001b[0m in \u001b[0;36minner_f\u001b[1;34m(*args, **kwargs)\u001b[0m\n\u001b[0;32m     61\u001b[0m             \u001b[0mextra_args\u001b[0m \u001b[1;33m=\u001b[0m \u001b[0mlen\u001b[0m\u001b[1;33m(\u001b[0m\u001b[0margs\u001b[0m\u001b[1;33m)\u001b[0m \u001b[1;33m-\u001b[0m \u001b[0mlen\u001b[0m\u001b[1;33m(\u001b[0m\u001b[0mall_args\u001b[0m\u001b[1;33m)\u001b[0m\u001b[1;33m\u001b[0m\u001b[1;33m\u001b[0m\u001b[0m\n\u001b[0;32m     62\u001b[0m             \u001b[1;32mif\u001b[0m \u001b[0mextra_args\u001b[0m \u001b[1;33m<=\u001b[0m \u001b[1;36m0\u001b[0m\u001b[1;33m:\u001b[0m\u001b[1;33m\u001b[0m\u001b[1;33m\u001b[0m\u001b[0m\n\u001b[1;32m---> 63\u001b[1;33m                 \u001b[1;32mreturn\u001b[0m \u001b[0mf\u001b[0m\u001b[1;33m(\u001b[0m\u001b[1;33m*\u001b[0m\u001b[0margs\u001b[0m\u001b[1;33m,\u001b[0m \u001b[1;33m**\u001b[0m\u001b[0mkwargs\u001b[0m\u001b[1;33m)\u001b[0m\u001b[1;33m\u001b[0m\u001b[1;33m\u001b[0m\u001b[0m\n\u001b[0m\u001b[0;32m     64\u001b[0m \u001b[1;33m\u001b[0m\u001b[0m\n\u001b[0;32m     65\u001b[0m             \u001b[1;31m# extra_args > 0\u001b[0m\u001b[1;33m\u001b[0m\u001b[1;33m\u001b[0m\u001b[1;33m\u001b[0m\u001b[0m\n",
      "\u001b[1;32m~\\Anaconda3\\envs\\RProj\\lib\\site-packages\\sklearn\\feature_selection\\_mutual_info.py\u001b[0m in \u001b[0;36mmutual_info_classif\u001b[1;34m(X, y, discrete_features, n_neighbors, copy, random_state)\u001b[0m\n\u001b[0;32m    447\u001b[0m     \u001b[0mcheck_classification_targets\u001b[0m\u001b[1;33m(\u001b[0m\u001b[0my\u001b[0m\u001b[1;33m)\u001b[0m\u001b[1;33m\u001b[0m\u001b[1;33m\u001b[0m\u001b[0m\n\u001b[0;32m    448\u001b[0m     return _estimate_mi(X, y, discrete_features, True, n_neighbors,\n\u001b[1;32m--> 449\u001b[1;33m                         copy, random_state)\n\u001b[0m",
      "\u001b[1;32m~\\Anaconda3\\envs\\RProj\\lib\\site-packages\\sklearn\\feature_selection\\_mutual_info.py\u001b[0m in \u001b[0;36m_estimate_mi\u001b[1;34m(X, y, discrete_features, discrete_target, n_neighbors, copy, random_state)\u001b[0m\n\u001b[0;32m    284\u001b[0m \u001b[1;33m\u001b[0m\u001b[0m\n\u001b[0;32m    285\u001b[0m     mi = [_compute_mi(x, y, discrete_feature, discrete_target, n_neighbors) for\n\u001b[1;32m--> 286\u001b[1;33m           x, discrete_feature in zip(_iterate_columns(X), discrete_mask)]\n\u001b[0m\u001b[0;32m    287\u001b[0m \u001b[1;33m\u001b[0m\u001b[0m\n\u001b[0;32m    288\u001b[0m     \u001b[1;32mreturn\u001b[0m \u001b[0mnp\u001b[0m\u001b[1;33m.\u001b[0m\u001b[0marray\u001b[0m\u001b[1;33m(\u001b[0m\u001b[0mmi\u001b[0m\u001b[1;33m)\u001b[0m\u001b[1;33m\u001b[0m\u001b[1;33m\u001b[0m\u001b[0m\n",
      "\u001b[1;32m~\\Anaconda3\\envs\\RProj\\lib\\site-packages\\sklearn\\feature_selection\\_mutual_info.py\u001b[0m in \u001b[0;36m<listcomp>\u001b[1;34m(.0)\u001b[0m\n\u001b[0;32m    284\u001b[0m \u001b[1;33m\u001b[0m\u001b[0m\n\u001b[0;32m    285\u001b[0m     mi = [_compute_mi(x, y, discrete_feature, discrete_target, n_neighbors) for\n\u001b[1;32m--> 286\u001b[1;33m           x, discrete_feature in zip(_iterate_columns(X), discrete_mask)]\n\u001b[0m\u001b[0;32m    287\u001b[0m \u001b[1;33m\u001b[0m\u001b[0m\n\u001b[0;32m    288\u001b[0m     \u001b[1;32mreturn\u001b[0m \u001b[0mnp\u001b[0m\u001b[1;33m.\u001b[0m\u001b[0marray\u001b[0m\u001b[1;33m(\u001b[0m\u001b[0mmi\u001b[0m\u001b[1;33m)\u001b[0m\u001b[1;33m\u001b[0m\u001b[1;33m\u001b[0m\u001b[0m\n",
      "\u001b[1;32m~\\Anaconda3\\envs\\RProj\\lib\\site-packages\\sklearn\\feature_selection\\_mutual_info.py\u001b[0m in \u001b[0;36m_compute_mi\u001b[1;34m(x, y, x_discrete, y_discrete, n_neighbors)\u001b[0m\n\u001b[0;32m    156\u001b[0m         \u001b[1;32mreturn\u001b[0m \u001b[0m_compute_mi_cd\u001b[0m\u001b[1;33m(\u001b[0m\u001b[0my\u001b[0m\u001b[1;33m,\u001b[0m \u001b[0mx\u001b[0m\u001b[1;33m,\u001b[0m \u001b[0mn_neighbors\u001b[0m\u001b[1;33m)\u001b[0m\u001b[1;33m\u001b[0m\u001b[1;33m\u001b[0m\u001b[0m\n\u001b[0;32m    157\u001b[0m     \u001b[1;32melif\u001b[0m \u001b[1;32mnot\u001b[0m \u001b[0mx_discrete\u001b[0m \u001b[1;32mand\u001b[0m \u001b[0my_discrete\u001b[0m\u001b[1;33m:\u001b[0m\u001b[1;33m\u001b[0m\u001b[1;33m\u001b[0m\u001b[0m\n\u001b[1;32m--> 158\u001b[1;33m         \u001b[1;32mreturn\u001b[0m \u001b[0m_compute_mi_cd\u001b[0m\u001b[1;33m(\u001b[0m\u001b[0mx\u001b[0m\u001b[1;33m,\u001b[0m \u001b[0my\u001b[0m\u001b[1;33m,\u001b[0m \u001b[0mn_neighbors\u001b[0m\u001b[1;33m)\u001b[0m\u001b[1;33m\u001b[0m\u001b[1;33m\u001b[0m\u001b[0m\n\u001b[0m\u001b[0;32m    159\u001b[0m     \u001b[1;32melse\u001b[0m\u001b[1;33m:\u001b[0m\u001b[1;33m\u001b[0m\u001b[1;33m\u001b[0m\u001b[0m\n\u001b[0;32m    160\u001b[0m         \u001b[1;32mreturn\u001b[0m \u001b[0m_compute_mi_cc\u001b[0m\u001b[1;33m(\u001b[0m\u001b[0mx\u001b[0m\u001b[1;33m,\u001b[0m \u001b[0my\u001b[0m\u001b[1;33m,\u001b[0m \u001b[0mn_neighbors\u001b[0m\u001b[1;33m)\u001b[0m\u001b[1;33m\u001b[0m\u001b[1;33m\u001b[0m\u001b[0m\n",
      "\u001b[1;32m~\\Anaconda3\\envs\\RProj\\lib\\site-packages\\sklearn\\feature_selection\\_mutual_info.py\u001b[0m in \u001b[0;36m_compute_mi_cd\u001b[1;34m(c, d, n_neighbors)\u001b[0m\n\u001b[0;32m    135\u001b[0m \u001b[1;33m\u001b[0m\u001b[0m\n\u001b[0;32m    136\u001b[0m     \u001b[0mkd\u001b[0m \u001b[1;33m=\u001b[0m \u001b[0mKDTree\u001b[0m\u001b[1;33m(\u001b[0m\u001b[0mc\u001b[0m\u001b[1;33m)\u001b[0m\u001b[1;33m\u001b[0m\u001b[1;33m\u001b[0m\u001b[0m\n\u001b[1;32m--> 137\u001b[1;33m     \u001b[0mm_all\u001b[0m \u001b[1;33m=\u001b[0m \u001b[0mkd\u001b[0m\u001b[1;33m.\u001b[0m\u001b[0mquery_radius\u001b[0m\u001b[1;33m(\u001b[0m\u001b[0mc\u001b[0m\u001b[1;33m,\u001b[0m \u001b[0mradius\u001b[0m\u001b[1;33m,\u001b[0m \u001b[0mcount_only\u001b[0m\u001b[1;33m=\u001b[0m\u001b[1;32mTrue\u001b[0m\u001b[1;33m,\u001b[0m \u001b[0mreturn_distance\u001b[0m\u001b[1;33m=\u001b[0m\u001b[1;32mFalse\u001b[0m\u001b[1;33m)\u001b[0m\u001b[1;33m\u001b[0m\u001b[1;33m\u001b[0m\u001b[0m\n\u001b[0m\u001b[0;32m    138\u001b[0m     \u001b[0mm_all\u001b[0m \u001b[1;33m=\u001b[0m \u001b[0mnp\u001b[0m\u001b[1;33m.\u001b[0m\u001b[0marray\u001b[0m\u001b[1;33m(\u001b[0m\u001b[0mm_all\u001b[0m\u001b[1;33m)\u001b[0m \u001b[1;33m-\u001b[0m \u001b[1;36m1.0\u001b[0m\u001b[1;33m\u001b[0m\u001b[1;33m\u001b[0m\u001b[0m\n\u001b[0;32m    139\u001b[0m \u001b[1;33m\u001b[0m\u001b[0m\n",
      "\u001b[1;31mKeyboardInterrupt\u001b[0m: "
     ]
    }
   ],
   "source": [
    "parts_to_test = valid_parts[:len(valid_parts)//2]\n",
    "NFNOUNS_classic_scores = np.empty(len(parts_to_test))\n",
    "NFNOUNS_BNC_scores = np.empty(len(parts_to_test))\n",
    "\n",
    "for ind,part in enumerate(parts_to_test):\n",
    "    part_classes = {listNouns[k]:part[k] for k in range(9)}\n",
    "    part_targets = pd.Series(data=np.ones(len(not_fake_samples))*-1,index=not_fake_samples.index)\n",
    "    for i, embd in not_fake_samples.iterrows():\n",
    "        if part_classes[embd['noun']]==1:\n",
    "            part_targets[i]=1\n",
    "    _,NFNOUNS_classic_scores[ind] = classical_accuracy(LinearSVC(max_iter=100000),X_nfs,part_targets,nouns_nfs ,preprocess='kbest',k=2)\n",
    "    _,NFNOUNS_BNC_scores[ind] = BNC_accuracy(LinearSVC(max_iter=100000),X_nfs,part_targets,nouns_nfs,preprocess='kbest',k=2,debug=ind+1)\n"
   ]
  },
  {
   "cell_type": "code",
   "execution_count": null,
   "metadata": {},
   "outputs": [],
   "source": [
    "np.max(NFNOUNS_BNC_scores)"
   ]
  },
  {
   "cell_type": "code",
   "execution_count": null,
   "metadata": {},
   "outputs": [],
   "source": [
    "high_s_nfnouns = NFNOUNS_BNC_scores[NFNOUNS_BNC_scores>0.71]\n",
    "highest_p_nfnouns = np.flip(np.argsort(NFNOUNS_BNC_scores))[:len(high_s_nfnouns)]\n",
    "for ind in highest_p_nfnouns:\n",
    "    if ind == origin_ind_notfakes:\n",
    "        print(NFNOUNS_BNC_scores[origin_ind_notfakes].round(4) , valid_parts[origin_ind_notfakes], ' baseline (original partition)')\n",
    "    else:\n",
    "        print(NFNOUNS_BNC_scores[ind].round(4) , valid_parts[ind], ind)"
   ]
  },
  {
   "cell_type": "code",
   "execution_count": null,
   "metadata": {},
   "outputs": [],
   "source": [
    "plt.hist(NFNOUNS_BNC_scores,bins=len(NFNOUNS_BNC_scores),density=False)\n",
    "plt.title('BNC Score on (not fake)NOUN embeddings')\n",
    "plt.show()"
   ]
  },
  {
   "cell_type": "code",
   "execution_count": null,
   "metadata": {},
   "outputs": [],
   "source": [
    "fig, ax = plt.subplots(1,3,figsize=(20,5))\n",
    "ax[0].hist(FAKES_BNC_scores,bins=len(FAKES_BNC_scores),density=False, label='{} partitions'.format(len(FAKES_BNC_scores)))\n",
    "ax[1].hist(FNOUNS_BNC_scores,bins=len(FNOUNS_BNC_scores),density=False, label='{} partitions'.format(len(FNOUNS_BNC_scores)))\n",
    "ax[2].hist(NFNOUNS_BNC_scores,bins=len(NFNOUNS_BNC_scores),density=False, label='{} partitions'.format(len(NFNOUNS_BNC_scores)))\n",
    "\n",
    "ax[0].set_title('BNC Score on FAKE embeddings \\nmean : {} , std : {}'.format(np.mean(FAKES_BNC_scores).round(4)*100,np.std(FAKES_BNC_scores).round(3)*100) )\n",
    "ax[1].set_title('BNC Score on (fake)NOUN embeddings \\nmean : {} , std : {}'.format(np.mean(FNOUNS_BNC_scores).round(4)*100,np.std(FNOUNS_BNC_scores).round(4)*100))\n",
    "ax[2].set_title('BNC Score on (not fake)NOUN embeddings \\n mean : {} , std : {}'.format(np.mean(NFNOUNS_BNC_scores).round(4)*100,np.std(NFNOUNS_BNC_scores).round(4)*100))\n",
    "\n",
    "ax[0].legend()\n",
    "ax[1].legend()\n",
    "ax[2].legend()\n",
    "\n",
    "plt.savefig('random_scores_ELMo_kbest.png',dpi=300)\n",
    "plt.show()"
   ]
  },
  {
   "cell_type": "code",
   "execution_count": null,
   "metadata": {},
   "outputs": [],
   "source": [
    "warnings.filterwarnings('default')"
   ]
  },
  {
   "cell_type": "markdown",
   "metadata": {},
   "source": [
    "## Testing all random partitions WITH 10-KBEST (LINEAR SVM)"
   ]
  },
  {
   "cell_type": "code",
   "execution_count": 15,
   "metadata": {},
   "outputs": [],
   "source": [
    "warnings.filterwarnings('ignore')"
   ]
  },
  {
   "cell_type": "code",
   "execution_count": 16,
   "metadata": {},
   "outputs": [
    {
     "name": "stdout",
     "output_type": "stream",
     "text": [
      "original index :  9\n"
     ]
    },
    {
     "data": {
      "text/plain": [
       "88"
      ]
     },
     "execution_count": 16,
     "metadata": {},
     "output_type": "execute_result"
    }
   ],
   "source": [
    "\n",
    "combinaisons = partition(9)\n",
    "\n",
    "counts = nouns_fakes.value_counts(sort=False).sort_index()\n",
    "\n",
    "valid_parts = []\n",
    "for part in combinaisons :\n",
    "    target_0 = 0\n",
    "    target_1 = 0\n",
    "    for i, value in enumerate(counts):\n",
    "        if part[i]:\n",
    "            target_1 += value\n",
    "        else:\n",
    "            target_0 += value\n",
    "    if np.abs(target_0 - target_1)<int(len(fakes_embd)*0.09):\n",
    "        valid_parts.append(part)\n",
    "origin_ind_fakes = valid_parts.index([0,1,1,1,1,1,0,0,0])\n",
    "print('original index : ',origin_ind_fakes)            \n",
    "len(valid_parts)"
   ]
  },
  {
   "cell_type": "code",
   "execution_count": 17,
   "metadata": {},
   "outputs": [
    {
     "data": {
      "text/plain": [
       "44"
      ]
     },
     "execution_count": 17,
     "metadata": {},
     "output_type": "execute_result"
    }
   ],
   "source": [
    "# As expected, all valid partitions have also their symetric that is valid and in the reverse order.\n",
    "pairs = 0\n",
    "for i in range(len(valid_parts)//2):\n",
    "    if valid_parts[i]==list((np.array(valid_parts[-i-1])-1)*-1):\n",
    "        pairs+=1\n",
    "pairs"
   ]
  },
  {
   "cell_type": "code",
   "execution_count": 20,
   "metadata": {},
   "outputs": [
    {
     "name": "stdout",
     "output_type": "stream",
     "text": [
      "Test 44 : BNC for passport ; 88%              "
     ]
    }
   ],
   "source": [
    "parts_to_test = valid_parts[:len(valid_parts)//2]\n",
    "FAKES_classic_scores = np.empty(len(parts_to_test))\n",
    "FAKES_BNC_scores = np.empty(len(parts_to_test))\n",
    "FNOUNS_classic_scores = np.empty(len(parts_to_test))\n",
    "FNOUNS_BNC_scores = np.empty(len(parts_to_test))\n",
    "\n",
    "for ind,part in enumerate(parts_to_test):\n",
    "    part_classes = {listNouns[k]:part[k] for k in range(9)}\n",
    "    part_targets = pd.Series(data=np.ones(len(fakes_embd))*-1,index=fakes_embd.index)\n",
    "    for i, embd in fakes_embd.iterrows():\n",
    "        if part_classes[embd['noun']]==1:\n",
    "            part_targets[i]=1\n",
    "    _,FAKES_classic_scores[ind] = classical_accuracy(LinearSVC(max_iter=100000),X_fakes,part_targets,nouns_fakes,preprocess='kbest',k=10)\n",
    "    _,FAKES_BNC_scores[ind] = BNC_accuracy(LinearSVC(max_iter=100000),X_fakes,part_targets,nouns_fakes,preprocess='kbest',k=10,debug=ind+1)\n",
    "    _,FNOUNS_classic_scores[ind] = classical_accuracy(LinearSVC(max_iter=100000),X_Fnouns,part_targets,nouns_Fnouns ,preprocess='kbest',k=10)\n",
    "    _,FNOUNS_BNC_scores[ind] = BNC_accuracy(LinearSVC(max_iter=100000),X_Fnouns,part_targets,nouns_Fnouns,preprocess='kbest',k=10,debug=ind+1)\n"
   ]
  },
  {
   "cell_type": "code",
   "execution_count": 21,
   "metadata": {},
   "outputs": [
    {
     "data": {
      "text/plain": [
       "0.823032786644227"
      ]
     },
     "execution_count": 21,
     "metadata": {},
     "output_type": "execute_result"
    }
   ],
   "source": [
    "np.max(FAKES_BNC_scores)"
   ]
  },
  {
   "cell_type": "code",
   "execution_count": 22,
   "metadata": {},
   "outputs": [
    {
     "name": "stdout",
     "output_type": "stream",
     "text": [
      "0.823 [0, 1, 1, 1, 1, 1, 0, 0, 0]  baseline (original partition)\n",
      "0.7195 [0, 1, 1, 0, 0, 0, 1, 0, 0] 10\n",
      "0.6576 [1, 0, 0, 1, 1, 0, 1, 1, 0] 35\n",
      "0.6518 [0, 1, 1, 1, 1, 1, 0, 1, 0] 28\n",
      "0.6399 [0, 1, 1, 0, 0, 1, 1, 0, 0] 15\n",
      "0.6227 [1, 1, 1, 0, 0, 0, 0, 1, 0] 20\n",
      "0.6026 [0, 0, 1, 0, 1, 0, 1, 0, 0] 12\n",
      "0.5983 [1, 0, 1, 1, 1, 0, 0, 0, 0] 4\n",
      "0.5762 [1, 1, 1, 0, 0, 1, 0, 0, 0] 5\n",
      "0.5396 [0, 0, 1, 1, 1, 1, 0, 1, 0] 27\n",
      "0.5371 [1, 1, 0, 1, 1, 0, 1, 1, 0] 36\n",
      "0.5304 [1, 0, 1, 0, 1, 0, 0, 0, 0] 2\n",
      "0.5239 [0, 0, 1, 1, 1, 0, 1, 0, 0] 14\n",
      "0.5165 [1, 0, 0, 1, 1, 1, 1, 1, 0] 43\n",
      "0.5124 [1, 1, 1, 0, 0, 0, 0, 0, 0] 0\n",
      "0.5021 [0, 1, 1, 0, 1, 1, 0, 1, 0] 26\n",
      "0.4926 [1, 1, 0, 0, 1, 1, 1, 1, 0] 42\n",
      "0.4708 [0, 0, 1, 0, 1, 0, 1, 1, 0] 34\n",
      "0.46 [1, 1, 0, 0, 1, 0, 1, 1, 0] 33\n",
      "0.4445 [1, 1, 0, 1, 1, 0, 1, 0, 0] 13\n",
      "0.4416 [1, 1, 1, 1, 0, 0, 0, 0, 0] 1\n",
      "0.4276 [0, 1, 1, 1, 0, 0, 1, 0, 0] 11\n"
     ]
    }
   ],
   "source": [
    "high_s_fakes = FAKES_BNC_scores[FAKES_BNC_scores>np.mean(FAKES_BNC_scores)]\n",
    "highest_p_fakes = np.flip(np.argsort(FAKES_BNC_scores))[:len(high_s_fakes)]\n",
    "for ind in highest_p_fakes:\n",
    "    if ind == origin_ind_fakes:\n",
    "        print(FAKES_BNC_scores[origin_ind_fakes].round(4) , valid_parts[origin_ind_fakes], ' baseline (original partition)')\n",
    "    else:\n",
    "        print(FAKES_BNC_scores[ind].round(4) , valid_parts[ind], ind)"
   ]
  },
  {
   "cell_type": "code",
   "execution_count": 23,
   "metadata": {},
   "outputs": [
    {
     "name": "stdout",
     "output_type": "stream",
     "text": [
      "0.8206 [1, 1, 0, 1, 0, 1, 1, 1, 0] 39\n",
      "0.7162 [0, 1, 1, 0, 1, 1, 0, 1, 0] 26\n",
      "0.701 [0, 0, 1, 0, 1, 0, 1, 0, 0] 12\n",
      "0.6805 [1, 1, 0, 1, 0, 0, 1, 1, 0] 31\n",
      "0.6792 [0, 0, 1, 1, 0, 0, 1, 1, 0] 32\n",
      "0.6724 [1, 0, 0, 1, 1, 0, 1, 1, 0] 35\n",
      "0.6702 [0, 1, 1, 0, 0, 1, 1, 0, 0] 15\n",
      "0.6317 [0, 1, 1, 1, 0, 0, 1, 0, 0] 11\n",
      "0.6262 [0, 1, 1, 1, 1, 1, 0, 0, 0]  baseline (original partition)\n",
      "0.6194 [0, 0, 1, 0, 1, 1, 1, 0, 0] 18\n",
      "0.6067 [0, 0, 1, 0, 1, 0, 1, 1, 0] 34\n",
      "0.6054 [1, 1, 0, 0, 1, 0, 1, 1, 0] 33\n",
      "0.5844 [0, 0, 1, 1, 0, 1, 1, 1, 0] 40\n",
      "0.5521 [1, 0, 1, 0, 1, 0, 0, 1, 0] 22\n",
      "0.5322 [1, 0, 1, 0, 1, 1, 0, 0, 0] 8\n",
      "0.5234 [1, 0, 1, 0, 1, 0, 0, 0, 0] 2\n",
      "0.5053 [1, 1, 0, 1, 1, 0, 1, 1, 0] 36\n",
      "0.5001 [1, 1, 1, 0, 0, 0, 0, 1, 0] 20\n",
      "0.4966 [1, 0, 1, 1, 1, 0, 0, 0, 0] 4\n",
      "0.4957 [1, 1, 0, 1, 1, 1, 1, 0, 0] 19\n",
      "0.4766 [1, 1, 1, 0, 1, 0, 0, 0, 0] 3\n",
      "0.4719 [1, 1, 0, 0, 1, 1, 1, 1, 0] 42\n",
      "0.4693 [1, 0, 0, 1, 1, 1, 1, 1, 0] 43\n",
      "0.4684 [0, 1, 1, 1, 1, 1, 0, 1, 0] 28\n"
     ]
    }
   ],
   "source": [
    "high_s_fnouns = FNOUNS_BNC_scores[FNOUNS_BNC_scores>np.mean(FNOUNS_BNC_scores)]\n",
    "highest_p_fnouns = np.flip(np.argsort(FNOUNS_BNC_scores))[:len(high_s_fnouns)]\n",
    "for ind in highest_p_fnouns:\n",
    "    if ind == origin_ind_fakes:\n",
    "        print(FNOUNS_BNC_scores[origin_ind_fakes].round(4) , valid_parts[origin_ind_fakes], ' baseline (original partition)')\n",
    "    else:\n",
    "        print(FNOUNS_BNC_scores[ind].round(4) , valid_parts[ind], ind)"
   ]
  },
  {
   "cell_type": "code",
   "execution_count": 24,
   "metadata": {},
   "outputs": [
    {
     "data": {
      "image/png": "[encoded data removed]",
      "text/plain": [
       "<Figure size 720x288 with 2 Axes>"
      ]
     },
     "metadata": {
      "needs_background": "light"
     },
     "output_type": "display_data"
    }
   ],
   "source": [
    "fig, ax = plt.subplots(1,2,figsize=(10,4))\n",
    "ax[0].hist(FAKES_BNC_scores,bins=44,density=False)\n",
    "ax[1].hist(FNOUNS_BNC_scores,bins=44,density=False)\n",
    "ax[0].set_title('BNC Score on FAKE embeddings \\nmean : {} , std : {}'.format(np.mean(FAKES_BNC_scores).round(4)*100,np.std(FAKES_BNC_scores).round(3)*100) )\n",
    "ax[1].set_title('BNC Score on (fake)NOUN embeddings \\nmean : {} , std : {}'.format(np.mean(FNOUNS_BNC_scores).round(4)*100,np.std(FNOUNS_BNC_scores).round(4)*100))\n",
    "plt.show()"
   ]
  },
  {
   "cell_type": "code",
   "execution_count": 25,
   "metadata": {},
   "outputs": [
    {
     "data": {
      "text/plain": [
       "array([0.4213, 0.1669])"
      ]
     },
     "execution_count": 25,
     "metadata": {},
     "output_type": "execute_result"
    }
   ],
   "source": [
    "np.round((np.mean(FAKES_BNC_scores),np.std(FAKES_BNC_scores)),4)"
   ]
  },
  {
   "cell_type": "code",
   "execution_count": 26,
   "metadata": {},
   "outputs": [
    {
     "data": {
      "text/plain": [
       "array([0.4677, 0.1637])"
      ]
     },
     "execution_count": 26,
     "metadata": {},
     "output_type": "execute_result"
    }
   ],
   "source": [
    "np.round((np.mean(FNOUNS_BNC_scores),np.std(FNOUNS_BNC_scores)),4)"
   ]
  },
  {
   "cell_type": "code",
   "execution_count": 27,
   "metadata": {},
   "outputs": [
    {
     "name": "stdout",
     "output_type": "stream",
     "text": [
      "original index :  9\n",
      "nb of valid partitions :  138\n"
     ]
    }
   ],
   "source": [
    "counts = nouns_nfs.value_counts(sort=False).sort_index()\n",
    "\n",
    "valid_parts = []\n",
    "for part in combinaisons :\n",
    "    target_0 = 0\n",
    "    target_1 = 0\n",
    "    for i, value in enumerate(counts):\n",
    "        if part[i]:\n",
    "            target_1 += value\n",
    "        else:\n",
    "            target_0 += value\n",
    "    if np.abs(target_0 - target_1)<=int(max(len(not_fake_samples)*0.09,targets_nfs.sum())):\n",
    "        valid_parts.append(part)\n",
    "\n",
    "origin_ind_notfakes = valid_parts.index([0,1,1,1,1,1,0,0,0])\n",
    "print('original index : ',origin_ind_notfakes)\n",
    "\n",
    "print('nb of valid partitions : ',len(valid_parts))\n",
    "\n"
   ]
  },
  {
   "cell_type": "code",
   "execution_count": 28,
   "metadata": {},
   "outputs": [
    {
     "name": "stdout",
     "output_type": "stream",
     "text": [
      "Test 69 : BNC for passport ; 88%              "
     ]
    }
   ],
   "source": [
    "parts_to_test = valid_parts[:len(valid_parts)//2]\n",
    "NFNOUNS_classic_scores = np.empty(len(parts_to_test))\n",
    "NFNOUNS_BNC_scores = np.empty(len(parts_to_test))\n",
    "\n",
    "for ind,part in enumerate(parts_to_test):\n",
    "    part_classes = {listNouns[k]:part[k] for k in range(9)}\n",
    "    part_targets = pd.Series(data=np.ones(len(not_fake_samples))*-1,index=not_fake_samples.index)\n",
    "    for i, embd in not_fake_samples.iterrows():\n",
    "        if part_classes[embd['noun']]==1:\n",
    "            part_targets[i]=1\n",
    "    _,NFNOUNS_classic_scores[ind] = classical_accuracy(LinearSVC(max_iter=100000),X_nfs,part_targets,nouns_nfs ,preprocess='kbest',k=10)\n",
    "    _,NFNOUNS_BNC_scores[ind] = BNC_accuracy(LinearSVC(max_iter=100000),X_nfs,part_targets,nouns_nfs,preprocess='kbest',k=10,debug=ind+1)\n"
   ]
  },
  {
   "cell_type": "code",
   "execution_count": 29,
   "metadata": {},
   "outputs": [
    {
     "data": {
      "text/plain": [
       "0.8371000451914827"
      ]
     },
     "execution_count": 29,
     "metadata": {},
     "output_type": "execute_result"
    }
   ],
   "source": [
    "np.max(NFNOUNS_BNC_scores)"
   ]
  },
  {
   "cell_type": "code",
   "execution_count": 30,
   "metadata": {},
   "outputs": [
    {
     "name": "stdout",
     "output_type": "stream",
     "text": [
      "0.8371 [1, 0, 0, 1, 0, 0, 1, 1, 0] 51\n",
      "0.7962 [0, 1, 1, 1, 1, 1, 0, 0, 0]  baseline (original partition)\n",
      "0.7876 [1, 0, 0, 0, 1, 1, 0, 1, 0] 43\n",
      "0.7647 [1, 0, 1, 0, 1, 0, 0, 1, 0] 32\n",
      "0.7499 [1, 0, 0, 0, 1, 0, 1, 1, 0] 55\n",
      "0.7286 [1, 1, 1, 0, 1, 1, 0, 0, 0] 5\n",
      "0.7151 [1, 1, 0, 1, 0, 0, 1, 1, 0] 52\n",
      "0.632 [0, 0, 1, 1, 1, 0, 0, 1, 0] 36\n",
      "0.6307 [1, 1, 0, 1, 0, 1, 0, 1, 0] 41\n",
      "0.6288 [1, 1, 1, 0, 0, 1, 1, 0, 0] 19\n",
      "0.6097 [0, 1, 1, 0, 1, 0, 1, 1, 0] 58\n",
      "0.609 [1, 0, 0, 1, 1, 0, 0, 1, 0] 34\n",
      "0.6052 [1, 1, 1, 0, 0, 0, 1, 1, 0] 50\n",
      "0.5814 [1, 0, 1, 1, 1, 0, 0, 0, 0] 0\n",
      "0.5704 [1, 1, 0, 0, 1, 1, 0, 1, 0] 44\n",
      "0.5652 [0, 0, 1, 1, 1, 1, 0, 0, 0] 8\n",
      "0.5586 [0, 1, 1, 0, 1, 1, 1, 0, 0] 27\n",
      "0.5585 [0, 1, 1, 1, 0, 1, 1, 0, 0] 23\n",
      "0.5577 [1, 1, 1, 0, 1, 0, 0, 1, 0] 33\n",
      "0.5483 [1, 1, 1, 1, 1, 0, 0, 0, 0] 1\n",
      "0.5297 [0, 0, 0, 1, 1, 0, 1, 1, 0] 59\n",
      "0.528 [0, 1, 1, 1, 1, 0, 0, 1, 0] 37\n",
      "0.4913 [1, 0, 0, 0, 0, 1, 1, 1, 0] 61\n",
      "0.4874 [1, 1, 0, 1, 1, 0, 0, 1, 0] 35\n",
      "0.4856 [1, 1, 0, 1, 1, 1, 0, 0, 0] 7\n",
      "0.4717 [0, 1, 0, 1, 1, 1, 1, 0, 0] 29\n",
      "0.4631 [1, 1, 0, 0, 1, 0, 1, 1, 0] 56\n",
      "0.4564 [1, 0, 1, 1, 0, 0, 0, 1, 0] 30\n",
      "0.4541 [1, 0, 0, 1, 0, 1, 0, 1, 0] 40\n",
      "0.4536 [0, 0, 1, 0, 1, 0, 1, 1, 0] 57\n",
      "0.4472 [0, 0, 1, 1, 0, 1, 1, 0, 0] 22\n",
      "0.4467 [0, 1, 1, 0, 1, 1, 0, 1, 0] 46\n",
      "0.4414 [1, 0, 1, 0, 1, 1, 0, 0, 0] 4\n"
     ]
    }
   ],
   "source": [
    "high_s_nfnouns = NFNOUNS_BNC_scores[NFNOUNS_BNC_scores>np.mean(NFNOUNS_BNC_scores)]\n",
    "highest_p_nfnouns = np.flip(np.argsort(NFNOUNS_BNC_scores))[:len(high_s_nfnouns)]\n",
    "for ind in highest_p_nfnouns:\n",
    "    if ind == origin_ind_notfakes:\n",
    "        print(NFNOUNS_BNC_scores[origin_ind_notfakes].round(4) , valid_parts[origin_ind_notfakes], ' baseline (original partition)')\n",
    "    else:\n",
    "        print(NFNOUNS_BNC_scores[ind].round(4) , valid_parts[ind], ind)"
   ]
  },
  {
   "cell_type": "code",
   "execution_count": 31,
   "metadata": {},
   "outputs": [
    {
     "data": {
      "image/png": "[encoded data removed]",
      "text/plain": [
       "<Figure size 432x288 with 1 Axes>"
      ]
     },
     "metadata": {
      "needs_background": "light"
     },
     "output_type": "display_data"
    }
   ],
   "source": [
    "plt.hist(NFNOUNS_BNC_scores,bins=len(NFNOUNS_BNC_scores),density=False)\n",
    "plt.title('BNC Score on (not fake)NOUN embeddings')\n",
    "plt.show()"
   ]
  },
  {
   "cell_type": "code",
   "execution_count": 32,
   "metadata": {},
   "outputs": [
    {
     "data": {
      "image/png": "[encoded data removed]",
      "text/plain": [
       "<Figure size 1440x360 with 3 Axes>"
      ]
     },
     "metadata": {
      "needs_background": "light"
     },
     "output_type": "display_data"
    }
   ],
   "source": [
    "fig, ax = plt.subplots(1,3,figsize=(20,5))\n",
    "ax[0].hist(FAKES_BNC_scores,bins=len(FAKES_BNC_scores),density=False, label='{} partitions'.format(len(FAKES_BNC_scores)))\n",
    "ax[1].hist(FNOUNS_BNC_scores,bins=len(FNOUNS_BNC_scores),density=False, label='{} partitions'.format(len(FNOUNS_BNC_scores)))\n",
    "ax[2].hist(NFNOUNS_BNC_scores,bins=len(NFNOUNS_BNC_scores),density=False, label='{} partitions'.format(len(NFNOUNS_BNC_scores)))\n",
    "\n",
    "ax[0].set_title('BNC Score on FAKE embeddings \\nmean : {} , std : {}'.format(np.mean(FAKES_BNC_scores).round(4)*100,np.std(FAKES_BNC_scores).round(3)*100) )\n",
    "ax[1].set_title('BNC Score on (fake)NOUN embeddings \\nmean : {} , std : {}'.format(np.mean(FNOUNS_BNC_scores).round(4)*100,np.std(FNOUNS_BNC_scores).round(4)*100))\n",
    "ax[2].set_title('BNC Score on (not fake)NOUN embeddings \\n mean : {} , std : {}'.format(np.mean(NFNOUNS_BNC_scores).round(4)*100,np.std(NFNOUNS_BNC_scores).round(4)*100))\n",
    "\n",
    "ax[0].legend()\n",
    "ax[1].legend()\n",
    "ax[2].legend()\n",
    "\n",
    "plt.savefig('random_scores_ELMo_kbest_10.png',dpi=300)\n",
    "plt.show()"
   ]
  },
  {
   "cell_type": "code",
   "execution_count": 33,
   "metadata": {},
   "outputs": [],
   "source": [
    "warnings.filterwarnings('default')"
   ]
  },
  {
   "cell_type": "code",
   "execution_count": 34,
   "metadata": {},
   "outputs": [
    {
     "name": "stdout",
     "output_type": "stream",
     "text": [
      "0.823032786644227 0.6261619936919357 0.7961876244826135\n"
     ]
    }
   ],
   "source": [
    "print(FAKES_BNC_scores[9],FNOUNS_BNC_scores[9],NFNOUNS_BNC_scores[9])"
   ]
  },
  {
   "cell_type": "code",
   "execution_count": null,
   "metadata": {},
   "outputs": [],
   "source": []
  },
  {
   "cell_type": "markdown",
   "metadata": {},
   "source": [
    "## Testing all random partitions with 2-KBEST (Nearest Neighbors)"
   ]
  },
  {
   "cell_type": "code",
   "execution_count": 16,
   "metadata": {},
   "outputs": [],
   "source": [
    "warnings.filterwarnings('ignore')"
   ]
  },
  {
   "cell_type": "code",
   "execution_count": 17,
   "metadata": {},
   "outputs": [
    {
     "name": "stdout",
     "output_type": "stream",
     "text": [
      "original index :  9\n"
     ]
    },
    {
     "data": {
      "text/plain": [
       "88"
      ]
     },
     "execution_count": 17,
     "metadata": {},
     "output_type": "execute_result"
    }
   ],
   "source": [
    "combinaisons = partition(9)\n",
    "\n",
    "counts = nouns_fakes.value_counts(sort=False).sort_index()\n",
    "\n",
    "valid_parts = []\n",
    "for part in combinaisons :\n",
    "    target_0 = 0\n",
    "    target_1 = 0\n",
    "    for i, value in enumerate(counts):\n",
    "        if part[i]:\n",
    "            target_1 += value\n",
    "        else:\n",
    "            target_0 += value\n",
    "    if np.abs(target_0 - target_1)<int(len(fakes_embd)*0.09):\n",
    "        valid_parts.append(part)\n",
    "origin_ind_fakes = valid_parts.index([0,1,1,1,1,1,0,0,0])\n",
    "print('original index : ',origin_ind_fakes)            \n",
    "len(valid_parts)"
   ]
  },
  {
   "cell_type": "code",
   "execution_count": 18,
   "metadata": {},
   "outputs": [
    {
     "data": {
      "text/plain": [
       "44"
      ]
     },
     "execution_count": 18,
     "metadata": {},
     "output_type": "execute_result"
    }
   ],
   "source": [
    "# As expected, all valid partitions have also their symetric that is valid and in the reverse order.\n",
    "pairs = 0\n",
    "for i in range(len(valid_parts)//2):\n",
    "    if valid_parts[i]==list((np.array(valid_parts[-i-1])-1)*-1):\n",
    "        pairs+=1\n",
    "pairs"
   ]
  },
  {
   "cell_type": "code",
   "execution_count": 21,
   "metadata": {},
   "outputs": [
    {
     "name": "stdout",
     "output_type": "stream",
     "text": [
      "Test 44 : BNC for passport ; 88%              "
     ]
    }
   ],
   "source": [
    "parts_to_test = valid_parts[:len(valid_parts)//2]\n",
    "FAKES_classic_scores = np.empty(len(parts_to_test))\n",
    "FAKES_BNC_scores = np.empty(len(parts_to_test))\n",
    "FNOUNS_classic_scores = np.empty(len(parts_to_test))\n",
    "FNOUNS_BNC_scores = np.empty(len(parts_to_test))\n",
    "\n",
    "for ind,part in enumerate(parts_to_test):\n",
    "    part_classes = {listNouns[k]:part[k] for k in range(9)}\n",
    "    part_targets = pd.Series(data=np.ones(len(fakes_embd))*-1,index=fakes_embd.index)\n",
    "    for i, embd in fakes_embd.iterrows():\n",
    "        if part_classes[embd['noun']]==1:\n",
    "            part_targets[i]=1\n",
    "    _,FAKES_classic_scores[ind] = classical_accuracy(NearestCentroid(),X_fakes,part_targets,nouns_fakes,preprocess='kbest',k=2)\n",
    "    _,FAKES_BNC_scores[ind] = BNC_accuracy(NearestCentroid(),X_fakes,part_targets,nouns_fakes,preprocess='kbest',k=2,debug=ind+1)\n",
    "    _,FNOUNS_classic_scores[ind] = classical_accuracy(NearestCentroid(),X_Fnouns,part_targets,nouns_Fnouns ,preprocess='kbest',k=2)\n",
    "    _,FNOUNS_BNC_scores[ind] = BNC_accuracy(NearestCentroid(),X_Fnouns,part_targets,nouns_Fnouns,preprocess='kbest',k=2,debug=ind+1)\n"
   ]
  },
  {
   "cell_type": "code",
   "execution_count": 22,
   "metadata": {},
   "outputs": [
    {
     "data": {
      "text/plain": [
       "0.8410947505012909"
      ]
     },
     "execution_count": 22,
     "metadata": {},
     "output_type": "execute_result"
    }
   ],
   "source": [
    "np.max(FAKES_BNC_scores)"
   ]
  },
  {
   "cell_type": "code",
   "execution_count": 23,
   "metadata": {},
   "outputs": [
    {
     "name": "stdout",
     "output_type": "stream",
     "text": [
      "0.8411 [0, 1, 1, 0, 0, 1, 1, 0, 0] 15\n",
      "0.8209 [0, 1, 1, 1, 1, 1, 0, 0, 0]  baseline (original partition)\n",
      "0.7606 [1, 1, 1, 0, 0, 0, 0, 1, 0] 20\n",
      "0.7191 [0, 0, 1, 1, 1, 1, 0, 1, 0] 27\n",
      "0.6987 [0, 1, 1, 1, 1, 1, 0, 1, 0] 28\n",
      "0.695 [1, 0, 0, 1, 1, 0, 1, 1, 0] 35\n",
      "0.6798 [1, 1, 1, 0, 0, 0, 0, 0, 0] 0\n",
      "0.632 [0, 1, 1, 0, 0, 0, 1, 0, 0] 10\n",
      "0.63 [1, 0, 1, 1, 1, 0, 0, 0, 0] 4\n",
      "0.6286 [1, 1, 1, 1, 0, 0, 0, 0, 0] 1\n",
      "0.6192 [0, 0, 1, 0, 1, 0, 1, 0, 0] 12\n",
      "0.6012 [1, 0, 0, 1, 1, 1, 1, 1, 0] 43\n",
      "0.5859 [1, 0, 1, 0, 1, 0, 0, 1, 0] 22\n",
      "0.5634 [1, 1, 1, 0, 0, 1, 0, 0, 0] 5\n",
      "0.5508 [0, 0, 1, 0, 1, 0, 1, 1, 0] 34\n",
      "0.5473 [1, 1, 0, 0, 1, 1, 1, 1, 0] 42\n",
      "0.5314 [0, 1, 1, 1, 0, 0, 1, 0, 0] 11\n",
      "0.5209 [1, 1, 0, 1, 1, 1, 1, 0, 0] 19\n",
      "0.5123 [1, 1, 0, 1, 1, 0, 1, 1, 0] 36\n",
      "0.4929 [0, 1, 1, 0, 1, 1, 0, 1, 0] 26\n"
     ]
    }
   ],
   "source": [
    "high_s_fakes = FAKES_BNC_scores[FAKES_BNC_scores>np.mean(FAKES_BNC_scores)]\n",
    "highest_p_fakes = np.flip(np.argsort(FAKES_BNC_scores))[:len(high_s_fakes)]\n",
    "for ind in highest_p_fakes:\n",
    "    if ind == origin_ind_fakes:\n",
    "        print(FAKES_BNC_scores[origin_ind_fakes].round(4) , valid_parts[origin_ind_fakes], ' baseline (original partition)')\n",
    "    else:\n",
    "        print(FAKES_BNC_scores[ind].round(4) , valid_parts[ind], ind)"
   ]
  },
  {
   "cell_type": "code",
   "execution_count": 24,
   "metadata": {},
   "outputs": [
    {
     "name": "stdout",
     "output_type": "stream",
     "text": [
      "0.9532 [0, 1, 1, 1, 1, 1, 0, 0, 0]  baseline (original partition)\n",
      "0.7489 [1, 1, 0, 1, 1, 0, 1, 1, 0] 36\n",
      "0.7153 [0, 0, 1, 0, 1, 0, 1, 0, 0] 12\n",
      "0.6973 [0, 0, 1, 0, 1, 1, 1, 0, 0] 18\n",
      "0.6956 [0, 1, 1, 0, 1, 1, 0, 1, 0] 26\n",
      "0.6842 [1, 1, 0, 0, 1, 0, 1, 1, 0] 33\n",
      "0.6825 [1, 0, 1, 0, 1, 0, 0, 0, 0] 2\n",
      "0.6802 [1, 0, 0, 0, 1, 1, 1, 1, 0] 41\n",
      "0.6785 [1, 1, 0, 1, 0, 1, 1, 1, 0] 39\n",
      "0.6427 [1, 1, 0, 0, 0, 1, 1, 1, 0] 37\n",
      "0.6366 [0, 0, 1, 1, 0, 1, 1, 1, 0] 40\n",
      "0.6111 [1, 1, 0, 1, 0, 0, 1, 1, 0] 31\n",
      "0.6039 [0, 1, 1, 0, 0, 1, 1, 0, 0] 15\n",
      "0.5812 [1, 0, 1, 1, 0, 0, 0, 1, 0] 21\n",
      "0.5726 [0, 1, 1, 1, 0, 0, 1, 0, 0] 11\n",
      "0.5688 [1, 0, 0, 1, 1, 1, 1, 1, 0] 43\n",
      "0.5548 [1, 0, 1, 0, 1, 1, 0, 0, 0] 8\n",
      "0.5493 [0, 1, 1, 1, 1, 1, 0, 1, 0] 28\n",
      "0.5473 [1, 1, 0, 0, 1, 1, 1, 1, 0] 42\n",
      "0.5381 [0, 0, 1, 1, 0, 0, 1, 1, 0] 32\n",
      "0.5354 [1, 1, 1, 0, 0, 0, 0, 1, 0] 20\n",
      "0.5282 [1, 0, 1, 1, 1, 0, 0, 0, 0] 4\n",
      "0.5164 [0, 0, 1, 0, 0, 1, 1, 1, 0] 38\n"
     ]
    }
   ],
   "source": [
    "high_s_fnouns = FNOUNS_BNC_scores[FNOUNS_BNC_scores>np.mean(FNOUNS_BNC_scores)]\n",
    "highest_p_fnouns = np.flip(np.argsort(FNOUNS_BNC_scores))[:len(high_s_fnouns)]\n",
    "for ind in highest_p_fnouns:\n",
    "    if ind == origin_ind_fakes:\n",
    "        print(FNOUNS_BNC_scores[origin_ind_fakes].round(4) , valid_parts[origin_ind_fakes], ' baseline (original partition)')\n",
    "    else:\n",
    "        print(FNOUNS_BNC_scores[ind].round(4) , valid_parts[ind], ind)"
   ]
  },
  {
   "cell_type": "code",
   "execution_count": 25,
   "metadata": {},
   "outputs": [
    {
     "data": {
      "image/png": "[encoded data removed]",
      "text/plain": [
       "<Figure size 720x288 with 2 Axes>"
      ]
     },
     "metadata": {
      "needs_background": "light"
     },
     "output_type": "display_data"
    }
   ],
   "source": [
    "fig, ax = plt.subplots(1,2,figsize=(10,4))\n",
    "ax[0].hist(FAKES_BNC_scores,bins=44,density=False)\n",
    "ax[1].hist(FNOUNS_BNC_scores,bins=44,density=False)\n",
    "ax[0].set_title('BNC Score on FAKE embeddings \\nmean : {} , std : {}'.format(np.mean(FAKES_BNC_scores).round(4)*100,np.std(FAKES_BNC_scores).round(3)*100) )\n",
    "ax[1].set_title('BNC Score on (fake)NOUN embeddings \\nmean : {} , std : {}'.format(np.mean(FNOUNS_BNC_scores).round(4)*100,np.std(FNOUNS_BNC_scores).round(4)*100))\n",
    "plt.show()"
   ]
  },
  {
   "cell_type": "code",
   "execution_count": 26,
   "metadata": {},
   "outputs": [
    {
     "data": {
      "text/plain": [
       "array([0.4914, 0.1571])"
      ]
     },
     "execution_count": 26,
     "metadata": {},
     "output_type": "execute_result"
    }
   ],
   "source": [
    "np.round((np.mean(FAKES_BNC_scores),np.std(FAKES_BNC_scores)),4)"
   ]
  },
  {
   "cell_type": "code",
   "execution_count": 27,
   "metadata": {},
   "outputs": [
    {
     "data": {
      "text/plain": [
       "array([0.5002, 0.1596])"
      ]
     },
     "execution_count": 27,
     "metadata": {},
     "output_type": "execute_result"
    }
   ],
   "source": [
    "np.round((np.mean(FNOUNS_BNC_scores),np.std(FNOUNS_BNC_scores)),4)"
   ]
  },
  {
   "cell_type": "code",
   "execution_count": 28,
   "metadata": {},
   "outputs": [
    {
     "name": "stdout",
     "output_type": "stream",
     "text": [
      "original index :  8\n",
      "nb of valid partitions :  138\n"
     ]
    }
   ],
   "source": [
    "counts = nouns_nfs.value_counts(sort=False).sort_index()\n",
    "\n",
    "valid_parts = []\n",
    "for part in combinaisons :\n",
    "    target_0 = 0\n",
    "    target_1 = 0\n",
    "    for i, value in enumerate(counts):\n",
    "        if part[i]:\n",
    "            target_1 += value\n",
    "        else:\n",
    "            target_0 += value\n",
    "    if np.abs(target_0 - target_1)<=int(max(len(not_fake_samples)*0.09,targets_nfs.sum())):\n",
    "        valid_parts.append(part)\n",
    "\n",
    "origin_ind_notfakes = valid_parts.index([0,1,1,1,1,1,0,0,0])\n",
    "print('original index : ',origin_ind_notfakes)\n",
    "\n",
    "print('nb of valid partitions : ',len(valid_parts))\n",
    "\n"
   ]
  },
  {
   "cell_type": "code",
   "execution_count": null,
   "metadata": {},
   "outputs": [
    {
     "name": "stdout",
     "output_type": "stream",
     "text": [
      "Test 60 : BNC for passport ; 88%              "
     ]
    }
   ],
   "source": [
    "parts_to_test = valid_parts[:len(valid_parts)//2]\n",
    "NFNOUNS_classic_scores = np.empty(len(parts_to_test))\n",
    "NFNOUNS_BNC_scores = np.empty(len(parts_to_test))\n",
    "\n",
    "for ind,part in enumerate(parts_to_test):\n",
    "    part_classes = {listNouns[k]:part[k] for k in range(9)}\n",
    "    part_targets = pd.Series(data=np.ones(len(not_fake_samples))*-1,index=not_fake_samples.index)\n",
    "    for i, embd in not_fake_samples.iterrows():\n",
    "        if part_classes[embd['noun']]==1:\n",
    "            part_targets[i]=1\n",
    "    _,NFNOUNS_classic_scores[ind] = classical_accuracy(NearestCentroid(),X_nfs,part_targets,nouns_nfs ,preprocess='kbest',k=2)\n",
    "    _,NFNOUNS_BNC_scores[ind] = BNC_accuracy(NearestCentroid(),X_nfs,part_targets,nouns_nfs,preprocess='kbest',k=2,debug=ind+1)\n"
   ]
  },
  {
   "cell_type": "code",
   "execution_count": null,
   "metadata": {},
   "outputs": [],
   "source": [
    "np.max(NFNOUNS_BNC_scores)"
   ]
  },
  {
   "cell_type": "code",
   "execution_count": null,
   "metadata": {},
   "outputs": [],
   "source": [
    "high_s_nfnouns = NFNOUNS_BNC_scores[NFNOUNS_BNC_scores>np.mean(NFNOUNS_BNC_scores)]\n",
    "highest_p_nfnouns = np.flip(np.argsort(NFNOUNS_BNC_scores))[:len(high_s_nfnouns)]\n",
    "for ind in highest_p_nfnouns:\n",
    "    if ind == origin_ind_notfakes:\n",
    "        print(NFNOUNS_BNC_scores[origin_ind_notfakes].round(4) , valid_parts[origin_ind_notfakes], ' baseline (original partition)')\n",
    "    else:\n",
    "        print(NFNOUNS_BNC_scores[ind].round(4) , valid_parts[ind], ind)"
   ]
  },
  {
   "cell_type": "code",
   "execution_count": null,
   "metadata": {},
   "outputs": [],
   "source": [
    "plt.hist(NFNOUNS_BNC_scores,bins=len(NFNOUNS_BNC_scores),density=False)\n",
    "plt.title('BNC Score on (not fake)NOUN embeddings')\n",
    "plt.show()"
   ]
  },
  {
   "cell_type": "code",
   "execution_count": null,
   "metadata": {},
   "outputs": [],
   "source": [
    "fig, ax = plt.subplots(1,3,figsize=(20,5))\n",
    "ax[0].hist(FAKES_BNC_scores,bins=len(FAKES_BNC_scores),density=False, label='{} partitions'.format(len(FAKES_BNC_scores)))\n",
    "ax[1].hist(FNOUNS_BNC_scores,bins=len(FNOUNS_BNC_scores),density=False, label='{} partitions'.format(len(FNOUNS_BNC_scores)))\n",
    "ax[2].hist(NFNOUNS_BNC_scores,bins=len(NFNOUNS_BNC_scores),density=False, label='{} partitions'.format(len(NFNOUNS_BNC_scores)))\n",
    "\n",
    "ax[0].set_title('BNC Score on FAKE embeddings \\nmean : {} , std : {}'.format(np.mean(FAKES_BNC_scores).round(4)*100,np.std(FAKES_BNC_scores).round(3)*100) )\n",
    "ax[1].set_title('BNC Score on (fake)NOUN embeddings \\nmean : {} , std : {}'.format(np.mean(FNOUNS_BNC_scores).round(4)*100,np.std(FNOUNS_BNC_scores).round(4)*100))\n",
    "ax[2].set_title('BNC Score on (not fake)NOUN embeddings \\n mean : {} , std : {}'.format(np.mean(NFNOUNS_BNC_scores).round(4)*100,np.std(NFNOUNS_BNC_scores).round(4)*100))\n",
    "\n",
    "ax[0].legend()\n",
    "ax[1].legend()\n",
    "ax[2].legend()\n",
    "\n",
    "plt.savefig('random_scores_ELMo_kbest_2_NN.png',dpi=300)\n",
    "plt.show()"
   ]
  },
  {
   "cell_type": "code",
   "execution_count": null,
   "metadata": {},
   "outputs": [],
   "source": [
    "warnings.filterwarnings('default')"
   ]
  }
 ],
 "metadata": {
  "kernelspec": {
   "display_name": "Python 3",
   "language": "python",
   "name": "python3"
  },
  "language_info": {
   "codemirror_mode": {
    "name": "ipython",
    "version": 3
   },
   "file_extension": ".py",
   "mimetype": "text/x-python",
   "name": "python",
   "nbconvert_exporter": "python",
   "pygments_lexer": "ipython3",
   "version": "3.7.7"
  }
 },
 "nbformat": 4,
 "nbformat_minor": 4
}
