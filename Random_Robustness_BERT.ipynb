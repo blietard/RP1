{
 "cells": [
  {
   "cell_type": "markdown",
   "metadata": {},
   "source": [
    "# **RANDOM CLASSIFICATION TO TEST MODEL ROBUSTNESS**"
   ]
  },
  {
   "cell_type": "markdown",
   "metadata": {},
   "source": [
    "## Loading Datasets"
   ]
  },
  {
   "cell_type": "code",
   "execution_count": 1,
   "metadata": {},
   "outputs": [],
   "source": [
    "import numpy as np\n",
    "import pandas as pd\n",
    "import matplotlib.pyplot as plt\n",
    "\n",
    "import sys\n",
    "import warnings\n",
    "\n",
    "from sklearn.manifold import TSNE\n",
    "import matplotlib.patches as mpatches\n",
    "\n",
    "from sklearn.model_selection import train_test_split\n",
    "from sklearn.pipeline import make_pipeline\n",
    "\n",
    "from sklearn.feature_selection import mutual_info_classif as MIC\n",
    "from sklearn.feature_selection import SelectKBest\n",
    "\n",
    "from sklearn.preprocessing import StandardScaler as Scaler\n",
    "from sklearn.decomposition import PCA\n",
    "\n",
    "from sklearn.svm import SVC\n",
    "from sklearn.svm import LinearSVC\n",
    "from sklearn.neighbors import NearestCentroid"
   ]
  },
  {
   "cell_type": "code",
   "execution_count": 2,
   "metadata": {},
   "outputs": [
    {
     "name": "stdout",
     "output_type": "stream",
     "text": [
      "loaded for article\n",
      "loaded for beard\n",
      "loaded for blood\n",
      "loaded for company\n",
      "loaded for death\n",
      "loaded for gun\n",
      "loaded for id\n",
      "loaded for interview\n",
      "loaded for passport\n"
     ]
    }
   ],
   "source": [
    "cols = ['fileName','noun','fake','size','start','end']\n",
    "indexer = pd.DataFrame(columns=cols)\n",
    "df = pd.DataFrame(columns=range(768))\n",
    "listNouns = ['article','beard','blood','company','death','gun','id','interview','passport']\n",
    "#Load NOUN datasets\n",
    "for noun in listNouns:\n",
    "    arrF = np.load('BERTfiles/'+noun+'FAKE.npy')\n",
    "    arrNF = np.load('BERTfiles/'+noun+'.npy')\n",
    "    \n",
    "    count=len(df)\n",
    "    df = df.append(pd.DataFrame(arrF),ignore_index=True)\n",
    "    d_temp = pd.DataFrame(data=[[noun+'FAKE.npy',noun,True,arrF.shape[0],count,len(df)-1]],columns=cols)\n",
    "    indexer = indexer.append(d_temp,ignore_index=True)\n",
    "    \n",
    "    count=len(df)\n",
    "    df = df.append(pd.DataFrame(arrNF),ignore_index=True)\n",
    "    d_temp = pd.DataFrame(data=[[noun+'.npy',noun,False,arrNF.shape[0],count,len(df)-1]],columns=cols)\n",
    "    indexer = indexer.append(d_temp,ignore_index=True)\n",
    "    \n",
    "    print(\"loaded for \"+noun)\n",
    "\n",
    "#-------------------------------------------------------------------------[FAKE]_NOUN_\n",
    "#Define a dataframe that contains embeddings with FAKE\n",
    "priv = ['beard','blood','company','death','gun']\n",
    "indexer.insert(loc=3,column='privative',value=False)\n",
    "for index, row in indexer.iterrows():\n",
    "    if row['noun'] in priv:\n",
    "        indexer.at[index,'privative']= True\n",
    "        \n",
    "priv_fakes_idx = indexer[(indexer.fake) & (indexer.privative)]\n",
    "non_priv_fakes_idx = indexer[(indexer.fake==True) & (indexer.privative==False)]\n",
    "\n",
    "fake_nouns = pd.DataFrame(columns=range(768))\n",
    "for index, row in indexer[indexer['fake']].iterrows():\n",
    "    fake_nouns=fake_nouns.append(df.loc[row['start']:row['end']])\n",
    "\n",
    "#affine this dataframe : add a 'priv' column\n",
    "if 'priv' in fake_nouns.columns:\n",
    "    fake_nouns = fake_nouns.drop(columns=['priv'])\n",
    "    \n",
    "fake_nouns.insert(loc=768,column='priv',value=-1)\n",
    "for index, row in priv_fakes_idx.iterrows():\n",
    "    for i in range(row['start'],row['end']+1):\n",
    "        fake_nouns.at[i,'priv']= 1\n",
    "\n",
    "#add 'noun' column\n",
    "if 'noun' in fake_nouns.columns:\n",
    "    fake_nouns = fake_nouns.drop(columns=['noun'])\n",
    "    \n",
    "fake_nouns.insert(loc=768,column='noun',value='')\n",
    "for index, row in indexer[indexer['fake']].iterrows():\n",
    "    for i in range(row['start'],row['end']+1):\n",
    "        fake_nouns.at[i,'noun']= row['noun']\n",
    "\n",
    "targets_Fnouns = fake_nouns['priv']\n",
    "nouns_Fnouns = fake_nouns['noun']\n",
    "X_Fnouns = fake_nouns.drop(columns=['priv','noun'])\n",
    "\n",
    "#---------------------------------------------------------------------[NOT FAKE]_NOUN_\n",
    "not_fake_nouns = pd.DataFrame(columns=range(768))\n",
    "\n",
    "priv_not_fakes_idx = indexer[(indexer.fake==False) & (indexer.privative)]\n",
    "\n",
    "for index, row in indexer[indexer['fake']==False].iterrows():\n",
    "    not_fake_nouns=not_fake_nouns.append(df.loc[row['start']:row['end']])\n",
    "\n",
    "if 'priv' in not_fake_nouns.columns:\n",
    "    not_fake_nouns = not_fake_nouns.drop(columns=['priv'])\n",
    "    \n",
    "not_fake_nouns.insert(loc=768,column='priv',value=-1)\n",
    "for index, row in priv_not_fakes_idx.iterrows():\n",
    "    for i in range(row['start'],row['end']+1):\n",
    "        not_fake_nouns.at[i,'priv']= 1\n",
    "\n",
    "\n",
    "if 'noun' in not_fake_nouns.columns:\n",
    "    not_fake_nouns = not_fake_nouns.drop(columns=['noun'])\n",
    "    \n",
    "not_fake_nouns.insert(loc=768,column='noun',value='')\n",
    "for index, row in indexer[indexer['fake']==False].iterrows():\n",
    "    for i in range(row['start'],row['end']+1):\n",
    "        not_fake_nouns.at[i,'noun']= row['noun']\n",
    "\n",
    "targets_NFnouns = not_fake_nouns['priv']\n",
    "nouns_NFnouns = not_fake_nouns['noun']\n",
    "X_NFnouns = not_fake_nouns.drop(columns=['priv','noun'])"
   ]
  },
  {
   "cell_type": "code",
   "execution_count": 3,
   "metadata": {},
   "outputs": [
    {
     "name": "stdout",
     "output_type": "stream",
     "text": [
      "done for article\n",
      "done for beard\n",
      "done for blood\n",
      "done for company\n",
      "done for death\n",
      "done for gun\n",
      "done for id\n",
      "done for interview\n",
      "done for passport\n"
     ]
    }
   ],
   "source": [
    "cols = ['fileName','noun','size','start','end']\n",
    "indexer_fakes = pd.DataFrame(columns=cols)\n",
    "fakes_embd = pd.DataFrame(columns=range(768))\n",
    "\n",
    "for noun in listNouns:\n",
    "    arrF = np.load('BERTfiles/FAKE'+noun+'FAKE.npy')\n",
    "    count=len(fakes_embd)\n",
    "    fakes_embd = fakes_embd.append(pd.DataFrame(arrF),ignore_index=True)\n",
    "    d_temp = pd.DataFrame(data=[[noun+'FAKE.npy',noun,arrF.shape[0],count,len(fakes_embd)-1]],columns=cols)\n",
    "    indexer_fakes = indexer_fakes.append(d_temp,ignore_index=True)\n",
    "    \n",
    "    print(\"done for \"+noun)\n",
    "    \n",
    "fakes_embd.index = X_Fnouns.index #re-indexing\n",
    "\n",
    "if 'priv' in fakes_embd.columns:\n",
    "    fakes_embd = fakes_embd.drop(columns=['priv'])\n",
    "    \n",
    "fakes_embd.insert(loc=768,column='priv',value=fake_nouns['priv'])\n",
    "\n",
    "if 'noun' in fakes_embd.columns:\n",
    "    fakes_embd = fakes_embd.drop(columns=['noun'])\n",
    "    \n",
    "fakes_embd.insert(loc=768,column='noun',value=fake_nouns['noun'])\n",
    "\n",
    "targets_fakes = fakes_embd['priv']\n",
    "nouns_fakes = fakes_embd['noun']\n",
    "X_fakes = fakes_embd.drop(columns=['priv','noun'])"
   ]
  },
  {
   "cell_type": "code",
   "execution_count": 4,
   "metadata": {},
   "outputs": [
    {
     "data": {
      "text/html": [
       "<div>\n",
       "<style scoped>\n",
       "    .dataframe tbody tr th:only-of-type {\n",
       "        vertical-align: middle;\n",
       "    }\n",
       "\n",
       "    .dataframe tbody tr th {\n",
       "        vertical-align: top;\n",
       "    }\n",
       "\n",
       "    .dataframe thead th {\n",
       "        text-align: right;\n",
       "    }\n",
       "</style>\n",
       "<table border=\"1\" class=\"dataframe\">\n",
       "  <thead>\n",
       "    <tr style=\"text-align: right;\">\n",
       "      <th></th>\n",
       "      <th>0</th>\n",
       "      <th>1</th>\n",
       "      <th>2</th>\n",
       "      <th>3</th>\n",
       "      <th>4</th>\n",
       "      <th>5</th>\n",
       "      <th>6</th>\n",
       "      <th>7</th>\n",
       "      <th>8</th>\n",
       "      <th>9</th>\n",
       "      <th>...</th>\n",
       "      <th>760</th>\n",
       "      <th>761</th>\n",
       "      <th>762</th>\n",
       "      <th>763</th>\n",
       "      <th>764</th>\n",
       "      <th>765</th>\n",
       "      <th>766</th>\n",
       "      <th>767</th>\n",
       "      <th>noun</th>\n",
       "      <th>priv</th>\n",
       "    </tr>\n",
       "  </thead>\n",
       "  <tbody>\n",
       "    <tr>\n",
       "      <th>83</th>\n",
       "      <td>0.755136</td>\n",
       "      <td>0.232570</td>\n",
       "      <td>-0.199666</td>\n",
       "      <td>0.463767</td>\n",
       "      <td>0.663022</td>\n",
       "      <td>-1.199443</td>\n",
       "      <td>-0.391038</td>\n",
       "      <td>1.085326</td>\n",
       "      <td>0.189961</td>\n",
       "      <td>-0.171142</td>\n",
       "      <td>...</td>\n",
       "      <td>0.036742</td>\n",
       "      <td>-0.650511</td>\n",
       "      <td>0.380231</td>\n",
       "      <td>0.306065</td>\n",
       "      <td>0.295004</td>\n",
       "      <td>-0.089623</td>\n",
       "      <td>-0.543798</td>\n",
       "      <td>0.043758</td>\n",
       "      <td>article</td>\n",
       "      <td>-1</td>\n",
       "    </tr>\n",
       "    <tr>\n",
       "      <th>90</th>\n",
       "      <td>0.887345</td>\n",
       "      <td>-0.478004</td>\n",
       "      <td>-0.144590</td>\n",
       "      <td>-0.250448</td>\n",
       "      <td>-0.047504</td>\n",
       "      <td>-0.477774</td>\n",
       "      <td>-0.738351</td>\n",
       "      <td>-0.564153</td>\n",
       "      <td>0.708437</td>\n",
       "      <td>0.314647</td>\n",
       "      <td>...</td>\n",
       "      <td>-0.291535</td>\n",
       "      <td>-0.844469</td>\n",
       "      <td>-0.240800</td>\n",
       "      <td>-0.276114</td>\n",
       "      <td>-1.273983</td>\n",
       "      <td>0.477902</td>\n",
       "      <td>-0.556078</td>\n",
       "      <td>0.115594</td>\n",
       "      <td>article</td>\n",
       "      <td>-1</td>\n",
       "    </tr>\n",
       "    <tr>\n",
       "      <th>97</th>\n",
       "      <td>0.785910</td>\n",
       "      <td>-0.589193</td>\n",
       "      <td>-0.171438</td>\n",
       "      <td>0.089936</td>\n",
       "      <td>0.080632</td>\n",
       "      <td>-0.688392</td>\n",
       "      <td>0.348680</td>\n",
       "      <td>0.697850</td>\n",
       "      <td>0.467649</td>\n",
       "      <td>0.030008</td>\n",
       "      <td>...</td>\n",
       "      <td>-0.166764</td>\n",
       "      <td>0.118167</td>\n",
       "      <td>0.318556</td>\n",
       "      <td>0.072831</td>\n",
       "      <td>-1.101906</td>\n",
       "      <td>0.572755</td>\n",
       "      <td>0.130434</td>\n",
       "      <td>-0.737753</td>\n",
       "      <td>article</td>\n",
       "      <td>-1</td>\n",
       "    </tr>\n",
       "    <tr>\n",
       "      <th>113</th>\n",
       "      <td>1.054923</td>\n",
       "      <td>-0.515205</td>\n",
       "      <td>-0.321260</td>\n",
       "      <td>-0.019554</td>\n",
       "      <td>-0.045904</td>\n",
       "      <td>-0.577336</td>\n",
       "      <td>0.157249</td>\n",
       "      <td>0.406565</td>\n",
       "      <td>-0.123129</td>\n",
       "      <td>0.027364</td>\n",
       "      <td>...</td>\n",
       "      <td>-0.213624</td>\n",
       "      <td>0.258772</td>\n",
       "      <td>-0.029288</td>\n",
       "      <td>-0.202340</td>\n",
       "      <td>-1.102368</td>\n",
       "      <td>0.642851</td>\n",
       "      <td>0.181463</td>\n",
       "      <td>0.055564</td>\n",
       "      <td>article</td>\n",
       "      <td>-1</td>\n",
       "    </tr>\n",
       "    <tr>\n",
       "      <th>129</th>\n",
       "      <td>0.891466</td>\n",
       "      <td>-0.236632</td>\n",
       "      <td>-0.196620</td>\n",
       "      <td>0.303198</td>\n",
       "      <td>0.364170</td>\n",
       "      <td>-0.904660</td>\n",
       "      <td>0.182874</td>\n",
       "      <td>1.168736</td>\n",
       "      <td>0.586862</td>\n",
       "      <td>-0.113370</td>\n",
       "      <td>...</td>\n",
       "      <td>-0.182495</td>\n",
       "      <td>-0.636457</td>\n",
       "      <td>-0.312408</td>\n",
       "      <td>0.102291</td>\n",
       "      <td>-0.447447</td>\n",
       "      <td>-0.076407</td>\n",
       "      <td>-0.334100</td>\n",
       "      <td>-0.009614</td>\n",
       "      <td>article</td>\n",
       "      <td>-1</td>\n",
       "    </tr>\n",
       "    <tr>\n",
       "      <th>...</th>\n",
       "      <td>...</td>\n",
       "      <td>...</td>\n",
       "      <td>...</td>\n",
       "      <td>...</td>\n",
       "      <td>...</td>\n",
       "      <td>...</td>\n",
       "      <td>...</td>\n",
       "      <td>...</td>\n",
       "      <td>...</td>\n",
       "      <td>...</td>\n",
       "      <td>...</td>\n",
       "      <td>...</td>\n",
       "      <td>...</td>\n",
       "      <td>...</td>\n",
       "      <td>...</td>\n",
       "      <td>...</td>\n",
       "      <td>...</td>\n",
       "      <td>...</td>\n",
       "      <td>...</td>\n",
       "      <td>...</td>\n",
       "      <td>...</td>\n",
       "    </tr>\n",
       "    <tr>\n",
       "      <th>90498</th>\n",
       "      <td>0.725322</td>\n",
       "      <td>0.232525</td>\n",
       "      <td>0.948554</td>\n",
       "      <td>-1.415909</td>\n",
       "      <td>0.653052</td>\n",
       "      <td>-1.147339</td>\n",
       "      <td>-0.128265</td>\n",
       "      <td>0.806909</td>\n",
       "      <td>0.552911</td>\n",
       "      <td>0.613849</td>\n",
       "      <td>...</td>\n",
       "      <td>0.691392</td>\n",
       "      <td>-0.843209</td>\n",
       "      <td>0.284835</td>\n",
       "      <td>-0.116793</td>\n",
       "      <td>-0.922084</td>\n",
       "      <td>-0.054046</td>\n",
       "      <td>-0.029775</td>\n",
       "      <td>0.352340</td>\n",
       "      <td>passport</td>\n",
       "      <td>-1</td>\n",
       "    </tr>\n",
       "    <tr>\n",
       "      <th>90527</th>\n",
       "      <td>1.351503</td>\n",
       "      <td>-0.488783</td>\n",
       "      <td>0.409440</td>\n",
       "      <td>-0.530064</td>\n",
       "      <td>1.327405</td>\n",
       "      <td>-1.461528</td>\n",
       "      <td>-0.696417</td>\n",
       "      <td>0.866018</td>\n",
       "      <td>0.317983</td>\n",
       "      <td>0.325492</td>\n",
       "      <td>...</td>\n",
       "      <td>0.486514</td>\n",
       "      <td>-0.729832</td>\n",
       "      <td>0.033889</td>\n",
       "      <td>0.462828</td>\n",
       "      <td>-0.963181</td>\n",
       "      <td>-0.879084</td>\n",
       "      <td>0.021213</td>\n",
       "      <td>-0.087972</td>\n",
       "      <td>passport</td>\n",
       "      <td>-1</td>\n",
       "    </tr>\n",
       "    <tr>\n",
       "      <th>90533</th>\n",
       "      <td>1.423911</td>\n",
       "      <td>-0.268469</td>\n",
       "      <td>0.598137</td>\n",
       "      <td>-0.930447</td>\n",
       "      <td>1.828776</td>\n",
       "      <td>-1.238091</td>\n",
       "      <td>-0.421552</td>\n",
       "      <td>1.061981</td>\n",
       "      <td>0.106228</td>\n",
       "      <td>0.286998</td>\n",
       "      <td>...</td>\n",
       "      <td>0.209283</td>\n",
       "      <td>-1.192030</td>\n",
       "      <td>-0.146765</td>\n",
       "      <td>-0.076595</td>\n",
       "      <td>-0.520497</td>\n",
       "      <td>-1.017229</td>\n",
       "      <td>0.187501</td>\n",
       "      <td>0.322867</td>\n",
       "      <td>passport</td>\n",
       "      <td>-1</td>\n",
       "    </tr>\n",
       "    <tr>\n",
       "      <th>90543</th>\n",
       "      <td>2.309781</td>\n",
       "      <td>-0.368508</td>\n",
       "      <td>0.441708</td>\n",
       "      <td>-0.857760</td>\n",
       "      <td>1.270062</td>\n",
       "      <td>-1.319232</td>\n",
       "      <td>-0.582670</td>\n",
       "      <td>1.095092</td>\n",
       "      <td>-0.002643</td>\n",
       "      <td>0.609746</td>\n",
       "      <td>...</td>\n",
       "      <td>0.650214</td>\n",
       "      <td>-0.756907</td>\n",
       "      <td>0.423892</td>\n",
       "      <td>-0.004851</td>\n",
       "      <td>-0.891437</td>\n",
       "      <td>-1.048233</td>\n",
       "      <td>0.277172</td>\n",
       "      <td>0.187378</td>\n",
       "      <td>passport</td>\n",
       "      <td>-1</td>\n",
       "    </tr>\n",
       "    <tr>\n",
       "      <th>90563</th>\n",
       "      <td>1.372824</td>\n",
       "      <td>-0.242496</td>\n",
       "      <td>0.488959</td>\n",
       "      <td>-0.120879</td>\n",
       "      <td>1.236017</td>\n",
       "      <td>-1.523550</td>\n",
       "      <td>-0.211595</td>\n",
       "      <td>-0.227472</td>\n",
       "      <td>0.370414</td>\n",
       "      <td>0.516525</td>\n",
       "      <td>...</td>\n",
       "      <td>0.243597</td>\n",
       "      <td>-0.456928</td>\n",
       "      <td>0.384303</td>\n",
       "      <td>0.246163</td>\n",
       "      <td>-0.896461</td>\n",
       "      <td>-0.374353</td>\n",
       "      <td>-0.208712</td>\n",
       "      <td>0.407212</td>\n",
       "      <td>passport</td>\n",
       "      <td>-1</td>\n",
       "    </tr>\n",
       "  </tbody>\n",
       "</table>\n",
       "<p>8997 rows × 770 columns</p>\n",
       "</div>"
      ],
      "text/plain": [
       "              0         1         2         3         4         5         6  \\\n",
       "83     0.755136  0.232570 -0.199666  0.463767  0.663022 -1.199443 -0.391038   \n",
       "90     0.887345 -0.478004 -0.144590 -0.250448 -0.047504 -0.477774 -0.738351   \n",
       "97     0.785910 -0.589193 -0.171438  0.089936  0.080632 -0.688392  0.348680   \n",
       "113    1.054923 -0.515205 -0.321260 -0.019554 -0.045904 -0.577336  0.157249   \n",
       "129    0.891466 -0.236632 -0.196620  0.303198  0.364170 -0.904660  0.182874   \n",
       "...         ...       ...       ...       ...       ...       ...       ...   \n",
       "90498  0.725322  0.232525  0.948554 -1.415909  0.653052 -1.147339 -0.128265   \n",
       "90527  1.351503 -0.488783  0.409440 -0.530064  1.327405 -1.461528 -0.696417   \n",
       "90533  1.423911 -0.268469  0.598137 -0.930447  1.828776 -1.238091 -0.421552   \n",
       "90543  2.309781 -0.368508  0.441708 -0.857760  1.270062 -1.319232 -0.582670   \n",
       "90563  1.372824 -0.242496  0.488959 -0.120879  1.236017 -1.523550 -0.211595   \n",
       "\n",
       "              7         8         9  ...       760       761       762  \\\n",
       "83     1.085326  0.189961 -0.171142  ...  0.036742 -0.650511  0.380231   \n",
       "90    -0.564153  0.708437  0.314647  ... -0.291535 -0.844469 -0.240800   \n",
       "97     0.697850  0.467649  0.030008  ... -0.166764  0.118167  0.318556   \n",
       "113    0.406565 -0.123129  0.027364  ... -0.213624  0.258772 -0.029288   \n",
       "129    1.168736  0.586862 -0.113370  ... -0.182495 -0.636457 -0.312408   \n",
       "...         ...       ...       ...  ...       ...       ...       ...   \n",
       "90498  0.806909  0.552911  0.613849  ...  0.691392 -0.843209  0.284835   \n",
       "90527  0.866018  0.317983  0.325492  ...  0.486514 -0.729832  0.033889   \n",
       "90533  1.061981  0.106228  0.286998  ...  0.209283 -1.192030 -0.146765   \n",
       "90543  1.095092 -0.002643  0.609746  ...  0.650214 -0.756907  0.423892   \n",
       "90563 -0.227472  0.370414  0.516525  ...  0.243597 -0.456928  0.384303   \n",
       "\n",
       "            763       764       765       766       767      noun  priv  \n",
       "83     0.306065  0.295004 -0.089623 -0.543798  0.043758   article    -1  \n",
       "90    -0.276114 -1.273983  0.477902 -0.556078  0.115594   article    -1  \n",
       "97     0.072831 -1.101906  0.572755  0.130434 -0.737753   article    -1  \n",
       "113   -0.202340 -1.102368  0.642851  0.181463  0.055564   article    -1  \n",
       "129    0.102291 -0.447447 -0.076407 -0.334100 -0.009614   article    -1  \n",
       "...         ...       ...       ...       ...       ...       ...   ...  \n",
       "90498 -0.116793 -0.922084 -0.054046 -0.029775  0.352340  passport    -1  \n",
       "90527  0.462828 -0.963181 -0.879084  0.021213 -0.087972  passport    -1  \n",
       "90533 -0.076595 -0.520497 -1.017229  0.187501  0.322867  passport    -1  \n",
       "90543 -0.004851 -0.891437 -1.048233  0.277172  0.187378  passport    -1  \n",
       "90563  0.246163 -0.896461 -0.374353 -0.208712  0.407212  passport    -1  \n",
       "\n",
       "[8997 rows x 770 columns]"
      ]
     },
     "execution_count": 4,
     "metadata": {},
     "output_type": "execute_result"
    }
   ],
   "source": [
    "# Here we don't need to extract a sample, we already computed only 10% on notfake NOUNS but to have same variable name, we will still define not_fake_samples\n",
    "not_fake_samples = not_fake_nouns.loc[not_fake_nouns.sample(int(len(not_fake_nouns)/10)).index.sort_values()]\n",
    "#The preservation of class (nouns) proportions is ensured by the size of the sample (around 8700 items)\n",
    "targets_nfs = not_fake_samples['priv']\n",
    "nouns_nfs = not_fake_samples['noun']\n",
    "X_nfs = not_fake_samples.drop(columns=['priv','noun'])\n",
    "not_fake_samples"
   ]
  },
  {
   "cell_type": "code",
   "execution_count": 5,
   "metadata": {},
   "outputs": [
    {
     "data": {
      "text/plain": [
       "article      12453\n",
       "blood        11614\n",
       "gun          11450\n",
       "company      11333\n",
       "death        10728\n",
       "interview    10616\n",
       "id            9059\n",
       "passport      8975\n",
       "beard         3744\n",
       "Name: noun, dtype: int64"
      ]
     },
     "execution_count": 5,
     "metadata": {},
     "output_type": "execute_result"
    }
   ],
   "source": [
    "nouns_NFnouns.value_counts()"
   ]
  },
  {
   "cell_type": "markdown",
   "metadata": {},
   "source": [
    "## Datasets storage reminder : \n",
    "* [fake] **NOUN** : fake_nouns ; indexer ; X_Fnouns ; targets_Fnouns ; nouns_Fnouns\n",
    "* [not fake] **NOUN** : not_fake_nouns ; indexer ; X_NFnouns ; targets_NFnouns ; nouns_NFnouns\n",
    "* **sampled** [not fake] **NOUN** : not_fake_samples ; - ; X_nfs ; targets_nfs ; nouns_nfs\n",
    "* **FAKE** : fakes_embd ; indexer_fakes ; X_fakes ; targets_fakes ; nouns_fakes"
   ]
  },
  {
   "cell_type": "markdown",
   "metadata": {},
   "source": [
    "## Random Sampling"
   ]
  },
  {
   "cell_type": "code",
   "execution_count": 6,
   "metadata": {},
   "outputs": [],
   "source": [
    "def random_labeling(tolerance,df,debug=False,rng=None,out_list=False):\n",
    "    delta = tolerance*2\n",
    "    while delta > tolerance:\n",
    "        if rng:\n",
    "            rand_classes = {listNouns[k]:rng.integers(0,2) for k in range(9)}\n",
    "        else:\n",
    "            rand_classes = {listNouns[k]:np.random.randint(2) for k in range(9)}\n",
    "        rand_targets = pd.Series(data=np.ones(len(df))*-1,index=df.index)\n",
    "        for i, embd in df.iterrows():\n",
    "            if rand_classes[embd['noun']]==1:\n",
    "                rand_targets[i]=1\n",
    "        delta = np.abs(rand_targets.sum())\n",
    "    if debug:\n",
    "        print('sampling delta : ', delta)\n",
    "        print(rand_targets.value_counts())\n",
    "    if out_list:\n",
    "        return (rand_targets, rand_classes)\n",
    "    else:\n",
    "        return rand_targets"
   ]
  },
  {
   "cell_type": "code",
   "execution_count": 7,
   "metadata": {},
   "outputs": [
    {
     "name": "stdout",
     "output_type": "stream",
     "text": [
      "sampling delta :  3.0\n",
      "-1.0    301\n",
      " 1.0    298\n",
      "dtype: int64\n"
     ]
    },
    {
     "data": {
      "image/png": "[encoded data removed]",
      "text/plain": [
       "<Figure size 432x288 with 1 Axes>"
      ]
     },
     "metadata": {
      "needs_background": "light"
     },
     "output_type": "display_data"
    }
   ],
   "source": [
    "rand_targets = random_labeling(50,fakes_embd,True)\n",
    "tsneX = TSNE(n_components=2, init='pca', random_state=0)\n",
    "X_trans = tsneX.fit_transform(X_fakes).T\n",
    "\n",
    "colors_classes={-1: 'blue', 1 : 'gold'}\n",
    "\n",
    "plt.scatter(X_trans[0], X_trans[1], color=rand_targets.map(colors_classes))\n",
    "plt.title(\"t-SNE\")\n",
    "plt.axis('tight')\n",
    "plt.show()"
   ]
  },
  {
   "cell_type": "markdown",
   "metadata": {},
   "source": [
    "## Functions to test robustness"
   ]
  },
  {
   "cell_type": "markdown",
   "metadata": {},
   "source": [
    "### Banned Noun Classification (BNC)"
   ]
  },
  {
   "cell_type": "code",
   "execution_count": 7,
   "metadata": {},
   "outputs": [],
   "source": [
    "def Accuracy_BannedNoun(classifier,Xtrain,Ttrain,Xbanned,Tbanned,preprocess=None,k=2,show_kbest=False):\n",
    "    if preprocess=='pca':\n",
    "        model = make_pipeline(Scaler(),PCA(n_components=0.975),classifier)\n",
    "    else:\n",
    "        model = classifier\n",
    "    model.fit(Xtrain,Ttrain)\n",
    "    y_train = model.predict(Xtrain)\n",
    "    Tacc = np.sum(Ttrain == y_train)/len(Xtrain)\n",
    "    y_banned = model.predict(Xbanned)\n",
    "    Bacc = np.sum(Tbanned == y_banned)/len(Xbanned)\n",
    "    return (Tacc,Bacc)\n",
    "\n",
    "def BNC_accuracy(classifier,X,targets,nouns,preprocess=None,k=2,full_output=False,debug=False,show_kbest=False):\n",
    "    if debug:\n",
    "        print(\"\\rTest {} : BNC  starting%                     \".format(debug), end=\"\")\n",
    "        sys.stdout.flush()\n",
    "    Taccs = np.zeros(len(listNouns))\n",
    "    Baccs = np.zeros(len(listNouns))\n",
    "    \n",
    "    for i,bannedW in enumerate(listNouns):\n",
    "        if debug:\n",
    "            print(\"\\rTest {} : BNC for {} ; {}%             \".format(debug, bannedW, 100 * i // len(listNouns)), end=\"\")\n",
    "            sys.stdout.flush()\n",
    "        Xtrain = X[nouns!=bannedW]\n",
    "        Ttrain = targets[nouns!=bannedW]\n",
    "        if preprocess=='kbest':\n",
    "            select = SelectKBest(MIC,k).fit(Xtrain,Ttrain)\n",
    "            scaler = Scaler()\n",
    "            Xtrain = scaler.fit_transform(select.transform(Xtrain))\n",
    "            if show_kbest:\n",
    "                print(\"({})\".format(np.where(select.get_support())[0]))\n",
    "        Xbanned = X[nouns==bannedW]\n",
    "        if preprocess == 'kbest':\n",
    "            Xbanned = scaler.transform(select.transform(Xbanned))\n",
    "        Tbanned = targets[nouns==bannedW]\n",
    "        Tacc,Bacc = Accuracy_BannedNoun(classifier,Xtrain,Ttrain,Xbanned,Tbanned,preprocess,k,show_kbest)\n",
    "        Taccs[i],Baccs[i] = Tacc, Bacc\n",
    "    AvgTrain = np.mean(Taccs)\n",
    "    AvgBanned = np.mean(Baccs)\n",
    "    if full_output:\n",
    "        return (Taccs,Baccs)\n",
    "    else:\n",
    "        return (AvgTrain,AvgBanned)"
   ]
  },
  {
   "cell_type": "markdown",
   "metadata": {},
   "source": [
    "### Classical Train/Test split and classification"
   ]
  },
  {
   "cell_type": "code",
   "execution_count": 8,
   "metadata": {},
   "outputs": [],
   "source": [
    "def classical_accuracy(classifier,X,targets,nouns,preprocess=None,k=2,out_model=False):\n",
    "    #model selection\n",
    "    if preprocess=='pca':\n",
    "        model = make_pipeline(Scaler(),PCA(n_components=0.975),classifier)\n",
    "    elif preprocess=='kbest':\n",
    "        model = make_pipeline(SelectKBest(MIC,k),Scaler(),classifier)\n",
    "    else:\n",
    "        model = classifier\n",
    "    #The training set should be balanced in term of repartition of nouns\n",
    "    Xtrain,Xtest,Ttrain,Ttest =train_test_split(X, targets, test_size=0.25, random_state=0, stratify=nouns,shuffle=True)\n",
    "    #model training and predictions\n",
    "    model.fit(Xtrain,Ttrain)\n",
    "    y_train = model.predict(Xtrain)\n",
    "    y_test = model.predict(Xtest)\n",
    "    #accuracies\n",
    "    Train_acc = np.sum(Ttrain == y_train)/len(Xtrain)\n",
    "    Test_acc = np.sum(Ttest == y_test)/len(Xtest)\n",
    "    if out_model:\n",
    "        return (Train_acc,Test_acc,model)\n",
    "    else:\n",
    "        return (Train_acc,Test_acc)"
   ]
  },
  {
   "cell_type": "code",
   "execution_count": 9,
   "metadata": {},
   "outputs": [],
   "source": [
    "priv = ['beard','blood','company','death','gun']\n",
    "non_priv = ['article','id','interview','passport']"
   ]
  },
  {
   "cell_type": "code",
   "execution_count": 10,
   "metadata": {},
   "outputs": [
    {
     "name": "stdout",
     "output_type": "stream",
     "text": [
      "% of original unbalancing : 9% in NOT FAKE ; 3% in FAKE\n"
     ]
    }
   ],
   "source": [
    "delta_not_fake = np.sum(nouns_nfs.value_counts()[priv])-np.sum(nouns_nfs.value_counts()[non_priv])\n",
    "delta_fake = np.abs(np.sum(nouns_fakes.value_counts()[priv])-np.sum(nouns_fakes.value_counts()[non_priv]))\n",
    "print('% of original unbalancing : {}% in NOT FAKE ; {}% in FAKE'.format(delta_not_fake*100//len(nouns_nfs), delta_fake*100//len(nouns_fakes)))"
   ]
  },
  {
   "cell_type": "code",
   "execution_count": 11,
   "metadata": {},
   "outputs": [],
   "source": [
    "datasets = {'FAKES': [fakes_embd, X_fakes,targets_fakes, nouns_fakes],\n",
    "            'fake NOUNS': [fake_nouns, X_Fnouns, targets_Fnouns, nouns_Fnouns],\n",
    "            'not fake NOUNS': [not_fake_samples, X_nfs, targets_nfs, nouns_nfs]\n",
    "           }\n",
    "nb_tests = 8"
   ]
  },
  {
   "cell_type": "code",
   "execution_count": 13,
   "metadata": {},
   "outputs": [],
   "source": [
    "def random_classif_process(classifier,clf_name,nb_tests,preprocess=None,k=2):\n",
    "    print(\"============================================ {} =============================================\".format(clf_name.upper()))\n",
    "    for category in datasets.keys():\n",
    "        print('--------------------------{}--------------------------'.format(category))\n",
    "        embeddings,X,T,N = datasets[category]\n",
    "        if preprocess=='tsne':\n",
    "            tsne = TSNE(n_components=k)\n",
    "            X = tsne.fit_transform(X)\n",
    "        Taccs, Gaccs = np.zeros((2,nb_tests))\n",
    "        BNC_Taccs, Baccs = np.zeros((2,nb_tests))\n",
    "        for i in range(nb_tests):\n",
    "            print(\"\\rTest {} : random sampling            \".format(i+1), end=\"\")\n",
    "            sys.stdout.flush()\n",
    "            rand_T = random_labeling(int(len(embeddings)*0.09),embeddings) #we have a tolerance of 9% the size of the dataset, since it is the difference maximum we observed in the original class repartition\n",
    "            print(\"\\rTest {} : random classif              \".format(i+1), end=\"\")\n",
    "            sys.stdout.flush()\n",
    "            Taccs[i], Gaccs[i] = classical_accuracy(classifier,X,rand_T,N,preprocess=preprocess,k=k)\n",
    "            BNC_Taccs[i], Baccs[i] = BNC_accuracy(classifier,X,rand_T,N,preprocess=preprocess,k=k,debug=i+1)\n",
    "        print('\\rAverage train accuracy : {}%   ( {}  )'.format(np.mean(Taccs).round(4)*100,np.std(Taccs).round(4)*100))\n",
    "        print('Average test accuracy : {}%   ( {}  )'.format(np.mean(Gaccs).round(4)*100,np.std(Gaccs).round(4)*100))\n",
    "        print('\\rAverage BNC train accuracy : {}%   ( {}  )'.format(np.mean(BNC_Taccs).round(4)*100,np.std(BNC_Taccs).round(4)*100))\n",
    "        print('Average BNC test accuracy : {}%   ( {}  )'.format(np.mean(Baccs).round(4)*100,np.std(Baccs).round(4)*100))"
   ]
  },
  {
   "cell_type": "code",
   "execution_count": 14,
   "metadata": {},
   "outputs": [],
   "source": [
    "def partition(n):\n",
    "    buffer = []\n",
    "    if n==1:\n",
    "        return [[0],[1]]\n",
    "    sub_list=partition(n-1)\n",
    "    for part in sub_list:\n",
    "        buffer.append([0]+part.copy())\n",
    "        buffer.append([1]+part.copy())\n",
    "    return buffer\n"
   ]
  },
  {
   "cell_type": "markdown",
   "metadata": {},
   "source": [
    "## Visualization of a random classification"
   ]
  },
  {
   "cell_type": "markdown",
   "metadata": {},
   "source": [
    "We will use FAKE embeddings"
   ]
  },
  {
   "cell_type": "code",
   "execution_count": 535,
   "metadata": {},
   "outputs": [],
   "source": [
    "# # Looking for a random key that output the original separation\n",
    "# privativity_dict = {'article': 0, 'beard': 1, 'blood': 1, 'company': 1, 'death': 1, 'gun': 1, 'id': 0, 'interview': 0, 'passport': 0}\n",
    "# non_privativity_dict = {n:0**privativity_dict[n] for n in privativity_dict}\n",
    "\n",
    "# i=0\n",
    "# rng = np.random.default_rng(i)\n",
    "# rand_T, rand_dict = random_labeling(int(len(fakes_embd)*0.09),fakes_embd,rng=rng,out_list=True)\n",
    "\n",
    "# while rand_dict != privativity_dict and rand_dict != non_privativity_dict:\n",
    "#     i+=1\n",
    "#     rng = np.random.default_rng(i)\n",
    "#     rand_T, rand_dict = random_labeling(int(len(fakes_embd)*0.09),fakes_embd,rng=rng,out_list=True)\n",
    "# print(i)"
   ]
  },
  {
   "cell_type": "code",
   "execution_count": 15,
   "metadata": {},
   "outputs": [],
   "source": [
    "warnings.filterwarnings('ignore') #ignore FutureWarnings"
   ]
  },
  {
   "cell_type": "code",
   "execution_count": 35,
   "metadata": {},
   "outputs": [
    {
     "name": "stdout",
     "output_type": "stream",
     "text": [
      "{'article': 0, 'beard': 0, 'blood': 0, 'company': 0, 'death': 1, 'gun': 0, 'id': 1, 'interview': 1, 'passport': 1}\n",
      "Test 1 : BNC for passport ; 88%              "
     ]
    },
    {
     "data": {
      "image/png": "[encoded data removed]",
      "text/plain": [
       "<Figure size 432x288 with 1 Axes>"
      ]
     },
     "metadata": {
      "needs_background": "light"
     },
     "output_type": "display_data"
    }
   ],
   "source": [
    "rng = np.random.default_rng(42) #set 26 to get original class division\n",
    "\n",
    "#Choose if you want a controlled rng or not\n",
    "#rand_T, rand_dict = random_labeling(int(len(fakes_embd)*0.09),fakes_embd,rng=rng,out_list=True)\n",
    "rand_T, rand_dict = random_labeling(int(len(fakes_embd)*0.09),fakes_embd,out_list=True)\n",
    "\n",
    "print(rand_dict)\n",
    "\n",
    "Tacc, Gacc, model = classical_accuracy(LinearSVC(max_iter=100000),X_fakes,rand_T,nouns_fakes,preprocess='kbest',k=2,out_model=True)\n",
    "_, Loc_Bacc = BNC_accuracy(LinearSVC(max_iter=100000),X_fakes,rand_T,nouns_fakes, preprocess='kbest',k=2,debug=1)\n",
    "\n",
    "\n",
    "X_fakes_trans = model[1].transform(model[0].transform(X_fakes)).T\n",
    "axes_nb = np.where(model[0].get_support())[0]\n",
    "\n",
    "colors_classes={-1: 'blue', 1 : 'gold'}\n",
    "\n",
    "w = model[2].coef_[0]\n",
    "i = model[2].intercept_[0]\n",
    "x1 = np.linspace(-2.5,2.5,10)\n",
    "a = -w[0]/w[1]\n",
    "x2 = a * x1 - i/w[1]\n",
    "colors_classes={-1: 'blue', 1 : 'gold'}\n",
    "\n",
    "plt.scatter(X_fakes_trans[0], X_fakes_trans[1], color=rand_T.map(colors_classes))\n",
    "plt.plot(x1,x2,'k--',label='Separation line')\n",
    "plt.title(\"k-best reduction (2) and random classes \\n train : {}% ; test : {}%\\n BNC {}%\".format(Tacc.round(4)*100, Gacc.round(4)*100,Loc_Bacc.round(4)*100))\n",
    "plt.axis('tight')\n",
    "plt.xlabel('feature #' + str(axes_nb[0]))\n",
    "plt.ylabel('feature #' + str(axes_nb[1]))\n",
    "plt.show()"
   ]
  },
  {
   "cell_type": "code",
   "execution_count": 20,
   "metadata": {},
   "outputs": [
    {
     "name": "stdout",
     "output_type": "stream",
     "text": [
      "Test 1 : BNC for passport ; 88%              "
     ]
    },
    {
     "data": {
      "image/png": "[encoded data removed]",
      "text/plain": [
       "<Figure size 432x288 with 1 Axes>"
      ]
     },
     "metadata": {
      "needs_background": "light"
     },
     "output_type": "display_data"
    }
   ],
   "source": [
    "Tacc, Gacc, model = classical_accuracy(LinearSVC(max_iter=100000),X_fakes,targets_fakes,nouns_fakes,preprocess='kbest',k=2,out_model=True)\n",
    "_, Loc_Bacc = BNC_accuracy(LinearSVC(max_iter=100000),X_fakes,targets_fakes,nouns_fakes, preprocess='kbest',k=2,debug=1)\n",
    "\n",
    "\n",
    "X_fakes_trans = model[1].transform(model[0].transform(X_fakes)).T\n",
    "axes_nb = np.where(model[0].get_support())[0]\n",
    "\n",
    "colors_classes={-1: 'blue', 1 : 'gold'}\n",
    "\n",
    "w = model[2].coef_[0]\n",
    "i = model[2].intercept_[0]\n",
    "x1 = np.linspace(-2.5,2.5,10)\n",
    "a = -w[0]/w[1]\n",
    "x2 = a * x1 - i/w[1]\n",
    "colors_classes={-1: 'blue', 1 : 'gold'}\n",
    "\n",
    "plt.scatter(X_fakes_trans[0], X_fakes_trans[1], color=targets_fakes.map(colors_classes))\n",
    "plt.plot(x1,x2,'k--',label='Separation line')\n",
    "plt.title(\"k-best reduction (2) and true classes \\n train : {}% ; test : {}% \\n BNC {}%\".format(Tacc.round(4)*100, Gacc.round(4)*100,Loc_Bacc.round(4)*100,))\n",
    "plt.axis('tight')\n",
    "plt.xlabel('feature #' + str(axes_nb[0]))\n",
    "plt.ylabel('feature #' + str(axes_nb[1]))\n",
    "plt.show()"
   ]
  },
  {
   "cell_type": "code",
   "execution_count": 36,
   "metadata": {},
   "outputs": [
    {
     "name": "stdout",
     "output_type": "stream",
     "text": [
      "Test 2 : BNC for article ; 0%               ([151 155 196 213 368 372 567 625 659 676])\n",
      "Test 2 : BNC for beard ; 11%             ([151 155 217 371 372 560 567 625 659 761])\n",
      "Test 2 : BNC for blood ; 22%             ([ 46 155 196 211 379 411 461 514 659 676])\n",
      "Test 2 : BNC for company ; 33%             ([ 57 151 155 196 328 372 410 597 625 659])\n",
      "Test 2 : BNC for death ; 44%             ([ 57 151 155 328 372 439 567 625 645 659])\n",
      "Test 2 : BNC for gun ; 55%             ([ 57 151 155 217 328 372 567 597 625 659])\n",
      "Test 2 : BNC for id ; 66%             ([155 217 254 378 460 589 625 657 659 761])\n",
      "Test 2 : BNC for interview ; 77%             ([ 57 151 155 217 328 372 410 567 625 659])\n",
      "Test 2 : BNC for passport ; 88%             ([151 155 217 328 371 372 460 567 625 659])\n"
     ]
    },
    {
     "data": {
      "text/plain": [
       "(0.9664954508307457, 0.7370792962792838)"
      ]
     },
     "execution_count": 36,
     "metadata": {},
     "output_type": "execute_result"
    }
   ],
   "source": [
    "BNC_accuracy(LinearSVC(max_iter=100000),X_fakes,targets_fakes,nouns_fakes, preprocess='kbest',k=10,debug=2,show_kbest=True)"
   ]
  },
  {
   "cell_type": "code",
   "execution_count": 497,
   "metadata": {},
   "outputs": [
    {
     "name": "stdout",
     "output_type": "stream",
     "text": [
      "[676 985]\n"
     ]
    },
    {
     "data": {
      "text/plain": [
       "(0.8607260725479077, 0.7250925658136687)"
      ]
     },
     "execution_count": 497,
     "metadata": {},
     "output_type": "execute_result"
    }
   ],
   "source": [
    "selector = SelectKBest(MIC,2)\n",
    "X_trans = Scaler().fit_transform(selector.fit_transform(X_fakes,rand_T))\n",
    "print(\"\\r{}\".format(np.where(selector.get_support())[0]))\n",
    "BNC_accuracy(classifier,X_trans,rand_T,nouns_fakes)"
   ]
  },
  {
   "cell_type": "code",
   "execution_count": null,
   "metadata": {},
   "outputs": [],
   "source": [
    "warnings.filterwarnings('default')"
   ]
  },
  {
   "cell_type": "markdown",
   "metadata": {},
   "source": [
    "## Testing all random partitions with 2-KBEST (Linear SVM)"
   ]
  },
  {
   "cell_type": "code",
   "execution_count": 16,
   "metadata": {},
   "outputs": [],
   "source": [
    "warnings.filterwarnings('ignore')"
   ]
  },
  {
   "cell_type": "code",
   "execution_count": 17,
   "metadata": {},
   "outputs": [
    {
     "name": "stdout",
     "output_type": "stream",
     "text": [
      "original index :  9\n"
     ]
    },
    {
     "data": {
      "text/plain": [
       "88"
      ]
     },
     "execution_count": 17,
     "metadata": {},
     "output_type": "execute_result"
    }
   ],
   "source": [
    "combinaisons = partition(9)\n",
    "\n",
    "counts = nouns_fakes.value_counts(sort=False).sort_index()\n",
    "\n",
    "valid_parts = []\n",
    "for part in combinaisons :\n",
    "    target_0 = 0\n",
    "    target_1 = 0\n",
    "    for i, value in enumerate(counts):\n",
    "        if part[i]:\n",
    "            target_1 += value\n",
    "        else:\n",
    "            target_0 += value\n",
    "    if np.abs(target_0 - target_1)<int(len(fakes_embd)*0.09):\n",
    "        valid_parts.append(part)\n",
    "origin_ind_fakes = valid_parts.index([0,1,1,1,1,1,0,0,0])\n",
    "print('original index : ',origin_ind_fakes)            \n",
    "len(valid_parts)"
   ]
  },
  {
   "cell_type": "code",
   "execution_count": 18,
   "metadata": {},
   "outputs": [
    {
     "data": {
      "text/plain": [
       "44"
      ]
     },
     "execution_count": 18,
     "metadata": {},
     "output_type": "execute_result"
    }
   ],
   "source": [
    "# As expected, all valid partitions have also their symetric that is valid and in the reverse order.\n",
    "pairs = 0\n",
    "for i in range(len(valid_parts)//2):\n",
    "    if valid_parts[i]==list((np.array(valid_parts[-i-1])-1)*-1):\n",
    "        pairs+=1\n",
    "pairs"
   ]
  },
  {
   "cell_type": "code",
   "execution_count": 19,
   "metadata": {},
   "outputs": [
    {
     "name": "stdout",
     "output_type": "stream",
     "text": [
      "Test 44 : BNC for passport ; 88%              "
     ]
    }
   ],
   "source": [
    "parts_to_test = valid_parts[:len(valid_parts)//2]\n",
    "FAKES_classic_scores = np.empty(len(parts_to_test))\n",
    "FAKES_BNC_scores = np.empty(len(parts_to_test))\n",
    "FNOUNS_classic_scores = np.empty(len(parts_to_test))\n",
    "FNOUNS_BNC_scores = np.empty(len(parts_to_test))\n",
    "\n",
    "for ind,part in enumerate(parts_to_test):\n",
    "    part_classes = {listNouns[k]:part[k] for k in range(9)}\n",
    "    part_targets = pd.Series(data=np.ones(len(fakes_embd))*-1,index=fakes_embd.index)\n",
    "    for i, embd in fakes_embd.iterrows():\n",
    "        if part_classes[embd['noun']]==1:\n",
    "            part_targets[i]=1\n",
    "    _,FAKES_classic_scores[ind] = classical_accuracy(LinearSVC(max_iter=100000),X_fakes,part_targets,nouns_fakes,preprocess='kbest',k=2)\n",
    "    _,FAKES_BNC_scores[ind] = BNC_accuracy(LinearSVC(max_iter=100000),X_fakes,part_targets,nouns_fakes,preprocess='kbest',k=2,debug=ind+1)\n",
    "    _,FNOUNS_classic_scores[ind] = classical_accuracy(LinearSVC(max_iter=100000),X_Fnouns,part_targets,nouns_Fnouns ,preprocess='kbest',k=2)\n",
    "    _,FNOUNS_BNC_scores[ind] = BNC_accuracy(LinearSVC(max_iter=100000),X_Fnouns,part_targets,nouns_Fnouns,preprocess='kbest',k=2,debug=ind+1)\n"
   ]
  },
  {
   "cell_type": "code",
   "execution_count": 20,
   "metadata": {},
   "outputs": [
    {
     "data": {
      "text/plain": [
       "0.5951667048397602"
      ]
     },
     "execution_count": 20,
     "metadata": {},
     "output_type": "execute_result"
    }
   ],
   "source": [
    "np.max(FAKES_BNC_scores)"
   ]
  },
  {
   "cell_type": "code",
   "execution_count": 21,
   "metadata": {},
   "outputs": [
    {
     "name": "stdout",
     "output_type": "stream",
     "text": [
      "0.5952 [1, 1, 0, 0, 1, 1, 1, 1, 0] 42\n",
      "0.5675 [1, 1, 1, 0, 0, 0, 0, 1, 0] 20\n",
      "0.5671 [1, 1, 0, 0, 1, 0, 1, 1, 0] 33\n",
      "0.5611 [1, 0, 1, 0, 0, 1, 0, 1, 0] 24\n",
      "0.5535 [1, 1, 0, 1, 1, 0, 1, 1, 0] 36\n",
      "0.5265 [0, 0, 1, 0, 1, 0, 1, 0, 0] 12\n",
      "0.518 [0, 0, 1, 1, 1, 0, 1, 0, 0] 14\n",
      "0.5111 [1, 0, 0, 1, 1, 1, 1, 1, 0] 43\n",
      "0.5101 [0, 1, 1, 0, 1, 1, 0, 1, 0] 26\n",
      "0.5091 [1, 1, 1, 0, 1, 0, 0, 0, 0] 3\n",
      "0.5087 [1, 1, 0, 1, 1, 0, 1, 0, 0] 13\n",
      "0.5034 [1, 1, 0, 0, 0, 1, 1, 1, 0] 37\n",
      "0.5026 [0, 1, 1, 1, 1, 0, 0, 1, 0] 23\n",
      "0.4963 [0, 1, 1, 1, 1, 1, 0, 0, 0]  baseline (original partition)\n",
      "0.4884 [1, 0, 0, 1, 1, 0, 1, 1, 0] 35\n",
      "0.4764 [1, 1, 0, 1, 0, 1, 1, 1, 0] 39\n",
      "0.4683 [0, 1, 1, 0, 0, 1, 1, 0, 0] 15\n",
      "0.4579 [0, 0, 1, 1, 1, 1, 0, 1, 0] 27\n",
      "0.455 [1, 1, 1, 1, 0, 1, 0, 0, 0] 7\n",
      "0.4539 [1, 1, 0, 1, 0, 0, 1, 1, 0] 31\n",
      "0.4494 [1, 0, 1, 0, 1, 0, 0, 0, 0] 2\n",
      "0.4481 [1, 0, 1, 1, 0, 0, 0, 1, 0] 21\n",
      "0.4384 [1, 1, 1, 1, 0, 0, 0, 0, 0] 1\n",
      "0.4211 [1, 1, 0, 1, 1, 1, 1, 0, 0] 19\n",
      "0.4192 [1, 0, 1, 0, 1, 0, 0, 1, 0] 22\n",
      "0.4162 [0, 0, 1, 0, 1, 1, 1, 0, 0] 18\n",
      "0.416 [1, 1, 0, 0, 1, 1, 1, 0, 0] 17\n",
      "0.4075 [1, 0, 1, 1, 0, 1, 0, 0, 0] 6\n",
      "0.4055 [1, 1, 1, 0, 0, 0, 0, 0, 0] 0\n",
      "0.4002 [0, 0, 1, 0, 0, 1, 1, 1, 0] 38\n",
      "0.3912 [1, 1, 1, 0, 0, 1, 0, 0, 0] 5\n",
      "0.3856 [0, 1, 1, 1, 1, 1, 0, 1, 0] 28\n",
      "0.3849 [1, 0, 1, 1, 0, 1, 0, 1, 0] 25\n",
      "0.384 [0, 1, 1, 0, 0, 0, 1, 0, 0] 10\n",
      "0.3695 [1, 0, 1, 0, 1, 1, 0, 0, 0] 8\n",
      "0.3492 [0, 0, 1, 0, 0, 0, 1, 1, 0] 29\n",
      "0.3458 [0, 0, 1, 0, 1, 0, 1, 1, 0] 34\n",
      "0.3399 [1, 0, 1, 1, 1, 0, 0, 0, 0] 4\n"
     ]
    }
   ],
   "source": [
    "high_s_fakes = FAKES_BNC_scores[FAKES_BNC_scores>0.31]\n",
    "highest_p_fakes = np.flip(np.argsort(FAKES_BNC_scores))[:len(high_s_fakes)]\n",
    "for ind in highest_p_fakes:\n",
    "    if ind == origin_ind_fakes:\n",
    "        print(FAKES_BNC_scores[origin_ind_fakes].round(4) , valid_parts[origin_ind_fakes], ' baseline (original partition)')\n",
    "    else:\n",
    "        print(FAKES_BNC_scores[ind].round(4) , valid_parts[ind], ind)"
   ]
  },
  {
   "cell_type": "code",
   "execution_count": 22,
   "metadata": {},
   "outputs": [
    {
     "name": "stdout",
     "output_type": "stream",
     "text": [
      "0.823 [0, 0, 1, 0, 1, 0, 1, 0, 0] 12\n",
      "0.7402 [1, 1, 1, 1, 0, 1, 0, 0, 0] 7\n",
      "0.726 [0, 1, 1, 0, 1, 1, 0, 1, 0] 26\n",
      "0.7223 [0, 0, 1, 0, 0, 1, 1, 1, 0] 38\n",
      "0.7168 [1, 0, 1, 0, 1, 0, 0, 1, 0] 22\n",
      "0.6794 [0, 1, 1, 1, 1, 1, 0, 0, 0]  baseline (original partition)\n",
      "0.6593 [0, 0, 1, 1, 1, 0, 1, 0, 0] 14\n",
      "0.6578 [1, 0, 1, 1, 0, 0, 0, 1, 0] 21\n",
      "0.6402 [0, 1, 1, 0, 0, 1, 1, 0, 0] 15\n",
      "0.6111 [1, 1, 1, 0, 1, 0, 0, 0, 0] 3\n",
      "0.5767 [0, 0, 1, 1, 0, 1, 1, 1, 0] 40\n",
      "0.5751 [1, 1, 0, 1, 1, 0, 1, 1, 0] 36\n",
      "0.5618 [1, 1, 0, 0, 1, 1, 1, 1, 0] 42\n",
      "0.5606 [1, 1, 0, 0, 0, 1, 1, 1, 0] 37\n",
      "0.5306 [1, 1, 1, 0, 0, 0, 0, 1, 0] 20\n",
      "0.4698 [1, 0, 1, 0, 1, 0, 0, 0, 0] 2\n",
      "0.4625 [1, 0, 1, 1, 0, 1, 0, 0, 0] 6\n",
      "0.4606 [0, 0, 1, 1, 0, 1, 1, 0, 0] 16\n",
      "0.4547 [0, 1, 1, 1, 1, 0, 0, 1, 0] 23\n",
      "0.4325 [0, 1, 1, 0, 0, 0, 1, 0, 0] 10\n",
      "0.4207 [1, 1, 0, 0, 1, 0, 1, 1, 0] 33\n",
      "0.4176 [1, 0, 0, 1, 1, 0, 1, 1, 0] 35\n",
      "0.4035 [1, 0, 1, 1, 1, 0, 0, 0, 0] 4\n",
      "0.3945 [1, 0, 1, 0, 0, 1, 0, 1, 0] 24\n",
      "0.3893 [0, 0, 1, 0, 0, 0, 1, 1, 0] 29\n",
      "0.3872 [0, 1, 1, 1, 1, 1, 0, 1, 0] 28\n",
      "0.3665 [0, 0, 1, 0, 1, 0, 1, 1, 0] 34\n",
      "0.3657 [1, 1, 0, 1, 1, 1, 1, 0, 0] 19\n",
      "0.3603 [1, 1, 1, 1, 0, 0, 0, 0, 0] 1\n",
      "0.3509 [1, 1, 0, 1, 0, 1, 1, 1, 0] 39\n",
      "0.3459 [0, 0, 1, 0, 1, 1, 1, 0, 0] 18\n",
      "0.343 [1, 0, 0, 1, 1, 1, 1, 1, 0] 43\n",
      "0.3223 [1, 0, 0, 0, 1, 1, 1, 1, 0] 41\n"
     ]
    }
   ],
   "source": [
    "high_s_fnouns = FNOUNS_BNC_scores[FNOUNS_BNC_scores>0.31]\n",
    "highest_p_fnouns = np.flip(np.argsort(FNOUNS_BNC_scores))[:len(high_s_fnouns)]\n",
    "for ind in highest_p_fnouns:\n",
    "    if ind == origin_ind_fakes:\n",
    "        print(FNOUNS_BNC_scores[origin_ind_fakes].round(4) , valid_parts[origin_ind_fakes], ' baseline (original partition)')\n",
    "    else:\n",
    "        print(FNOUNS_BNC_scores[ind].round(4) , valid_parts[ind], ind)"
   ]
  },
  {
   "cell_type": "code",
   "execution_count": 23,
   "metadata": {},
   "outputs": [
    {
     "data": {
      "image/png": "[encoded data removed]",
      "text/plain": [
       "<Figure size 720x288 with 2 Axes>"
      ]
     },
     "metadata": {
      "needs_background": "light"
     },
     "output_type": "display_data"
    }
   ],
   "source": [
    "fig, ax = plt.subplots(1,2,figsize=(10,4))\n",
    "ax[0].hist(FAKES_BNC_scores,bins=44,density=False)\n",
    "ax[1].hist(FNOUNS_BNC_scores,bins=44,density=False)\n",
    "ax[0].set_title('BNC Score on FAKE embeddings \\nmean : {} , std : {}'.format(np.mean(FAKES_BNC_scores).round(4)*100,np.std(FAKES_BNC_scores).round(3)*100) )\n",
    "ax[1].set_title('BNC Score on (fake)NOUN embeddings \\nmean : {} , std : {}'.format(np.mean(FNOUNS_BNC_scores).round(4)*100,np.std(FNOUNS_BNC_scores).round(4)*100))\n",
    "plt.show()"
   ]
  },
  {
   "cell_type": "code",
   "execution_count": 24,
   "metadata": {},
   "outputs": [
    {
     "data": {
      "text/plain": [
       "array([0.4282, 0.0985])"
      ]
     },
     "execution_count": 24,
     "metadata": {},
     "output_type": "execute_result"
    }
   ],
   "source": [
    "np.round((np.mean(FAKES_BNC_scores),np.std(FAKES_BNC_scores)),4)"
   ]
  },
  {
   "cell_type": "code",
   "execution_count": 25,
   "metadata": {},
   "outputs": [
    {
     "data": {
      "text/plain": [
       "array([0.4381, 0.1814])"
      ]
     },
     "execution_count": 25,
     "metadata": {},
     "output_type": "execute_result"
    }
   ],
   "source": [
    "np.round((np.mean(FNOUNS_BNC_scores),np.std(FNOUNS_BNC_scores)),4)"
   ]
  },
  {
   "cell_type": "code",
   "execution_count": 26,
   "metadata": {},
   "outputs": [
    {
     "name": "stdout",
     "output_type": "stream",
     "text": [
      "original index :  5\n",
      "nb of valid partitions :  126\n"
     ]
    }
   ],
   "source": [
    "counts = nouns_nfs.value_counts(sort=False).sort_index()\n",
    "\n",
    "valid_parts = []\n",
    "for part in combinaisons :\n",
    "    target_0 = 0\n",
    "    target_1 = 0\n",
    "    for i, value in enumerate(counts):\n",
    "        if part[i]:\n",
    "            target_1 += value\n",
    "        else:\n",
    "            target_0 += value\n",
    "    if np.abs(target_0 - target_1)<=int(max(len(not_fake_samples)*0.09,targets_nfs.sum())):\n",
    "        valid_parts.append(part)\n",
    "\n",
    "origin_ind_notfakes = valid_parts.index([0,1,1,1,1,1,0,0,0])\n",
    "print('original index : ',origin_ind_notfakes)\n",
    "\n",
    "print('nb of valid partitions : ',len(valid_parts))\n",
    "\n"
   ]
  },
  {
   "cell_type": "code",
   "execution_count": 27,
   "metadata": {},
   "outputs": [
    {
     "name": "stdout",
     "output_type": "stream",
     "text": [
      "Test 63 : BNC for passport ; 88%              "
     ]
    }
   ],
   "source": [
    "parts_to_test = valid_parts[:len(valid_parts)//2]\n",
    "NFNOUNS_classic_scores = np.empty(len(parts_to_test))\n",
    "NFNOUNS_BNC_scores = np.empty(len(parts_to_test))\n",
    "\n",
    "for ind,part in enumerate(parts_to_test):\n",
    "    part_classes = {listNouns[k]:part[k] for k in range(9)}\n",
    "    part_targets = pd.Series(data=np.ones(len(not_fake_samples))*-1,index=not_fake_samples.index)\n",
    "    for i, embd in not_fake_samples.iterrows():\n",
    "        if part_classes[embd['noun']]==1:\n",
    "            part_targets[i]=1\n",
    "    _,NFNOUNS_classic_scores[ind] = classical_accuracy(LinearSVC(max_iter=100000),X_nfs,part_targets,nouns_nfs ,preprocess='kbest',k=2)\n",
    "    _,NFNOUNS_BNC_scores[ind] = BNC_accuracy(LinearSVC(max_iter=100000),X_nfs,part_targets,nouns_nfs,preprocess='kbest',k=2,debug=ind+1)\n"
   ]
  },
  {
   "cell_type": "code",
   "execution_count": 28,
   "metadata": {},
   "outputs": [
    {
     "data": {
      "text/plain": [
       "0.7983978503227339"
      ]
     },
     "execution_count": 28,
     "metadata": {},
     "output_type": "execute_result"
    }
   ],
   "source": [
    "np.max(NFNOUNS_BNC_scores)"
   ]
  },
  {
   "cell_type": "code",
   "execution_count": 30,
   "metadata": {},
   "outputs": [
    {
     "name": "stdout",
     "output_type": "stream",
     "text": [
      "0.7984 [0, 1, 0, 1, 1, 1, 0, 1, 0] 42\n",
      "0.7544 [0, 1, 1, 1, 0, 1, 0, 1, 0] 36\n",
      "0.7165 [0, 1, 1, 0, 1, 1, 0, 1, 0] 40\n",
      "0.7 [0, 1, 1, 1, 0, 0, 1, 1, 0] 48\n",
      "0.686 [1, 0, 0, 0, 1, 0, 1, 1, 0] 49\n",
      "0.6435 [0, 1, 1, 1, 1, 1, 0, 0, 0]  baseline (original partition)\n",
      "0.6356 [1, 0, 0, 1, 0, 0, 1, 1, 0] 45\n",
      "0.6274 [0, 1, 0, 0, 1, 1, 1, 1, 0] 62\n",
      "0.6238 [1, 0, 0, 1, 0, 1, 1, 0, 0] 16\n",
      "0.6226 [0, 0, 0, 0, 1, 1, 1, 1, 0] 61\n",
      "0.6168 [0, 0, 0, 1, 1, 0, 1, 1, 0] 53\n",
      "0.6136 [1, 0, 0, 1, 1, 0, 1, 0, 0] 10\n",
      "0.6017 [0, 0, 1, 1, 1, 1, 0, 0, 0] 4\n",
      "0.598 [1, 0, 1, 1, 0, 1, 0, 0, 0] 1\n",
      "0.5925 [0, 0, 1, 1, 0, 1, 0, 1, 0] 35\n",
      "0.5608 [1, 0, 1, 0, 0, 0, 1, 1, 0] 43\n",
      "0.5591 [1, 0, 1, 0, 1, 0, 0, 1, 0] 27\n",
      "0.5555 [1, 0, 0, 1, 1, 0, 0, 1, 0] 29\n",
      "0.555 [1, 1, 0, 0, 0, 1, 1, 1, 0] 56\n",
      "0.5429 [1, 0, 1, 1, 0, 0, 0, 1, 0] 26\n",
      "0.5414 [0, 0, 0, 1, 1, 1, 0, 1, 0] 41\n",
      "0.5368 [1, 1, 0, 0, 1, 1, 1, 0, 0] 21\n",
      "0.5221 [0, 0, 1, 1, 1, 0, 0, 1, 0] 31\n",
      "0.5205 [1, 1, 0, 1, 1, 0, 0, 1, 0] 30\n",
      "0.5188 [1, 1, 1, 1, 0, 0, 1, 0, 0] 7\n",
      "0.4976 [1, 1, 0, 0, 1, 1, 0, 1, 0] 38\n",
      "0.4841 [1, 0, 1, 1, 0, 0, 1, 0, 0] 6\n",
      "0.4765 [0, 1, 1, 1, 1, 0, 1, 0, 0] 13\n",
      "0.4697 [0, 1, 0, 1, 1, 0, 1, 1, 0] 54\n",
      "0.4685 [0, 1, 0, 1, 0, 1, 1, 1, 0] 60\n",
      "0.4678 [1, 0, 1, 0, 0, 1, 0, 1, 0] 33\n",
      "0.4498 [0, 0, 1, 0, 0, 1, 1, 1, 0] 57\n"
     ]
    }
   ],
   "source": [
    "high_s_nfnouns = NFNOUNS_BNC_scores[NFNOUNS_BNC_scores>np.mean(NFNOUNS_BNC_scores)]\n",
    "highest_p_nfnouns = np.flip(np.argsort(NFNOUNS_BNC_scores))[:len(high_s_nfnouns)]\n",
    "for ind in highest_p_nfnouns:\n",
    "    if ind == origin_ind_notfakes:\n",
    "        print(NFNOUNS_BNC_scores[origin_ind_notfakes].round(4) , valid_parts[origin_ind_notfakes], ' baseline (original partition)')\n",
    "    else:\n",
    "        print(NFNOUNS_BNC_scores[ind].round(4) , valid_parts[ind], ind)"
   ]
  },
  {
   "cell_type": "code",
   "execution_count": 31,
   "metadata": {},
   "outputs": [
    {
     "data": {
      "image/png": "[encoded data removed]",
      "text/plain": [
       "<Figure size 432x288 with 1 Axes>"
      ]
     },
     "metadata": {
      "needs_background": "light"
     },
     "output_type": "display_data"
    }
   ],
   "source": [
    "plt.hist(NFNOUNS_BNC_scores,bins=len(NFNOUNS_BNC_scores),density=False)\n",
    "plt.title('BNC Score on (not fake)NOUN embeddings')\n",
    "plt.show()"
   ]
  },
  {
   "cell_type": "code",
   "execution_count": 33,
   "metadata": {},
   "outputs": [
    {
     "data": {
      "image/png": "[encoded data removed]",
      "text/plain": [
       "<Figure size 1440x360 with 3 Axes>"
      ]
     },
     "metadata": {
      "needs_background": "light"
     },
     "output_type": "display_data"
    }
   ],
   "source": [
    "fig, ax = plt.subplots(1,3,figsize=(20,5))\n",
    "ax[0].hist(FAKES_BNC_scores,bins=len(FAKES_BNC_scores),density=False, label='{} partitions'.format(len(FAKES_BNC_scores)))\n",
    "ax[1].hist(FNOUNS_BNC_scores,bins=len(FNOUNS_BNC_scores),density=False, label='{} partitions'.format(len(FNOUNS_BNC_scores)))\n",
    "ax[2].hist(NFNOUNS_BNC_scores,bins=len(NFNOUNS_BNC_scores),density=False, label='{} partitions'.format(len(NFNOUNS_BNC_scores)))\n",
    "\n",
    "ax[0].set_title('BNC Score on FAKE embeddings \\nmean : {} , std : {}'.format(np.mean(FAKES_BNC_scores).round(4)*100,np.std(FAKES_BNC_scores).round(3)*100) )\n",
    "ax[1].set_title('BNC Score on (fake)NOUN embeddings \\nmean : {} , std : {}'.format(np.mean(FNOUNS_BNC_scores).round(4)*100,np.std(FNOUNS_BNC_scores).round(4)*100))\n",
    "ax[2].set_title('BNC Score on (not fake)NOUN embeddings \\n mean : {} , std : {}'.format(np.mean(NFNOUNS_BNC_scores).round(4)*100,np.std(NFNOUNS_BNC_scores).round(4)*100))\n",
    "\n",
    "ax[0].legend()\n",
    "ax[1].legend()\n",
    "ax[2].legend()\n",
    "\n",
    "plt.savefig('random_scores_BERT_kbest.png',dpi=300)\n",
    "plt.show()"
   ]
  },
  {
   "cell_type": "code",
   "execution_count": null,
   "metadata": {},
   "outputs": [],
   "source": [
    "warnings.filterwarnings('default')"
   ]
  },
  {
   "cell_type": "markdown",
   "metadata": {},
   "source": [
    "## Testing all random partitions with 10-KBEST (LINEAR SVM)"
   ]
  },
  {
   "cell_type": "code",
   "execution_count": 17,
   "metadata": {},
   "outputs": [],
   "source": [
    "warnings.filterwarnings('ignore')"
   ]
  },
  {
   "cell_type": "code",
   "execution_count": 37,
   "metadata": {},
   "outputs": [
    {
     "name": "stdout",
     "output_type": "stream",
     "text": [
      "original index :  9\n"
     ]
    },
    {
     "data": {
      "text/plain": [
       "88"
      ]
     },
     "execution_count": 37,
     "metadata": {},
     "output_type": "execute_result"
    }
   ],
   "source": [
    "combinaisons = partition(9)\n",
    "\n",
    "counts = nouns_fakes.value_counts(sort=False).sort_index()\n",
    "\n",
    "valid_parts = []\n",
    "for part in combinaisons :\n",
    "    target_0 = 0\n",
    "    target_1 = 0\n",
    "    for i, value in enumerate(counts):\n",
    "        if part[i]:\n",
    "            target_1 += value\n",
    "        else:\n",
    "            target_0 += value\n",
    "    if np.abs(target_0 - target_1)<int(len(fakes_embd)*0.09):\n",
    "        valid_parts.append(part)\n",
    "origin_ind_fakes = valid_parts.index([0,1,1,1,1,1,0,0,0])\n",
    "print('original index : ',origin_ind_fakes)            \n",
    "len(valid_parts)"
   ]
  },
  {
   "cell_type": "code",
   "execution_count": 38,
   "metadata": {},
   "outputs": [
    {
     "data": {
      "text/plain": [
       "44"
      ]
     },
     "execution_count": 38,
     "metadata": {},
     "output_type": "execute_result"
    }
   ],
   "source": [
    "# As expected, all valid partitions have also their symetric that is valid and in the reverse order.\n",
    "pairs = 0\n",
    "for i in range(len(valid_parts)//2):\n",
    "    if valid_parts[i]==list((np.array(valid_parts[-i-1])-1)*-1):\n",
    "        pairs+=1\n",
    "pairs"
   ]
  },
  {
   "cell_type": "code",
   "execution_count": 39,
   "metadata": {},
   "outputs": [
    {
     "name": "stdout",
     "output_type": "stream",
     "text": [
      "Test 44 : BNC for passport ; 88%              "
     ]
    }
   ],
   "source": [
    "parts_to_test = valid_parts[:len(valid_parts)//2]\n",
    "FAKES_classic_scores = np.empty(len(parts_to_test))\n",
    "FAKES_BNC_scores = np.empty(len(parts_to_test))\n",
    "FNOUNS_classic_scores = np.empty(len(parts_to_test))\n",
    "FNOUNS_BNC_scores = np.empty(len(parts_to_test))\n",
    "\n",
    "for ind,part in enumerate(parts_to_test):\n",
    "    part_classes = {listNouns[k]:part[k] for k in range(9)}\n",
    "    part_targets = pd.Series(data=np.ones(len(fakes_embd))*-1,index=fakes_embd.index)\n",
    "    for i, embd in fakes_embd.iterrows():\n",
    "        if part_classes[embd['noun']]==1:\n",
    "            part_targets[i]=1\n",
    "    _,FAKES_classic_scores[ind] = classical_accuracy(LinearSVC(max_iter=100000),X_fakes,part_targets,nouns_fakes,preprocess='kbest',k=10)\n",
    "    _,FAKES_BNC_scores[ind] = BNC_accuracy(LinearSVC(max_iter=100000),X_fakes,part_targets,nouns_fakes,preprocess='kbest',k=10,debug=ind+1)\n",
    "    _,FNOUNS_classic_scores[ind] = classical_accuracy(LinearSVC(max_iter=100000),X_Fnouns,part_targets,nouns_Fnouns ,preprocess='kbest',k=10)\n",
    "    _,FNOUNS_BNC_scores[ind] = BNC_accuracy(LinearSVC(max_iter=100000),X_Fnouns,part_targets,nouns_Fnouns,preprocess='kbest',k=10,debug=ind+1)\n"
   ]
  },
  {
   "cell_type": "code",
   "execution_count": 40,
   "metadata": {},
   "outputs": [
    {
     "data": {
      "text/plain": [
       "0.7370792962792838"
      ]
     },
     "execution_count": 40,
     "metadata": {},
     "output_type": "execute_result"
    }
   ],
   "source": [
    "np.max(FAKES_BNC_scores)"
   ]
  },
  {
   "cell_type": "code",
   "execution_count": 41,
   "metadata": {},
   "outputs": [
    {
     "name": "stdout",
     "output_type": "stream",
     "text": [
      "0.7371 [0, 1, 1, 1, 1, 1, 0, 0, 0]  baseline (original partition)\n",
      "0.6437 [1, 0, 1, 1, 0, 1, 0, 1, 0] 25\n",
      "0.6287 [1, 1, 0, 1, 1, 0, 1, 1, 0] 36\n",
      "0.6238 [0, 1, 1, 0, 1, 1, 0, 1, 0] 26\n",
      "0.6151 [1, 1, 0, 0, 1, 0, 1, 1, 0] 33\n",
      "0.6048 [1, 0, 0, 1, 1, 0, 1, 1, 0] 35\n",
      "0.5859 [1, 1, 1, 0, 0, 0, 0, 1, 0] 20\n",
      "0.581 [0, 0, 1, 0, 1, 0, 1, 0, 0] 12\n",
      "0.5725 [0, 1, 1, 0, 0, 1, 1, 0, 0] 15\n",
      "0.5593 [1, 0, 1, 0, 1, 0, 0, 0, 0] 2\n",
      "0.5562 [0, 1, 1, 1, 1, 1, 0, 1, 0] 28\n",
      "0.5443 [1, 0, 1, 0, 1, 0, 0, 1, 0] 22\n",
      "0.5311 [1, 0, 1, 1, 0, 0, 0, 1, 0] 21\n",
      "0.5152 [0, 1, 1, 1, 1, 0, 0, 1, 0] 23\n",
      "0.4977 [0, 1, 1, 0, 0, 0, 1, 0, 0] 10\n",
      "0.4934 [1, 0, 0, 1, 1, 1, 1, 1, 0] 43\n",
      "0.4899 [1, 1, 0, 0, 1, 1, 1, 1, 0] 42\n",
      "0.4808 [1, 1, 1, 0, 1, 0, 0, 0, 0] 3\n",
      "0.4685 [1, 0, 1, 0, 0, 1, 0, 1, 0] 24\n",
      "0.459 [1, 0, 1, 1, 0, 1, 0, 0, 0] 6\n",
      "0.4555 [1, 1, 1, 1, 0, 1, 0, 0, 0] 7\n",
      "0.4472 [1, 0, 1, 1, 1, 0, 0, 0, 0] 4\n"
     ]
    }
   ],
   "source": [
    "high_s_fakes = FAKES_BNC_scores[FAKES_BNC_scores>np.mean(FAKES_BNC_scores)]\n",
    "highest_p_fakes = np.flip(np.argsort(FAKES_BNC_scores))[:len(high_s_fakes)]\n",
    "for ind in highest_p_fakes:\n",
    "    if ind == origin_ind_fakes:\n",
    "        print(FAKES_BNC_scores[origin_ind_fakes].round(4) , valid_parts[origin_ind_fakes], ' baseline (original partition)')\n",
    "    else:\n",
    "        print(FAKES_BNC_scores[ind].round(4) , valid_parts[ind], ind)"
   ]
  },
  {
   "cell_type": "code",
   "execution_count": 42,
   "metadata": {},
   "outputs": [
    {
     "name": "stdout",
     "output_type": "stream",
     "text": [
      "0.9583 [0, 1, 1, 1, 1, 1, 0, 0, 0]  baseline (original partition)\n",
      "0.753 [1, 1, 0, 0, 0, 1, 1, 1, 0] 37\n",
      "0.6865 [1, 0, 1, 0, 1, 0, 0, 1, 0] 22\n",
      "0.6386 [1, 1, 0, 0, 1, 0, 1, 1, 0] 33\n",
      "0.6252 [1, 1, 0, 1, 0, 1, 1, 1, 0] 39\n",
      "0.6228 [1, 0, 1, 0, 1, 0, 0, 0, 0] 2\n",
      "0.6176 [1, 1, 1, 0, 1, 0, 0, 0, 0] 3\n",
      "0.6025 [0, 0, 1, 1, 1, 0, 1, 0, 0] 14\n",
      "0.5945 [0, 0, 1, 0, 0, 0, 1, 1, 0] 29\n",
      "0.5877 [1, 1, 0, 1, 1, 0, 1, 1, 0] 36\n",
      "0.5837 [0, 0, 1, 0, 0, 1, 1, 1, 0] 38\n",
      "0.5809 [1, 0, 1, 1, 0, 0, 0, 1, 0] 21\n",
      "0.5621 [0, 1, 1, 0, 0, 0, 1, 0, 0] 10\n",
      "0.5619 [1, 1, 0, 0, 1, 1, 1, 1, 0] 42\n",
      "0.5498 [0, 0, 1, 0, 1, 0, 1, 0, 0] 12\n",
      "0.5 [0, 1, 1, 0, 1, 1, 0, 1, 0] 26\n",
      "0.4955 [1, 1, 1, 1, 0, 1, 0, 0, 0] 7\n",
      "0.4891 [1, 1, 1, 0, 0, 0, 0, 1, 0] 20\n",
      "0.483 [0, 0, 1, 0, 1, 1, 1, 0, 0] 18\n",
      "0.4808 [1, 0, 1, 1, 0, 1, 0, 1, 0] 25\n",
      "0.4782 [1, 0, 0, 1, 1, 1, 1, 1, 0] 43\n",
      "0.4638 [1, 0, 1, 1, 1, 0, 0, 0, 0] 4\n"
     ]
    }
   ],
   "source": [
    "high_s_fnouns = FNOUNS_BNC_scores[FNOUNS_BNC_scores>np.mean(FNOUNS_BNC_scores)]\n",
    "highest_p_fnouns = np.flip(np.argsort(FNOUNS_BNC_scores))[:len(high_s_fnouns)]\n",
    "for ind in highest_p_fnouns:\n",
    "    if ind == origin_ind_fakes:\n",
    "        print(FNOUNS_BNC_scores[origin_ind_fakes].round(4) , valid_parts[origin_ind_fakes], ' baseline (original partition)')\n",
    "    else:\n",
    "        print(FNOUNS_BNC_scores[ind].round(4) , valid_parts[ind], ind)"
   ]
  },
  {
   "cell_type": "code",
   "execution_count": 43,
   "metadata": {},
   "outputs": [
    {
     "data": {
      "image/png": "[encoded data removed]",
      "text/plain": [
       "<Figure size 720x288 with 2 Axes>"
      ]
     },
     "metadata": {
      "needs_background": "light"
     },
     "output_type": "display_data"
    }
   ],
   "source": [
    "fig, ax = plt.subplots(1,2,figsize=(10,4))\n",
    "ax[0].hist(FAKES_BNC_scores,bins=44,density=False)\n",
    "ax[1].hist(FNOUNS_BNC_scores,bins=44,density=False)\n",
    "ax[0].set_title('BNC Score on FAKE embeddings \\nmean : {} , std : {}'.format(np.mean(FAKES_BNC_scores).round(4)*100,np.std(FAKES_BNC_scores).round(3)*100) )\n",
    "ax[1].set_title('BNC Score on (fake)NOUN embeddings \\nmean : {} , std : {}'.format(np.mean(FNOUNS_BNC_scores).round(4)*100,np.std(FNOUNS_BNC_scores).round(4)*100))\n",
    "plt.show()"
   ]
  },
  {
   "cell_type": "code",
   "execution_count": 44,
   "metadata": {},
   "outputs": [
    {
     "data": {
      "text/plain": [
       "array([0.4414, 0.1332])"
      ]
     },
     "execution_count": 44,
     "metadata": {},
     "output_type": "execute_result"
    }
   ],
   "source": [
    "np.round((np.mean(FAKES_BNC_scores),np.std(FAKES_BNC_scores)),4)"
   ]
  },
  {
   "cell_type": "code",
   "execution_count": 45,
   "metadata": {},
   "outputs": [
    {
     "data": {
      "text/plain": [
       "array([0.4473, 0.173 ])"
      ]
     },
     "execution_count": 45,
     "metadata": {},
     "output_type": "execute_result"
    }
   ],
   "source": [
    "np.round((np.mean(FNOUNS_BNC_scores),np.std(FNOUNS_BNC_scores)),4)"
   ]
  },
  {
   "cell_type": "code",
   "execution_count": 46,
   "metadata": {},
   "outputs": [
    {
     "name": "stdout",
     "output_type": "stream",
     "text": [
      "original index :  5\n",
      "nb of valid partitions :  124\n"
     ]
    }
   ],
   "source": [
    "counts = nouns_nfs.value_counts(sort=False).sort_index()\n",
    "\n",
    "valid_parts = []\n",
    "for part in combinaisons :\n",
    "    target_0 = 0\n",
    "    target_1 = 0\n",
    "    for i, value in enumerate(counts):\n",
    "        if part[i]:\n",
    "            target_1 += value\n",
    "        else:\n",
    "            target_0 += value\n",
    "    if np.abs(target_0 - target_1)<=int(max(len(not_fake_samples)*0.09,targets_nfs.sum())):\n",
    "        valid_parts.append(part)\n",
    "\n",
    "origin_ind_notfakes = valid_parts.index([0,1,1,1,1,1,0,0,0])\n",
    "print('original index : ',origin_ind_notfakes)\n",
    "\n",
    "print('nb of valid partitions : ',len(valid_parts))\n",
    "\n"
   ]
  },
  {
   "cell_type": "code",
   "execution_count": 47,
   "metadata": {},
   "outputs": [
    {
     "name": "stdout",
     "output_type": "stream",
     "text": [
      "Test 62 : BNC for passport ; 88%              "
     ]
    }
   ],
   "source": [
    "parts_to_test = valid_parts[:len(valid_parts)//2]\n",
    "NFNOUNS_classic_scores = np.empty(len(parts_to_test))\n",
    "NFNOUNS_BNC_scores = np.empty(len(parts_to_test))\n",
    "\n",
    "for ind,part in enumerate(parts_to_test):\n",
    "    part_classes = {listNouns[k]:part[k] for k in range(9)}\n",
    "    part_targets = pd.Series(data=np.ones(len(not_fake_samples))*-1,index=not_fake_samples.index)\n",
    "    for i, embd in not_fake_samples.iterrows():\n",
    "        if part_classes[embd['noun']]==1:\n",
    "            part_targets[i]=1\n",
    "    _,NFNOUNS_classic_scores[ind] = classical_accuracy(LinearSVC(max_iter=100000),X_nfs,part_targets,nouns_nfs ,preprocess='kbest',k=10)\n",
    "    _,NFNOUNS_BNC_scores[ind] = BNC_accuracy(LinearSVC(max_iter=100000),X_nfs,part_targets,nouns_nfs,preprocess='kbest',k=10,debug=ind+1)\n"
   ]
  },
  {
   "cell_type": "code",
   "execution_count": 48,
   "metadata": {},
   "outputs": [
    {
     "data": {
      "text/plain": [
       "0.8885864740525957"
      ]
     },
     "execution_count": 48,
     "metadata": {},
     "output_type": "execute_result"
    }
   ],
   "source": [
    "np.max(NFNOUNS_BNC_scores)"
   ]
  },
  {
   "cell_type": "code",
   "execution_count": 49,
   "metadata": {},
   "outputs": [
    {
     "name": "stdout",
     "output_type": "stream",
     "text": [
      "0.8886 [0, 1, 1, 1, 1, 1, 0, 0, 0]  baseline (original partition)\n",
      "0.8529 [1, 0, 0, 1, 0, 0, 1, 1, 0] 44\n",
      "0.7527 [0, 0, 1, 1, 1, 1, 0, 0, 0] 4\n",
      "0.7464 [1, 1, 0, 1, 1, 0, 0, 1, 0] 30\n",
      "0.7075 [1, 0, 0, 1, 0, 1, 0, 1, 0] 34\n",
      "0.6815 [0, 0, 0, 1, 1, 1, 0, 1, 0] 40\n",
      "0.6725 [0, 0, 1, 1, 0, 1, 0, 1, 0] 35\n",
      "0.6541 [1, 1, 0, 1, 0, 0, 1, 1, 0] 45\n",
      "0.636 [1, 0, 1, 0, 1, 0, 0, 1, 0] 28\n",
      "0.6122 [0, 1, 0, 1, 1, 1, 0, 1, 0] 41\n",
      "0.6024 [0, 0, 0, 1, 1, 0, 1, 1, 0] 52\n",
      "0.5926 [1, 0, 0, 1, 1, 0, 0, 1, 0] 29\n",
      "0.5697 [0, 0, 1, 1, 1, 0, 0, 1, 0] 31\n",
      "0.5418 [0, 1, 1, 1, 0, 1, 0, 1, 0] 36\n",
      "0.5303 [0, 0, 0, 0, 1, 1, 1, 1, 0] 60\n",
      "0.5291 [0, 1, 0, 1, 1, 0, 1, 1, 0] 53\n",
      "0.5177 [1, 1, 0, 0, 0, 1, 1, 1, 0] 55\n",
      "0.5152 [1, 0, 0, 0, 1, 1, 0, 1, 0] 37\n",
      "0.5119 [0, 1, 0, 1, 0, 1, 1, 1, 0] 59\n",
      "0.5038 [1, 0, 1, 1, 0, 1, 0, 0, 0] 1\n",
      "0.5035 [1, 0, 1, 0, 0, 1, 0, 1, 0] 33\n",
      "0.4809 [0, 1, 1, 0, 1, 1, 0, 1, 0] 39\n",
      "0.4791 [1, 1, 1, 0, 0, 0, 1, 1, 0] 43\n",
      "0.4714 [0, 0, 1, 1, 1, 0, 1, 0, 0] 12\n",
      "0.4707 [1, 0, 1, 0, 1, 1, 0, 0, 0] 2\n",
      "0.4691 [1, 0, 0, 0, 1, 0, 1, 1, 0] 48\n",
      "0.4438 [0, 1, 0, 0, 1, 1, 1, 1, 0] 61\n",
      "0.4397 [1, 1, 1, 1, 0, 0, 1, 0, 0] 7\n",
      "0.434 [1, 0, 0, 1, 0, 1, 1, 0, 0] 16\n",
      "0.4256 [0, 0, 1, 0, 1, 0, 1, 1, 0] 50\n"
     ]
    }
   ],
   "source": [
    "high_s_nfnouns = NFNOUNS_BNC_scores[NFNOUNS_BNC_scores>np.mean(NFNOUNS_BNC_scores)]\n",
    "highest_p_nfnouns = np.flip(np.argsort(NFNOUNS_BNC_scores))[:len(high_s_nfnouns)]\n",
    "for ind in highest_p_nfnouns:\n",
    "    if ind == origin_ind_notfakes:\n",
    "        print(NFNOUNS_BNC_scores[origin_ind_notfakes].round(4) , valid_parts[origin_ind_notfakes], ' baseline (original partition)')\n",
    "    else:\n",
    "        print(NFNOUNS_BNC_scores[ind].round(4) , valid_parts[ind], ind)"
   ]
  },
  {
   "cell_type": "code",
   "execution_count": 50,
   "metadata": {},
   "outputs": [
    {
     "data": {
      "image/png": "[encoded data removed]",
      "text/plain": [
       "<Figure size 432x288 with 1 Axes>"
      ]
     },
     "metadata": {
      "needs_background": "light"
     },
     "output_type": "display_data"
    }
   ],
   "source": [
    "plt.hist(NFNOUNS_BNC_scores,bins=len(NFNOUNS_BNC_scores),density=False)\n",
    "plt.title('BNC Score on (not fake)NOUN embeddings')\n",
    "plt.show()"
   ]
  },
  {
   "cell_type": "code",
   "execution_count": 51,
   "metadata": {},
   "outputs": [
    {
     "data": {
      "image/png": "[encoded data removed]",
      "text/plain": [
       "<Figure size 1440x360 with 3 Axes>"
      ]
     },
     "metadata": {
      "needs_background": "light"
     },
     "output_type": "display_data"
    }
   ],
   "source": [
    "fig, ax = plt.subplots(1,3,figsize=(20,5))\n",
    "ax[0].hist(FAKES_BNC_scores,bins=len(FAKES_BNC_scores),density=False, label='{} partitions'.format(len(FAKES_BNC_scores)))\n",
    "ax[1].hist(FNOUNS_BNC_scores,bins=len(FNOUNS_BNC_scores),density=False, label='{} partitions'.format(len(FNOUNS_BNC_scores)))\n",
    "ax[2].hist(NFNOUNS_BNC_scores,bins=len(NFNOUNS_BNC_scores),density=False, label='{} partitions'.format(len(NFNOUNS_BNC_scores)))\n",
    "\n",
    "ax[0].set_title('BNC Score on FAKE embeddings \\nmean : {} , std : {}'.format(np.mean(FAKES_BNC_scores).round(4)*100,np.std(FAKES_BNC_scores).round(3)*100) )\n",
    "ax[1].set_title('BNC Score on (fake)NOUN embeddings \\nmean : {} , std : {}'.format(np.mean(FNOUNS_BNC_scores).round(4)*100,np.std(FNOUNS_BNC_scores).round(4)*100))\n",
    "ax[2].set_title('BNC Score on (not fake)NOUN embeddings \\n mean : {} , std : {}'.format(np.mean(NFNOUNS_BNC_scores).round(4)*100,np.std(NFNOUNS_BNC_scores).round(4)*100))\n",
    "\n",
    "ax[0].legend()\n",
    "ax[1].legend()\n",
    "ax[2].legend()\n",
    "\n",
    "plt.savefig('random_scores_BERT_kbest_10.png',dpi=300)\n",
    "plt.show()"
   ]
  },
  {
   "cell_type": "code",
   "execution_count": null,
   "metadata": {},
   "outputs": [],
   "source": [
    "warnings.filterwarnings('default')"
   ]
  },
  {
   "cell_type": "code",
   "execution_count": null,
   "metadata": {},
   "outputs": [],
   "source": []
  },
  {
   "cell_type": "markdown",
   "metadata": {},
   "source": [
    "## Testing all random partitions with 10-KBEST (Nearest Neighbors)"
   ]
  },
  {
   "cell_type": "code",
   "execution_count": 12,
   "metadata": {},
   "outputs": [],
   "source": [
    "warnings.filterwarnings('ignore')"
   ]
  },
  {
   "cell_type": "code",
   "execution_count": 15,
   "metadata": {},
   "outputs": [
    {
     "name": "stdout",
     "output_type": "stream",
     "text": [
      "original index :  9\n"
     ]
    },
    {
     "data": {
      "text/plain": [
       "88"
      ]
     },
     "execution_count": 15,
     "metadata": {},
     "output_type": "execute_result"
    }
   ],
   "source": [
    "combinaisons = partition(9)\n",
    "\n",
    "counts = nouns_fakes.value_counts(sort=False).sort_index()\n",
    "\n",
    "valid_parts = []\n",
    "for part in combinaisons :\n",
    "    target_0 = 0\n",
    "    target_1 = 0\n",
    "    for i, value in enumerate(counts):\n",
    "        if part[i]:\n",
    "            target_1 += value\n",
    "        else:\n",
    "            target_0 += value\n",
    "    if np.abs(target_0 - target_1)<int(len(fakes_embd)*0.09):\n",
    "        valid_parts.append(part)\n",
    "origin_ind_fakes = valid_parts.index([0,1,1,1,1,1,0,0,0])\n",
    "print('original index : ',origin_ind_fakes)            \n",
    "len(valid_parts)"
   ]
  },
  {
   "cell_type": "code",
   "execution_count": 16,
   "metadata": {},
   "outputs": [
    {
     "data": {
      "text/plain": [
       "44"
      ]
     },
     "execution_count": 16,
     "metadata": {},
     "output_type": "execute_result"
    }
   ],
   "source": [
    "# As expected, all valid partitions have also their symetric that is valid and in the reverse order.\n",
    "pairs = 0\n",
    "for i in range(len(valid_parts)//2):\n",
    "    if valid_parts[i]==list((np.array(valid_parts[-i-1])-1)*-1):\n",
    "        pairs+=1\n",
    "pairs"
   ]
  },
  {
   "cell_type": "code",
   "execution_count": 17,
   "metadata": {},
   "outputs": [
    {
     "name": "stdout",
     "output_type": "stream",
     "text": [
      "Test 44 : BNC for passport ; 88%              "
     ]
    }
   ],
   "source": [
    "parts_to_test = valid_parts[:len(valid_parts)//2]\n",
    "FAKES_classic_scores = np.empty(len(parts_to_test))\n",
    "FAKES_BNC_scores = np.empty(len(parts_to_test))\n",
    "FNOUNS_classic_scores = np.empty(len(parts_to_test))\n",
    "FNOUNS_BNC_scores = np.empty(len(parts_to_test))\n",
    "\n",
    "for ind,part in enumerate(parts_to_test):\n",
    "    part_classes = {listNouns[k]:part[k] for k in range(9)}\n",
    "    part_targets = pd.Series(data=np.ones(len(fakes_embd))*-1,index=fakes_embd.index)\n",
    "    for i, embd in fakes_embd.iterrows():\n",
    "        if part_classes[embd['noun']]==1:\n",
    "            part_targets[i]=1\n",
    "    _,FAKES_classic_scores[ind] = classical_accuracy(NearestCentroid(),X_fakes,part_targets,nouns_fakes,preprocess='kbest',k=10)\n",
    "    _,FAKES_BNC_scores[ind] = BNC_accuracy(NearestCentroid(),X_fakes,part_targets,nouns_fakes,preprocess='kbest',k=10,debug=ind+1)\n",
    "    _,FNOUNS_classic_scores[ind] = classical_accuracy(NearestCentroid(),X_Fnouns,part_targets,nouns_Fnouns ,preprocess='kbest',k=10)\n",
    "    _,FNOUNS_BNC_scores[ind] = BNC_accuracy(NearestCentroid(),X_Fnouns,part_targets,nouns_Fnouns,preprocess='kbest',k=10,debug=ind+1)\n"
   ]
  },
  {
   "cell_type": "code",
   "execution_count": 18,
   "metadata": {},
   "outputs": [
    {
     "data": {
      "text/plain": [
       "0.7667900237796844"
      ]
     },
     "execution_count": 18,
     "metadata": {},
     "output_type": "execute_result"
    }
   ],
   "source": [
    "np.max(FAKES_BNC_scores)"
   ]
  },
  {
   "cell_type": "code",
   "execution_count": 19,
   "metadata": {},
   "outputs": [
    {
     "name": "stdout",
     "output_type": "stream",
     "text": [
      "0.7668 [0, 1, 1, 1, 1, 1, 0, 0, 0]  baseline (original partition)\n",
      "0.7276 [0, 1, 1, 0, 1, 1, 0, 1, 0] 26\n",
      "0.6735 [1, 0, 0, 1, 1, 0, 1, 1, 0] 35\n",
      "0.6432 [0, 0, 1, 0, 1, 0, 1, 0, 0] 12\n",
      "0.6366 [0, 1, 1, 1, 1, 0, 0, 1, 0] 23\n",
      "0.6196 [0, 1, 1, 0, 0, 1, 1, 0, 0] 15\n",
      "0.6056 [1, 1, 1, 0, 0, 0, 0, 1, 0] 20\n",
      "0.5858 [1, 1, 0, 1, 1, 0, 1, 1, 0] 36\n",
      "0.5736 [0, 0, 1, 0, 1, 1, 1, 0, 0] 18\n",
      "0.5637 [1, 1, 0, 0, 1, 0, 1, 1, 0] 33\n",
      "0.562 [0, 1, 1, 1, 1, 1, 0, 1, 0] 28\n",
      "0.561 [0, 1, 1, 0, 0, 0, 1, 0, 0] 10\n",
      "0.5491 [1, 0, 1, 1, 0, 1, 0, 1, 0] 25\n",
      "0.5471 [1, 1, 1, 0, 1, 0, 0, 0, 0] 3\n",
      "0.5401 [1, 0, 1, 0, 1, 0, 0, 1, 0] 22\n",
      "0.533 [1, 0, 1, 0, 1, 0, 0, 0, 0] 2\n",
      "0.527 [1, 0, 0, 1, 1, 1, 1, 1, 0] 43\n",
      "0.522 [1, 0, 1, 1, 0, 0, 0, 1, 0] 21\n",
      "0.5188 [1, 1, 1, 0, 0, 0, 0, 0, 0] 0\n",
      "0.5073 [1, 1, 1, 0, 0, 1, 0, 0, 0] 5\n",
      "0.4974 [1, 1, 0, 1, 0, 1, 1, 1, 0] 39\n",
      "0.4897 [1, 1, 1, 1, 0, 0, 0, 0, 0] 1\n",
      "0.483 [0, 0, 1, 1, 1, 0, 1, 0, 0] 14\n"
     ]
    }
   ],
   "source": [
    "high_s_fakes = FAKES_BNC_scores[FAKES_BNC_scores>np.mean(FAKES_BNC_scores)]\n",
    "highest_p_fakes = np.flip(np.argsort(FAKES_BNC_scores))[:len(high_s_fakes)]\n",
    "for ind in highest_p_fakes:\n",
    "    if ind == origin_ind_fakes:\n",
    "        print(FAKES_BNC_scores[origin_ind_fakes].round(4) , valid_parts[origin_ind_fakes], ' baseline (original partition)')\n",
    "    else:\n",
    "        print(FAKES_BNC_scores[ind].round(4) , valid_parts[ind], ind)"
   ]
  },
  {
   "cell_type": "code",
   "execution_count": 20,
   "metadata": {},
   "outputs": [
    {
     "name": "stdout",
     "output_type": "stream",
     "text": [
      "0.9392 [0, 1, 1, 1, 1, 1, 0, 0, 0]  baseline (original partition)\n",
      "0.7462 [1, 1, 0, 0, 0, 1, 1, 1, 0] 37\n",
      "0.6707 [1, 0, 1, 0, 1, 0, 0, 1, 0] 22\n",
      "0.6526 [0, 1, 1, 1, 1, 1, 0, 1, 0] 28\n",
      "0.6063 [1, 1, 0, 1, 0, 1, 1, 1, 0] 39\n",
      "0.6061 [0, 0, 1, 0, 1, 1, 1, 0, 0] 18\n",
      "0.6059 [1, 0, 1, 0, 1, 0, 0, 0, 0] 2\n",
      "0.5873 [0, 0, 1, 1, 1, 0, 1, 0, 0] 14\n",
      "0.5834 [1, 1, 1, 0, 1, 0, 0, 0, 0] 3\n",
      "0.5778 [0, 0, 1, 0, 0, 0, 1, 1, 0] 29\n",
      "0.5758 [0, 1, 1, 0, 1, 1, 0, 1, 0] 26\n",
      "0.5755 [1, 1, 0, 0, 1, 0, 1, 1, 0] 33\n",
      "0.5576 [1, 0, 1, 1, 0, 1, 0, 1, 0] 25\n",
      "0.5521 [0, 0, 1, 0, 1, 0, 1, 1, 0] 34\n",
      "0.5186 [0, 0, 1, 0, 1, 0, 1, 0, 0] 12\n",
      "0.5172 [1, 0, 1, 1, 0, 0, 0, 1, 0] 21\n",
      "0.5094 [1, 1, 0, 0, 1, 1, 1, 1, 0] 42\n",
      "0.5047 [0, 1, 1, 1, 1, 0, 0, 1, 0] 23\n",
      "0.4813 [1, 1, 0, 1, 1, 0, 1, 1, 0] 36\n",
      "0.4714 [0, 0, 1, 0, 0, 1, 1, 1, 0] 38\n",
      "0.4702 [1, 0, 1, 1, 1, 0, 0, 0, 0] 4\n",
      "0.4667 [1, 0, 0, 1, 1, 1, 1, 1, 0] 43\n",
      "0.4652 [0, 1, 1, 0, 0, 0, 1, 0, 0] 10\n"
     ]
    }
   ],
   "source": [
    "high_s_fnouns = FNOUNS_BNC_scores[FNOUNS_BNC_scores>np.mean(FNOUNS_BNC_scores)]\n",
    "highest_p_fnouns = np.flip(np.argsort(FNOUNS_BNC_scores))[:len(high_s_fnouns)]\n",
    "for ind in highest_p_fnouns:\n",
    "    if ind == origin_ind_fakes:\n",
    "        print(FNOUNS_BNC_scores[origin_ind_fakes].round(4) , valid_parts[origin_ind_fakes], ' baseline (original partition)')\n",
    "    else:\n",
    "        print(FNOUNS_BNC_scores[ind].round(4) , valid_parts[ind], ind)"
   ]
  },
  {
   "cell_type": "code",
   "execution_count": 21,
   "metadata": {},
   "outputs": [
    {
     "data": {
      "image/png": "[encoded data removed]",
      "text/plain": [
       "<Figure size 720x288 with 2 Axes>"
      ]
     },
     "metadata": {
      "needs_background": "light"
     },
     "output_type": "display_data"
    }
   ],
   "source": [
    "fig, ax = plt.subplots(1,2,figsize=(10,4))\n",
    "ax[0].hist(FAKES_BNC_scores,bins=44,density=False)\n",
    "ax[1].hist(FNOUNS_BNC_scores,bins=44,density=False)\n",
    "ax[0].set_title('BNC Score on FAKE embeddings \\nmean : {} , std : {}'.format(np.mean(FAKES_BNC_scores).round(4)*100,np.std(FAKES_BNC_scores).round(3)*100) )\n",
    "ax[1].set_title('BNC Score on (fake)NOUN embeddings \\nmean : {} , std : {}'.format(np.mean(FNOUNS_BNC_scores).round(4)*100,np.std(FNOUNS_BNC_scores).round(4)*100))\n",
    "plt.show()"
   ]
  },
  {
   "cell_type": "code",
   "execution_count": 22,
   "metadata": {},
   "outputs": [
    {
     "data": {
      "text/plain": [
       "array([0.4822, 0.126 ])"
      ]
     },
     "execution_count": 22,
     "metadata": {},
     "output_type": "execute_result"
    }
   ],
   "source": [
    "np.round((np.mean(FAKES_BNC_scores),np.std(FAKES_BNC_scores)),4)"
   ]
  },
  {
   "cell_type": "code",
   "execution_count": 23,
   "metadata": {},
   "outputs": [
    {
     "data": {
      "text/plain": [
       "array([0.4607, 0.153 ])"
      ]
     },
     "execution_count": 23,
     "metadata": {},
     "output_type": "execute_result"
    }
   ],
   "source": [
    "np.round((np.mean(FNOUNS_BNC_scores),np.std(FNOUNS_BNC_scores)),4)"
   ]
  },
  {
   "cell_type": "code",
   "execution_count": 24,
   "metadata": {},
   "outputs": [
    {
     "name": "stdout",
     "output_type": "stream",
     "text": [
      "original index :  5\n",
      "nb of valid partitions :  130\n"
     ]
    }
   ],
   "source": [
    "counts = nouns_nfs.value_counts(sort=False).sort_index()\n",
    "\n",
    "valid_parts = []\n",
    "for part in combinaisons :\n",
    "    target_0 = 0\n",
    "    target_1 = 0\n",
    "    for i, value in enumerate(counts):\n",
    "        if part[i]:\n",
    "            target_1 += value\n",
    "        else:\n",
    "            target_0 += value\n",
    "    if np.abs(target_0 - target_1)<=int(max(len(not_fake_samples)*0.09,targets_nfs.sum())):\n",
    "        valid_parts.append(part)\n",
    "\n",
    "origin_ind_notfakes = valid_parts.index([0,1,1,1,1,1,0,0,0])\n",
    "print('original index : ',origin_ind_notfakes)\n",
    "\n",
    "print('nb of valid partitions : ',len(valid_parts))\n",
    "\n"
   ]
  },
  {
   "cell_type": "code",
   "execution_count": 25,
   "metadata": {},
   "outputs": [
    {
     "name": "stdout",
     "output_type": "stream",
     "text": [
      "Test 65 : BNC for passport ; 88%              "
     ]
    }
   ],
   "source": [
    "parts_to_test = valid_parts[:len(valid_parts)//2]\n",
    "NFNOUNS_classic_scores = np.empty(len(parts_to_test))\n",
    "NFNOUNS_BNC_scores = np.empty(len(parts_to_test))\n",
    "\n",
    "for ind,part in enumerate(parts_to_test):\n",
    "    part_classes = {listNouns[k]:part[k] for k in range(9)}\n",
    "    part_targets = pd.Series(data=np.ones(len(not_fake_samples))*-1,index=not_fake_samples.index)\n",
    "    for i, embd in not_fake_samples.iterrows():\n",
    "        if part_classes[embd['noun']]==1:\n",
    "            part_targets[i]=1\n",
    "    _,NFNOUNS_classic_scores[ind] = classical_accuracy(NearestCentroid(),X_nfs,part_targets,nouns_nfs ,preprocess='kbest',k=10)\n",
    "    _,NFNOUNS_BNC_scores[ind] = BNC_accuracy(NearestCentroid(),X_nfs,part_targets,nouns_nfs,preprocess='kbest',k=10,debug=ind+1)\n"
   ]
  },
  {
   "cell_type": "code",
   "execution_count": 26,
   "metadata": {},
   "outputs": [
    {
     "data": {
      "text/plain": [
       "0.8861279494406946"
      ]
     },
     "execution_count": 26,
     "metadata": {},
     "output_type": "execute_result"
    }
   ],
   "source": [
    "np.max(NFNOUNS_BNC_scores)"
   ]
  },
  {
   "cell_type": "code",
   "execution_count": 27,
   "metadata": {},
   "outputs": [
    {
     "name": "stdout",
     "output_type": "stream",
     "text": [
      "0.8861 [1, 0, 0, 1, 0, 0, 1, 1, 0] 47\n",
      "0.8563 [0, 1, 1, 1, 1, 1, 0, 0, 0]  baseline (original partition)\n",
      "0.7518 [1, 1, 0, 1, 1, 0, 0, 1, 0] 30\n",
      "0.7329 [1, 0, 0, 1, 1, 0, 0, 1, 0] 29\n",
      "0.7249 [0, 0, 0, 1, 1, 1, 0, 1, 0] 43\n",
      "0.7234 [1, 0, 0, 1, 0, 1, 0, 1, 0] 35\n",
      "0.6781 [0, 1, 1, 0, 1, 1, 0, 1, 0] 42\n",
      "0.6658 [1, 1, 0, 0, 1, 1, 0, 1, 0] 40\n",
      "0.6521 [0, 0, 1, 1, 1, 1, 0, 0, 0] 4\n",
      "0.651 [1, 0, 0, 1, 0, 1, 1, 0, 0] 16\n",
      "0.6468 [1, 1, 0, 1, 0, 0, 1, 1, 0] 48\n",
      "0.63 [1, 1, 0, 1, 0, 1, 0, 1, 0] 36\n",
      "0.6193 [0, 0, 1, 1, 1, 0, 0, 1, 0] 31\n",
      "0.6182 [1, 0, 1, 0, 1, 0, 0, 1, 0] 27\n",
      "0.5835 [1, 0, 1, 0, 1, 1, 0, 0, 0] 2\n",
      "0.5774 [1, 0, 1, 1, 0, 1, 0, 0, 0] 1\n",
      "0.5764 [0, 1, 0, 1, 1, 1, 0, 1, 0] 44\n",
      "0.564 [0, 0, 0, 1, 1, 0, 1, 1, 0] 55\n",
      "0.5566 [0, 0, 1, 1, 0, 1, 0, 1, 0] 37\n",
      "0.5378 [1, 1, 1, 0, 0, 0, 1, 1, 0] 46\n",
      "0.5371 [1, 0, 0, 0, 1, 1, 1, 0, 0] 20\n",
      "0.521 [1, 1, 0, 0, 1, 1, 1, 0, 0] 21\n",
      "0.5189 [1, 0, 0, 0, 1, 1, 0, 1, 0] 39\n",
      "0.4935 [0, 1, 1, 1, 0, 1, 0, 1, 0] 38\n",
      "0.4929 [1, 1, 1, 0, 1, 0, 0, 1, 0] 28\n",
      "0.4758 [0, 1, 0, 1, 0, 1, 1, 1, 0] 62\n",
      "0.4712 [1, 0, 1, 0, 0, 1, 1, 0, 0] 14\n",
      "0.4661 [1, 0, 1, 1, 0, 0, 0, 1, 0] 26\n",
      "0.4564 [0, 0, 1, 1, 1, 0, 1, 0, 0] 12\n",
      "0.4515 [1, 0, 1, 0, 0, 1, 0, 1, 0] 33\n",
      "0.448 [0, 0, 1, 0, 0, 1, 1, 1, 0] 59\n",
      "0.4458 [1, 1, 0, 0, 0, 1, 1, 1, 0] 58\n",
      "0.4417 [1, 1, 0, 1, 0, 1, 1, 0, 0] 17\n"
     ]
    }
   ],
   "source": [
    "high_s_nfnouns = NFNOUNS_BNC_scores[NFNOUNS_BNC_scores>np.mean(NFNOUNS_BNC_scores)]\n",
    "highest_p_nfnouns = np.flip(np.argsort(NFNOUNS_BNC_scores))[:len(high_s_nfnouns)]\n",
    "for ind in highest_p_nfnouns:\n",
    "    if ind == origin_ind_notfakes:\n",
    "        print(NFNOUNS_BNC_scores[origin_ind_notfakes].round(4) , valid_parts[origin_ind_notfakes], ' baseline (original partition)')\n",
    "    else:\n",
    "        print(NFNOUNS_BNC_scores[ind].round(4) , valid_parts[ind], ind)"
   ]
  },
  {
   "cell_type": "code",
   "execution_count": 28,
   "metadata": {},
   "outputs": [
    {
     "data": {
      "image/png": "[encoded data removed]",
      "text/plain": [
       "<Figure size 432x288 with 1 Axes>"
      ]
     },
     "metadata": {
      "needs_background": "light"
     },
     "output_type": "display_data"
    }
   ],
   "source": [
    "plt.hist(NFNOUNS_BNC_scores,bins=len(NFNOUNS_BNC_scores),density=False)\n",
    "plt.title('BNC Score on (not fake)NOUN embeddings')\n",
    "plt.show()"
   ]
  },
  {
   "cell_type": "code",
   "execution_count": 29,
   "metadata": {},
   "outputs": [
    {
     "data": {
      "image/png": "[encoded data removed]",
      "text/plain": [
       "<Figure size 1440x360 with 3 Axes>"
      ]
     },
     "metadata": {
      "needs_background": "light"
     },
     "output_type": "display_data"
    }
   ],
   "source": [
    "fig, ax = plt.subplots(1,3,figsize=(20,5))\n",
    "ax[0].hist(FAKES_BNC_scores,bins=len(FAKES_BNC_scores),density=False, label='{} partitions'.format(len(FAKES_BNC_scores)))\n",
    "ax[1].hist(FNOUNS_BNC_scores,bins=len(FNOUNS_BNC_scores),density=False, label='{} partitions'.format(len(FNOUNS_BNC_scores)))\n",
    "ax[2].hist(NFNOUNS_BNC_scores,bins=len(NFNOUNS_BNC_scores),density=False, label='{} partitions'.format(len(NFNOUNS_BNC_scores)))\n",
    "\n",
    "ax[0].set_title('BNC Score on FAKE embeddings \\nmean : {} , std : {}'.format(np.mean(FAKES_BNC_scores).round(4)*100,np.std(FAKES_BNC_scores).round(3)*100) )\n",
    "ax[1].set_title('BNC Score on (fake)NOUN embeddings \\nmean : {} , std : {}'.format(np.mean(FNOUNS_BNC_scores).round(4)*100,np.std(FNOUNS_BNC_scores).round(4)*100))\n",
    "ax[2].set_title('BNC Score on (not fake)NOUN embeddings \\n mean : {} , std : {}'.format(np.mean(NFNOUNS_BNC_scores).round(4)*100,np.std(NFNOUNS_BNC_scores).round(4)*100))\n",
    "\n",
    "ax[0].legend()\n",
    "ax[1].legend()\n",
    "ax[2].legend()\n",
    "\n",
    "plt.savefig('random_scores_BERT_kbest_10_NN.png',dpi=300)\n",
    "plt.show()"
   ]
  },
  {
   "cell_type": "code",
   "execution_count": null,
   "metadata": {},
   "outputs": [],
   "source": [
    "warnings.filterwarnings('default')"
   ]
  }
 ],
 "metadata": {
  "kernelspec": {
   "display_name": "Python 3",
   "language": "python",
   "name": "python3"
  },
  "language_info": {
   "codemirror_mode": {
    "name": "ipython",
    "version": 3
   },
   "file_extension": ".py",
   "mimetype": "text/x-python",
   "name": "python",
   "nbconvert_exporter": "python",
   "pygments_lexer": "ipython3",
   "version": "3.7.7"
  }
 },
 "nbformat": 4,
 "nbformat_minor": 4
}
