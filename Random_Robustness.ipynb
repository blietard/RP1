{
 "cells": [
  {
   "cell_type": "markdown",
   "metadata": {},
   "source": [
    "# **RANDOM CLASSIFICATION TO TEST MODEL ROBUSTNESS**"
   ]
  },
  {
   "cell_type": "markdown",
   "metadata": {},
   "source": [
    "## Loading Datasets"
   ]
  },
  {
   "cell_type": "code",
   "execution_count": 1,
   "metadata": {},
   "outputs": [],
   "source": [
    "import numpy as np\n",
    "import pandas as pd\n",
    "import matplotlib.pyplot as plt\n",
    "\n",
    "import sys\n",
    "import warnings\n",
    "\n",
    "from sklearn.manifold import TSNE\n",
    "import matplotlib.patches as mpatches\n",
    "\n",
    "from sklearn.model_selection import train_test_split\n",
    "from sklearn.pipeline import make_pipeline\n",
    "\n",
    "from sklearn.feature_selection import mutual_info_classif as MIC\n",
    "from sklearn.feature_selection import SelectKBest\n",
    "\n",
    "from sklearn.preprocessing import StandardScaler as Scaler\n",
    "from sklearn.decomposition import PCA\n",
    "\n",
    "from sklearn.svm import SVC\n",
    "from sklearn.svm import LinearSVC"
   ]
  },
  {
   "cell_type": "code",
   "execution_count": 2,
   "metadata": {},
   "outputs": [
    {
     "name": "stdout",
     "output_type": "stream",
     "text": [
      "loaded for article\n",
      "loaded for beard\n",
      "loaded for blood\n",
      "loaded for company\n",
      "loaded for death\n",
      "loaded for gun\n",
      "loaded for id\n",
      "loaded for interview\n",
      "loaded for passport\n"
     ]
    }
   ],
   "source": [
    "cols = ['fileName','noun','fake','size','start','end']\n",
    "indexer = pd.DataFrame(columns=cols)\n",
    "df = pd.DataFrame(columns=range(1024))\n",
    "listNouns = ['article','beard','blood','company','death','gun','id','interview','passport']\n",
    "#Load NOUN datasets\n",
    "for noun in listNouns:\n",
    "    arrF = np.load('ELMOfiles/'+noun+'FAKE.npy')\n",
    "    arrNF = np.load('ELMOfiles/'+noun+'.npy')\n",
    "    \n",
    "    count=len(df)\n",
    "    df = df.append(pd.DataFrame(arrF),ignore_index=True)\n",
    "    d_temp = pd.DataFrame(data=[[noun+'FAKE.npy',noun,True,arrF.shape[0],count,len(df)-1]],columns=cols)\n",
    "    indexer = indexer.append(d_temp,ignore_index=True)\n",
    "    \n",
    "    count=len(df)\n",
    "    df = df.append(pd.DataFrame(arrNF),ignore_index=True)\n",
    "    d_temp = pd.DataFrame(data=[[noun+'.npy',noun,False,arrNF.shape[0],count,len(df)-1]],columns=cols)\n",
    "    indexer = indexer.append(d_temp,ignore_index=True)\n",
    "    \n",
    "    print(\"loaded for \"+noun)\n",
    "\n",
    "#-------------------------------------------------------------------------[FAKE]_NOUN_\n",
    "#Define a dataframe that contains embeddings with FAKE\n",
    "priv = ['beard','blood','company','death','gun']\n",
    "indexer.insert(loc=3,column='privative',value=False)\n",
    "for index, row in indexer.iterrows():\n",
    "    if row['noun'] in priv:\n",
    "        indexer.at[index,'privative']= True\n",
    "        \n",
    "priv_fakes_idx = indexer[(indexer.fake) & (indexer.privative)]\n",
    "non_priv_fakes_idx = indexer[(indexer.fake==True) & (indexer.privative==False)]\n",
    "\n",
    "fake_nouns = pd.DataFrame(columns=range(1024))\n",
    "for index, row in indexer[indexer['fake']].iterrows():\n",
    "    fake_nouns=fake_nouns.append(df.loc[row['start']:row['end']])\n",
    "\n",
    "#affine this dataframe : add a 'priv' column\n",
    "if 'priv' in fake_nouns.columns:\n",
    "    fake_nouns = fake_nouns.drop(columns=['priv'])\n",
    "    \n",
    "fake_nouns.insert(loc=1024,column='priv',value=-1)\n",
    "for index, row in priv_fakes_idx.iterrows():\n",
    "    for i in range(row['start'],row['end']+1):\n",
    "        fake_nouns.at[i,'priv']= 1\n",
    "\n",
    "#add 'noun' column\n",
    "if 'noun' in fake_nouns.columns:\n",
    "    fake_nouns = fake_nouns.drop(columns=['noun'])\n",
    "    \n",
    "fake_nouns.insert(loc=1024,column='noun',value='')\n",
    "for index, row in indexer[indexer['fake']].iterrows():\n",
    "    for i in range(row['start'],row['end']+1):\n",
    "        fake_nouns.at[i,'noun']= row['noun']\n",
    "\n",
    "targets_Fnouns = fake_nouns['priv']\n",
    "nouns_Fnouns = fake_nouns['noun']\n",
    "X_Fnouns = fake_nouns.drop(columns=['priv','noun'])\n",
    "\n",
    "#---------------------------------------------------------------------[NOT FAKE]_NOUN_\n",
    "not_fake_nouns = pd.DataFrame(columns=range(1024))\n",
    "\n",
    "priv_not_fakes_idx = indexer[(indexer.fake==False) & (indexer.privative)]\n",
    "\n",
    "for index, row in indexer[indexer['fake']==False].iterrows():\n",
    "    not_fake_nouns=not_fake_nouns.append(df.loc[row['start']:row['end']])\n",
    "\n",
    "if 'priv' in not_fake_nouns.columns:\n",
    "    not_fake_nouns = not_fake_nouns.drop(columns=['priv'])\n",
    "    \n",
    "not_fake_nouns.insert(loc=1024,column='priv',value=-1)\n",
    "for index, row in priv_not_fakes_idx.iterrows():\n",
    "    for i in range(row['start'],row['end']+1):\n",
    "        not_fake_nouns.at[i,'priv']= 1\n",
    "\n",
    "\n",
    "if 'noun' in not_fake_nouns.columns:\n",
    "    not_fake_nouns = not_fake_nouns.drop(columns=['noun'])\n",
    "    \n",
    "not_fake_nouns.insert(loc=1024,column='noun',value='')\n",
    "for index, row in indexer[indexer['fake']==False].iterrows():\n",
    "    for i in range(row['start'],row['end']+1):\n",
    "        not_fake_nouns.at[i,'noun']= row['noun']\n",
    "\n",
    "targets_NFnouns = not_fake_nouns['priv']\n",
    "nouns_NFnouns = not_fake_nouns['noun']\n",
    "X_NFnouns = not_fake_nouns.drop(columns=['priv','noun'])"
   ]
  },
  {
   "cell_type": "code",
   "execution_count": 3,
   "metadata": {},
   "outputs": [
    {
     "name": "stdout",
     "output_type": "stream",
     "text": [
      "done for article\n",
      "done for beard\n",
      "done for blood\n",
      "done for company\n",
      "done for death\n",
      "done for gun\n",
      "done for id\n",
      "done for interview\n",
      "done for passport\n"
     ]
    }
   ],
   "source": [
    "cols = ['fileName','noun','size','start','end']\n",
    "indexer_fakes = pd.DataFrame(columns=cols)\n",
    "fakes_embd = pd.DataFrame(columns=range(1024))\n",
    "\n",
    "for noun in listNouns:\n",
    "    arrF = np.load('ELMOfiles/FAKE'+noun+'FAKE.npy')\n",
    "    count=len(fakes_embd)\n",
    "    fakes_embd = fakes_embd.append(pd.DataFrame(arrF),ignore_index=True)\n",
    "    d_temp = pd.DataFrame(data=[[noun+'FAKE.npy',noun,arrF.shape[0],count,len(fakes_embd)-1]],columns=cols)\n",
    "    indexer_fakes = indexer_fakes.append(d_temp,ignore_index=True)\n",
    "    \n",
    "    print(\"done for \"+noun)\n",
    "    \n",
    "fakes_embd.index = X_Fnouns.index #re-indexing\n",
    "\n",
    "if 'priv' in fakes_embd.columns:\n",
    "    fakes_embd = fakes_embd.drop(columns=['priv'])\n",
    "    \n",
    "fakes_embd.insert(loc=1024,column='priv',value=fake_nouns['priv'])\n",
    "\n",
    "if 'noun' in fakes_embd.columns:\n",
    "    fakes_embd = fakes_embd.drop(columns=['noun'])\n",
    "    \n",
    "fakes_embd.insert(loc=1024,column='noun',value=fake_nouns['noun'])\n",
    "\n",
    "targets_fakes = fakes_embd['priv']\n",
    "nouns_fakes = fakes_embd['noun']\n",
    "X_fakes = fakes_embd.drop(columns=['priv','noun'])"
   ]
  },
  {
   "cell_type": "code",
   "execution_count": 4,
   "metadata": {},
   "outputs": [
    {
     "data": {
      "text/html": [
       "<div>\n",
       "<style scoped>\n",
       "    .dataframe tbody tr th:only-of-type {\n",
       "        vertical-align: middle;\n",
       "    }\n",
       "\n",
       "    .dataframe tbody tr th {\n",
       "        vertical-align: top;\n",
       "    }\n",
       "\n",
       "    .dataframe thead th {\n",
       "        text-align: right;\n",
       "    }\n",
       "</style>\n",
       "<table border=\"1\" class=\"dataframe\">\n",
       "  <thead>\n",
       "    <tr style=\"text-align: right;\">\n",
       "      <th></th>\n",
       "      <th>0</th>\n",
       "      <th>1</th>\n",
       "      <th>2</th>\n",
       "      <th>3</th>\n",
       "      <th>4</th>\n",
       "      <th>5</th>\n",
       "      <th>6</th>\n",
       "      <th>7</th>\n",
       "      <th>8</th>\n",
       "      <th>9</th>\n",
       "      <th>...</th>\n",
       "      <th>1016</th>\n",
       "      <th>1017</th>\n",
       "      <th>1018</th>\n",
       "      <th>1019</th>\n",
       "      <th>1020</th>\n",
       "      <th>1021</th>\n",
       "      <th>1022</th>\n",
       "      <th>1023</th>\n",
       "      <th>noun</th>\n",
       "      <th>priv</th>\n",
       "    </tr>\n",
       "  </thead>\n",
       "  <tbody>\n",
       "    <tr>\n",
       "      <th>84</th>\n",
       "      <td>-0.091092</td>\n",
       "      <td>0.188746</td>\n",
       "      <td>-0.065995</td>\n",
       "      <td>0.443621</td>\n",
       "      <td>-0.117619</td>\n",
       "      <td>-0.364823</td>\n",
       "      <td>0.495717</td>\n",
       "      <td>0.694802</td>\n",
       "      <td>0.453884</td>\n",
       "      <td>0.474091</td>\n",
       "      <td>...</td>\n",
       "      <td>-0.219109</td>\n",
       "      <td>0.051547</td>\n",
       "      <td>-0.133077</td>\n",
       "      <td>0.139407</td>\n",
       "      <td>-0.214463</td>\n",
       "      <td>0.238882</td>\n",
       "      <td>-0.781349</td>\n",
       "      <td>-0.796514</td>\n",
       "      <td>article</td>\n",
       "      <td>-1</td>\n",
       "    </tr>\n",
       "    <tr>\n",
       "      <th>89</th>\n",
       "      <td>1.131557</td>\n",
       "      <td>-0.499294</td>\n",
       "      <td>0.607651</td>\n",
       "      <td>-0.149377</td>\n",
       "      <td>-0.325199</td>\n",
       "      <td>-0.745183</td>\n",
       "      <td>1.146810</td>\n",
       "      <td>0.881280</td>\n",
       "      <td>1.031308</td>\n",
       "      <td>0.876145</td>\n",
       "      <td>...</td>\n",
       "      <td>0.452967</td>\n",
       "      <td>-0.078413</td>\n",
       "      <td>0.101102</td>\n",
       "      <td>0.143147</td>\n",
       "      <td>-0.069196</td>\n",
       "      <td>0.205493</td>\n",
       "      <td>-0.507892</td>\n",
       "      <td>-0.204184</td>\n",
       "      <td>article</td>\n",
       "      <td>-1</td>\n",
       "    </tr>\n",
       "    <tr>\n",
       "      <th>91</th>\n",
       "      <td>0.078200</td>\n",
       "      <td>0.086143</td>\n",
       "      <td>0.531119</td>\n",
       "      <td>-0.205212</td>\n",
       "      <td>-0.089739</td>\n",
       "      <td>0.213160</td>\n",
       "      <td>0.803262</td>\n",
       "      <td>0.681694</td>\n",
       "      <td>0.269135</td>\n",
       "      <td>-0.423637</td>\n",
       "      <td>...</td>\n",
       "      <td>0.303617</td>\n",
       "      <td>-0.177410</td>\n",
       "      <td>-0.286402</td>\n",
       "      <td>-0.165123</td>\n",
       "      <td>-0.174212</td>\n",
       "      <td>-0.078653</td>\n",
       "      <td>-1.016672</td>\n",
       "      <td>-0.374268</td>\n",
       "      <td>article</td>\n",
       "      <td>-1</td>\n",
       "    </tr>\n",
       "    <tr>\n",
       "      <th>92</th>\n",
       "      <td>-0.132614</td>\n",
       "      <td>-0.020371</td>\n",
       "      <td>0.474976</td>\n",
       "      <td>0.027817</td>\n",
       "      <td>-0.512490</td>\n",
       "      <td>-0.075253</td>\n",
       "      <td>0.713877</td>\n",
       "      <td>0.689311</td>\n",
       "      <td>0.479944</td>\n",
       "      <td>-0.043369</td>\n",
       "      <td>...</td>\n",
       "      <td>0.304163</td>\n",
       "      <td>-0.152681</td>\n",
       "      <td>-0.265775</td>\n",
       "      <td>-0.145122</td>\n",
       "      <td>-0.220297</td>\n",
       "      <td>-0.065975</td>\n",
       "      <td>-1.058731</td>\n",
       "      <td>-0.408177</td>\n",
       "      <td>article</td>\n",
       "      <td>-1</td>\n",
       "    </tr>\n",
       "    <tr>\n",
       "      <th>120</th>\n",
       "      <td>1.110241</td>\n",
       "      <td>-0.489777</td>\n",
       "      <td>0.607153</td>\n",
       "      <td>-0.162908</td>\n",
       "      <td>-0.321185</td>\n",
       "      <td>-0.735911</td>\n",
       "      <td>1.124815</td>\n",
       "      <td>0.873647</td>\n",
       "      <td>1.034272</td>\n",
       "      <td>0.870598</td>\n",
       "      <td>...</td>\n",
       "      <td>0.903967</td>\n",
       "      <td>-0.339857</td>\n",
       "      <td>0.327561</td>\n",
       "      <td>0.272399</td>\n",
       "      <td>-0.171909</td>\n",
       "      <td>-0.269421</td>\n",
       "      <td>-0.505009</td>\n",
       "      <td>-0.512767</td>\n",
       "      <td>article</td>\n",
       "      <td>-1</td>\n",
       "    </tr>\n",
       "    <tr>\n",
       "      <th>...</th>\n",
       "      <td>...</td>\n",
       "      <td>...</td>\n",
       "      <td>...</td>\n",
       "      <td>...</td>\n",
       "      <td>...</td>\n",
       "      <td>...</td>\n",
       "      <td>...</td>\n",
       "      <td>...</td>\n",
       "      <td>...</td>\n",
       "      <td>...</td>\n",
       "      <td>...</td>\n",
       "      <td>...</td>\n",
       "      <td>...</td>\n",
       "      <td>...</td>\n",
       "      <td>...</td>\n",
       "      <td>...</td>\n",
       "      <td>...</td>\n",
       "      <td>...</td>\n",
       "      <td>...</td>\n",
       "      <td>...</td>\n",
       "      <td>...</td>\n",
       "    </tr>\n",
       "    <tr>\n",
       "      <th>87389</th>\n",
       "      <td>-0.259639</td>\n",
       "      <td>0.675403</td>\n",
       "      <td>0.614266</td>\n",
       "      <td>0.107698</td>\n",
       "      <td>0.168343</td>\n",
       "      <td>-0.186715</td>\n",
       "      <td>0.181773</td>\n",
       "      <td>0.554251</td>\n",
       "      <td>0.736555</td>\n",
       "      <td>0.067501</td>\n",
       "      <td>...</td>\n",
       "      <td>1.063185</td>\n",
       "      <td>-0.566348</td>\n",
       "      <td>0.426971</td>\n",
       "      <td>-0.223625</td>\n",
       "      <td>0.072306</td>\n",
       "      <td>-0.683263</td>\n",
       "      <td>-0.129778</td>\n",
       "      <td>0.102934</td>\n",
       "      <td>passport</td>\n",
       "      <td>-1</td>\n",
       "    </tr>\n",
       "    <tr>\n",
       "      <th>87399</th>\n",
       "      <td>-0.410129</td>\n",
       "      <td>-0.193692</td>\n",
       "      <td>-0.096851</td>\n",
       "      <td>0.249811</td>\n",
       "      <td>0.444895</td>\n",
       "      <td>0.353785</td>\n",
       "      <td>0.866888</td>\n",
       "      <td>-0.018872</td>\n",
       "      <td>0.490662</td>\n",
       "      <td>-0.107222</td>\n",
       "      <td>...</td>\n",
       "      <td>0.223490</td>\n",
       "      <td>-1.024003</td>\n",
       "      <td>0.361570</td>\n",
       "      <td>0.157017</td>\n",
       "      <td>0.030069</td>\n",
       "      <td>0.208881</td>\n",
       "      <td>-0.393505</td>\n",
       "      <td>0.311896</td>\n",
       "      <td>passport</td>\n",
       "      <td>-1</td>\n",
       "    </tr>\n",
       "    <tr>\n",
       "      <th>87433</th>\n",
       "      <td>-0.224676</td>\n",
       "      <td>0.092087</td>\n",
       "      <td>-0.034056</td>\n",
       "      <td>0.155788</td>\n",
       "      <td>0.262891</td>\n",
       "      <td>0.314452</td>\n",
       "      <td>0.043448</td>\n",
       "      <td>0.922981</td>\n",
       "      <td>0.718686</td>\n",
       "      <td>-0.409468</td>\n",
       "      <td>...</td>\n",
       "      <td>0.814687</td>\n",
       "      <td>-0.950302</td>\n",
       "      <td>0.271851</td>\n",
       "      <td>-0.495991</td>\n",
       "      <td>-0.035338</td>\n",
       "      <td>-0.754557</td>\n",
       "      <td>-0.475343</td>\n",
       "      <td>-0.249594</td>\n",
       "      <td>passport</td>\n",
       "      <td>-1</td>\n",
       "    </tr>\n",
       "    <tr>\n",
       "      <th>87435</th>\n",
       "      <td>-0.370427</td>\n",
       "      <td>-0.338356</td>\n",
       "      <td>-0.511273</td>\n",
       "      <td>-0.511436</td>\n",
       "      <td>-0.594989</td>\n",
       "      <td>0.599724</td>\n",
       "      <td>0.747018</td>\n",
       "      <td>0.942418</td>\n",
       "      <td>0.631193</td>\n",
       "      <td>-0.174618</td>\n",
       "      <td>...</td>\n",
       "      <td>0.571117</td>\n",
       "      <td>-0.807095</td>\n",
       "      <td>0.560608</td>\n",
       "      <td>-0.190731</td>\n",
       "      <td>-0.242999</td>\n",
       "      <td>-0.933339</td>\n",
       "      <td>-0.113498</td>\n",
       "      <td>0.500603</td>\n",
       "      <td>passport</td>\n",
       "      <td>-1</td>\n",
       "    </tr>\n",
       "    <tr>\n",
       "      <th>87437</th>\n",
       "      <td>-0.617610</td>\n",
       "      <td>-0.582692</td>\n",
       "      <td>-0.164198</td>\n",
       "      <td>-0.257126</td>\n",
       "      <td>0.113947</td>\n",
       "      <td>0.365278</td>\n",
       "      <td>1.242967</td>\n",
       "      <td>1.016978</td>\n",
       "      <td>0.611523</td>\n",
       "      <td>-0.396201</td>\n",
       "      <td>...</td>\n",
       "      <td>0.819907</td>\n",
       "      <td>-0.939897</td>\n",
       "      <td>0.279847</td>\n",
       "      <td>-0.514534</td>\n",
       "      <td>-0.050987</td>\n",
       "      <td>-0.759215</td>\n",
       "      <td>-0.502470</td>\n",
       "      <td>-0.249082</td>\n",
       "      <td>passport</td>\n",
       "      <td>-1</td>\n",
       "    </tr>\n",
       "  </tbody>\n",
       "</table>\n",
       "<p>8685 rows × 1026 columns</p>\n",
       "</div>"
      ],
      "text/plain": [
       "              0         1         2         3         4         5         6  \\\n",
       "84    -0.091092  0.188746 -0.065995  0.443621 -0.117619 -0.364823  0.495717   \n",
       "89     1.131557 -0.499294  0.607651 -0.149377 -0.325199 -0.745183  1.146810   \n",
       "91     0.078200  0.086143  0.531119 -0.205212 -0.089739  0.213160  0.803262   \n",
       "92    -0.132614 -0.020371  0.474976  0.027817 -0.512490 -0.075253  0.713877   \n",
       "120    1.110241 -0.489777  0.607153 -0.162908 -0.321185 -0.735911  1.124815   \n",
       "...         ...       ...       ...       ...       ...       ...       ...   \n",
       "87389 -0.259639  0.675403  0.614266  0.107698  0.168343 -0.186715  0.181773   \n",
       "87399 -0.410129 -0.193692 -0.096851  0.249811  0.444895  0.353785  0.866888   \n",
       "87433 -0.224676  0.092087 -0.034056  0.155788  0.262891  0.314452  0.043448   \n",
       "87435 -0.370427 -0.338356 -0.511273 -0.511436 -0.594989  0.599724  0.747018   \n",
       "87437 -0.617610 -0.582692 -0.164198 -0.257126  0.113947  0.365278  1.242967   \n",
       "\n",
       "              7         8         9  ...      1016      1017      1018  \\\n",
       "84     0.694802  0.453884  0.474091  ... -0.219109  0.051547 -0.133077   \n",
       "89     0.881280  1.031308  0.876145  ...  0.452967 -0.078413  0.101102   \n",
       "91     0.681694  0.269135 -0.423637  ...  0.303617 -0.177410 -0.286402   \n",
       "92     0.689311  0.479944 -0.043369  ...  0.304163 -0.152681 -0.265775   \n",
       "120    0.873647  1.034272  0.870598  ...  0.903967 -0.339857  0.327561   \n",
       "...         ...       ...       ...  ...       ...       ...       ...   \n",
       "87389  0.554251  0.736555  0.067501  ...  1.063185 -0.566348  0.426971   \n",
       "87399 -0.018872  0.490662 -0.107222  ...  0.223490 -1.024003  0.361570   \n",
       "87433  0.922981  0.718686 -0.409468  ...  0.814687 -0.950302  0.271851   \n",
       "87435  0.942418  0.631193 -0.174618  ...  0.571117 -0.807095  0.560608   \n",
       "87437  1.016978  0.611523 -0.396201  ...  0.819907 -0.939897  0.279847   \n",
       "\n",
       "           1019      1020      1021      1022      1023      noun  priv  \n",
       "84     0.139407 -0.214463  0.238882 -0.781349 -0.796514   article    -1  \n",
       "89     0.143147 -0.069196  0.205493 -0.507892 -0.204184   article    -1  \n",
       "91    -0.165123 -0.174212 -0.078653 -1.016672 -0.374268   article    -1  \n",
       "92    -0.145122 -0.220297 -0.065975 -1.058731 -0.408177   article    -1  \n",
       "120    0.272399 -0.171909 -0.269421 -0.505009 -0.512767   article    -1  \n",
       "...         ...       ...       ...       ...       ...       ...   ...  \n",
       "87389 -0.223625  0.072306 -0.683263 -0.129778  0.102934  passport    -1  \n",
       "87399  0.157017  0.030069  0.208881 -0.393505  0.311896  passport    -1  \n",
       "87433 -0.495991 -0.035338 -0.754557 -0.475343 -0.249594  passport    -1  \n",
       "87435 -0.190731 -0.242999 -0.933339 -0.113498  0.500603  passport    -1  \n",
       "87437 -0.514534 -0.050987 -0.759215 -0.502470 -0.249082  passport    -1  \n",
       "\n",
       "[8685 rows x 1026 columns]"
      ]
     },
     "execution_count": 4,
     "metadata": {},
     "output_type": "execute_result"
    }
   ],
   "source": [
    "# We extract 10% of the not_fake NOUNS dataset because it is too big for computations\n",
    "not_fake_samples = not_fake_nouns.loc[not_fake_nouns.sample(int(len(not_fake_nouns)/10)).index.sort_values()]\n",
    "#The preservation of class (nouns) proportions is ensured by the size of the sample (around 8700 items)\n",
    "targets_nfs = not_fake_samples['priv']\n",
    "nouns_nfs = not_fake_samples['noun']\n",
    "X_nfs = not_fake_samples.drop(columns=['priv','noun'])\n",
    "not_fake_samples"
   ]
  },
  {
   "cell_type": "code",
   "execution_count": 7,
   "metadata": {},
   "outputs": [
    {
     "data": {
      "text/plain": [
       "blood        11395\n",
       "gun          11091\n",
       "company      10802\n",
       "article      10392\n",
       "death        10323\n",
       "interview    10133\n",
       "id            9723\n",
       "passport      9247\n",
       "beard         3752\n",
       "Name: noun, dtype: int64"
      ]
     },
     "execution_count": 7,
     "metadata": {},
     "output_type": "execute_result"
    }
   ],
   "source": [
    "nouns_NFnouns.value_counts()"
   ]
  },
  {
   "cell_type": "markdown",
   "metadata": {},
   "source": [
    "## Datasets storage reminder : \n",
    "* [fake] **NOUN** : fake_nouns ; indexer ; X_Fnouns ; targets_Fnouns ; nouns_Fnouns\n",
    "* [not fake] **NOUN** : not_fake_nouns ; indexer ; X_NFnouns ; targets_NFnouns ; nouns_NFnouns\n",
    "* **sampled** [not fake] **NOUN** : not_fake_samples ; - ; X_nfs ; targets_nfs ; nouns_nfs\n",
    "* **FAKE** : fakes_embd ; indexer_fakes ; X_fakes ; targets_fakes ; nouns_fakes"
   ]
  },
  {
   "cell_type": "markdown",
   "metadata": {},
   "source": [
    "## Random Sampling"
   ]
  },
  {
   "cell_type": "code",
   "execution_count": 5,
   "metadata": {},
   "outputs": [],
   "source": [
    "def random_labeling(tolerance,df,debug=False,rng=None,out_list=False):\n",
    "    delta = tolerance*2\n",
    "    while delta > tolerance:\n",
    "        if rng:\n",
    "            rand_classes = {listNouns[k]:rng.integers(0,2) for k in range(9)}\n",
    "        else:\n",
    "            rand_classes = {listNouns[k]:np.random.randint(2) for k in range(9)}\n",
    "        rand_targets = pd.Series(data=np.ones(len(df))*-1,index=df.index)\n",
    "        for i, embd in df.iterrows():\n",
    "            if rand_classes[embd['noun']]==1:\n",
    "                rand_targets[i]=1\n",
    "        delta = np.abs(rand_targets.sum())\n",
    "    if debug:\n",
    "        print('sampling delta : ', delta)\n",
    "        print(rand_targets.value_counts())\n",
    "    if out_list:\n",
    "        return (rand_targets, rand_classes)\n",
    "    else:\n",
    "        return rand_targets"
   ]
  },
  {
   "cell_type": "code",
   "execution_count": 6,
   "metadata": {},
   "outputs": [
    {
     "name": "stdout",
     "output_type": "stream",
     "text": [
      "sampling delta :  35.0\n",
      "-1.0    317\n",
      " 1.0    282\n",
      "dtype: int64\n"
     ]
    },
    {
     "data": {
      "image/png": "[encoded data removed]",
      "text/plain": [
       "<Figure size 432x288 with 1 Axes>"
      ]
     },
     "metadata": {
      "needs_background": "light"
     },
     "output_type": "display_data"
    }
   ],
   "source": [
    "rand_targets = random_labeling(50,fakes_embd,True)\n",
    "tsneX = TSNE(n_components=2, init='pca', random_state=0)\n",
    "X_trans = tsneX.fit_transform(X_fakes).T\n",
    "\n",
    "colors_classes={-1: 'blue', 1 : 'gold'}\n",
    "\n",
    "plt.scatter(X_trans[0], X_trans[1], color=rand_targets.map(colors_classes))\n",
    "plt.title(\"t-SNE\")\n",
    "plt.axis('tight')\n",
    "plt.show()"
   ]
  },
  {
   "cell_type": "markdown",
   "metadata": {},
   "source": [
    "## Functions to test robustness"
   ]
  },
  {
   "cell_type": "markdown",
   "metadata": {},
   "source": [
    "### Banned Noun Classification (BNC)"
   ]
  },
  {
   "cell_type": "code",
   "execution_count": 7,
   "metadata": {},
   "outputs": [],
   "source": [
    "def Accuracy_BannedNoun(classifier,Xtrain,Ttrain,Xbanned,Tbanned,preprocess=None,k=2,show_kbest=False):\n",
    "    if preprocess=='pca':\n",
    "        model = make_pipeline(Scaler(),PCA(n_components=0.975),classifier)\n",
    "    else:\n",
    "        model = classifier\n",
    "    model.fit(Xtrain,Ttrain)\n",
    "    y_train = model.predict(Xtrain)\n",
    "    Tacc = np.sum(Ttrain == y_train)/len(Xtrain)\n",
    "    y_banned = model.predict(Xbanned)\n",
    "    Bacc = np.sum(Tbanned == y_banned)/len(Xbanned)\n",
    "    return (Tacc,Bacc)\n",
    "\n",
    "def BNC_accuracy(classifier,X,targets,nouns,preprocess=None,k=2,full_output=False,debug=False,show_kbest=False):\n",
    "    if debug:\n",
    "        print(\"\\rTest {} : BNC  starting%                     \".format(debug), end=\"\")\n",
    "        sys.stdout.flush()\n",
    "    Taccs = np.zeros(len(listNouns))\n",
    "    Baccs = np.zeros(len(listNouns))\n",
    "    if preprocess=='kbest global':\n",
    "        select = SelectKBest(MIC,k).fit(X,targets)\n",
    "        X = Scaler().fit_transform(select.transform(X))\n",
    "        if show_kbest:\n",
    "            print(\"\\r{}     \".format(np.where(select.get_support())[0]),end=\"\")\n",
    "    for i,bannedW in enumerate(listNouns):\n",
    "        if debug:\n",
    "            print(\"\\rTest {} : BNC for {} ; {}%             \".format(debug, bannedW, 100 * i // len(listNouns)), end=\"\")\n",
    "            sys.stdout.flush()\n",
    "        Xtrain = X[nouns!=bannedW]\n",
    "        Ttrain = targets[nouns!=bannedW]\n",
    "        if preprocess=='kbest local':\n",
    "            select = SelectKBest(MIC,k).fit(Xtrain,Ttrain)\n",
    "            scalr = Scaler()\n",
    "            Xtrain = scalr.fit_transform(select.transform(Xtrain))\n",
    "            if show_kbest:\n",
    "                print(\"({})\".format(np.where(select.get_support())[0]))\n",
    "        Xbanned = X[nouns==bannedW]\n",
    "        if preprocess == 'kbest local':\n",
    "            Xbanned = scalr.transform(select.transform(Xbanned))\n",
    "        Tbanned = targets[nouns==bannedW]\n",
    "        Tacc,Bacc = Accuracy_BannedNoun(classifier,Xtrain,Ttrain,Xbanned,Tbanned,preprocess,k,show_kbest)\n",
    "        Taccs[i],Baccs[i] = Tacc, Bacc\n",
    "    AvgTrain = np.mean(Taccs)\n",
    "    AvgBanned = np.mean(Baccs)\n",
    "    if full_output:\n",
    "        return (Taccs,Baccs)\n",
    "    else:\n",
    "        return (AvgTrain,AvgBanned)"
   ]
  },
  {
   "cell_type": "markdown",
   "metadata": {},
   "source": [
    "### Classical Train/Test split and classification"
   ]
  },
  {
   "cell_type": "code",
   "execution_count": 8,
   "metadata": {},
   "outputs": [],
   "source": [
    "def classical_accuracy(classifier,X,targets,nouns,preprocess=None,k=2,out_model=False):\n",
    "    #model selection\n",
    "    if preprocess=='pca':\n",
    "        model = make_pipeline(Scaler(),PCA(n_components=0.975),classifier)\n",
    "    elif preprocess=='kbest local' or preprocess=='kbest global':\n",
    "        model = make_pipeline(SelectKBest(MIC,k),Scaler(),classifier)\n",
    "    else:\n",
    "        model = classifier\n",
    "    #The training set should be balanced in term of repartition of nouns\n",
    "    Xtrain,Xtest,Ttrain,Ttest =train_test_split(X, targets, test_size=0.25, random_state=0, stratify=nouns,shuffle=True)\n",
    "    #model training and predictions\n",
    "    model.fit(Xtrain,Ttrain)\n",
    "    y_train = model.predict(Xtrain)\n",
    "    y_test = model.predict(Xtest)\n",
    "    #accuracies\n",
    "    Train_acc = np.sum(Ttrain == y_train)/len(Xtrain)\n",
    "    Test_acc = np.sum(Ttest == y_test)/len(Xtest)\n",
    "    if out_model:\n",
    "        return (Train_acc,Test_acc,model)\n",
    "    else:\n",
    "        return (Train_acc,Test_acc)"
   ]
  },
  {
   "cell_type": "code",
   "execution_count": 9,
   "metadata": {},
   "outputs": [],
   "source": [
    "priv = ['beard','blood','company','death','gun']\n",
    "non_priv = ['article','id','interview','passport']"
   ]
  },
  {
   "cell_type": "code",
   "execution_count": 10,
   "metadata": {},
   "outputs": [
    {
     "name": "stdout",
     "output_type": "stream",
     "text": [
      "% of original unbalancing : 9% in NOT FAKE ; 3% in FAKE\n"
     ]
    }
   ],
   "source": [
    "delta_not_fake = np.sum(nouns_nfs.value_counts()[priv])-np.sum(nouns_nfs.value_counts()[non_priv])\n",
    "delta_fake = np.abs(np.sum(nouns_fakes.value_counts()[priv])-np.sum(nouns_fakes.value_counts()[non_priv]))\n",
    "print('% of original unbalancing : {}% in NOT FAKE ; {}% in FAKE'.format(delta_not_fake*100//len(nouns_nfs), delta_fake*100//len(nouns_fakes)))"
   ]
  },
  {
   "cell_type": "code",
   "execution_count": 11,
   "metadata": {},
   "outputs": [],
   "source": [
    "datasets = {'FAKES': [fakes_embd, X_fakes,targets_fakes, nouns_fakes],\n",
    "            'fake NOUNS': [fake_nouns, X_Fnouns, targets_Fnouns, nouns_Fnouns],\n",
    "            'not fake NOUNS': [not_fake_samples, X_nfs, targets_nfs, nouns_nfs]\n",
    "           }\n",
    "nb_tests = 8"
   ]
  },
  {
   "cell_type": "code",
   "execution_count": 12,
   "metadata": {},
   "outputs": [],
   "source": [
    "def random_classif_process(classifier,clf_name,nb_tests,preprocess=None,k=2):\n",
    "    print(\"============================================ {} =============================================\".format(clf_name.upper()))\n",
    "    for category in datasets.keys():\n",
    "        print('--------------------------{}--------------------------'.format(category))\n",
    "        embeddings,X,T,N = datasets[category]\n",
    "        if preprocess=='tsne':\n",
    "            tsne = TSNE(n_components=k)\n",
    "            X = tsne.fit_transform(X)\n",
    "        Taccs, Gaccs = np.zeros((2,nb_tests))\n",
    "        BNC_Taccs, Baccs = np.zeros((2,nb_tests))\n",
    "        for i in range(nb_tests):\n",
    "            print(\"\\rTest {} : random sampling            \".format(i+1), end=\"\")\n",
    "            sys.stdout.flush()\n",
    "            rand_T = random_labeling(int(len(embeddings)*0.09),embeddings) #we have a tolerance of 9% the size of the dataset, since it is the difference maximum we observed in the original class repartition\n",
    "            print(\"\\rTest {} : random classif              \".format(i+1), end=\"\")\n",
    "            sys.stdout.flush()\n",
    "            Taccs[i], Gaccs[i] = classical_accuracy(classifier,X,rand_T,N,preprocess=preprocess,k=k)\n",
    "            BNC_Taccs[i], Baccs[i] = BNC_accuracy(classifier,X,rand_T,N,preprocess=preprocess,k=k,debug=i+1)\n",
    "        print('\\rAverage train accuracy : {}%   ( {}  )'.format(np.mean(Taccs).round(4)*100,np.std(Taccs).round(4)*100))\n",
    "        print('Average test accuracy : {}%   ( {}  )'.format(np.mean(Gaccs).round(4)*100,np.std(Gaccs).round(4)*100))\n",
    "        print('\\rAverage BNC train accuracy : {}%   ( {}  )'.format(np.mean(BNC_Taccs).round(4)*100,np.std(BNC_Taccs).round(4)*100))\n",
    "        print('Average BNC test accuracy : {}%   ( {}  )'.format(np.mean(Baccs).round(4)*100,np.std(Baccs).round(4)*100))"
   ]
  },
  {
   "cell_type": "markdown",
   "metadata": {},
   "source": [
    "## Random Classif for RAW DATA"
   ]
  },
  {
   "cell_type": "code",
   "execution_count": 29,
   "metadata": {},
   "outputs": [
    {
     "name": "stdout",
     "output_type": "stream",
     "text": [
      "============================================ LINEAR SVM =============================================\n",
      "--------------------------FAKES--------------------------\n",
      "Average train accuracy : 100.0%   ( 0.0  )   \n",
      "Average test accuracy : 99.25%   ( 0.0091  )\n",
      "Average BNC train accuracy : 100.0%   ( 0.0  )\n",
      "Average BNC test accuracy : 41.99%   ( 0.0363  )\n",
      "--------------------------fake NOUNS--------------------------\n",
      "Average train accuracy : 100.0%   ( 0.0  )   \n",
      "Average test accuracy : 100.0%   ( 0.0  )\n",
      "Average BNC train accuracy : 100.0%   ( 0.0  )\n",
      "Average BNC test accuracy : 44.57%   ( 0.1531  )\n",
      "--------------------------not fake NOUNS--------------------------\n",
      "Average train accuracy : 100.0%   ( 0.0  )   \n",
      "Average test accuracy : 100.0%   ( 0.0  )\n",
      "Average BNC train accuracy : 100.0%   ( 0.0  )\n",
      "Average BNC test accuracy : 46.85%   ( 0.0946  )\n"
     ]
    }
   ],
   "source": [
    "random_classif_process(LinearSVC(max_iter=100000),'linear SVM',8)"
   ]
  },
  {
   "cell_type": "code",
   "execution_count": 367,
   "metadata": {},
   "outputs": [
    {
     "name": "stdout",
     "output_type": "stream",
     "text": [
      "============================================ RBF SVM =============================================\n",
      "--------------------------FAKES--------------------------\n",
      "Average train accuracy : 99.5%%              \n",
      "Average test accuracy : 98.58%\n",
      "Average BNC train accuracy : 99.65%\n",
      "Average BNC test accuracy : 45.08%\n",
      "--------------------------fake NOUNS--------------------------\n",
      "Average train accuracy : 100.0%              \n",
      "Average test accuracy : 100.0%\n",
      "Average BNC train accuracy : 100.0%\n",
      "Average BNC test accuracy : 35.0%\n",
      "--------------------------not fake NOUNS--------------------------\n",
      "Average train accuracy : 100.0%              \n",
      "Average test accuracy : 100.0%\n",
      "Average BNC train accuracy : 100.0%\n",
      "Average BNC test accuracy : 43.51%\n"
     ]
    }
   ],
   "source": [
    "random_classif_process(SVC(kernel='rbf'),'rbf SVM',8)"
   ]
  },
  {
   "cell_type": "markdown",
   "metadata": {},
   "source": [
    "## Random Classif for PCA DATA"
   ]
  },
  {
   "cell_type": "code",
   "execution_count": 369,
   "metadata": {},
   "outputs": [
    {
     "name": "stdout",
     "output_type": "stream",
     "text": [
      "============================================ LINEAR SVM =============================================\n",
      "--------------------------FAKES--------------------------\n",
      "Average train accuracy : 100.0%              \n",
      "Average test accuracy : 98.58%\n",
      "Average BNC train accuracy : 100.0%\n",
      "Average BNC test accuracy : 40.410000000000004%\n",
      "--------------------------fake NOUNS--------------------------\n",
      "Average train accuracy : 100.0%              \n",
      "Average test accuracy : 100.0%\n",
      "Average BNC train accuracy : 100.0%\n",
      "Average BNC test accuracy : 45.15%\n",
      "--------------------------not fake NOUNS--------------------------\n",
      "Average train accuracy : 100.0%              \n",
      "Average test accuracy : 100.0%\n",
      "Average BNC train accuracy : 100.0%\n",
      "Average BNC test accuracy : 41.18%\n"
     ]
    }
   ],
   "source": [
    "random_classif_process(LinearSVC(max_iter=100000),'linear SVM',8,preprocess='pca')"
   ]
  },
  {
   "cell_type": "code",
   "execution_count": 370,
   "metadata": {},
   "outputs": [
    {
     "name": "stdout",
     "output_type": "stream",
     "text": [
      "============================================ RBF SVM =============================================\n",
      "--------------------------FAKES--------------------------\n",
      "Average train accuracy : 100.0%              \n",
      "Average test accuracy : 99.25%\n",
      "Average BNC train accuracy : 99.99%\n",
      "Average BNC test accuracy : 33.03%\n",
      "--------------------------fake NOUNS--------------------------\n",
      "Average train accuracy : 100.0%              \n",
      "Average test accuracy : 100.0%\n",
      "Average BNC train accuracy : 100.0%\n",
      "Average BNC test accuracy : 38.769999999999996%\n",
      "--------------------------not fake NOUNS--------------------------\n",
      "Average train accuracy : 100.0%              \n",
      "Average test accuracy : 100.0%\n",
      "Average BNC train accuracy : 100.0%\n",
      "Average BNC test accuracy : 36.29%\n"
     ]
    }
   ],
   "source": [
    "random_classif_process(SVC(kernel='rbf'),'rbf SVM',8,preprocess='pca')"
   ]
  },
  {
   "cell_type": "markdown",
   "metadata": {},
   "source": [
    "## Random Classif for T-SNE DATA"
   ]
  },
  {
   "cell_type": "code",
   "execution_count": 58,
   "metadata": {},
   "outputs": [
    {
     "name": "stdout",
     "output_type": "stream",
     "text": [
      "============================================ LINEAR SVM =============================================\n",
      "--------------------------FAKES--------------------------\n",
      "Average train accuracy : 78.97999999999999%   ( 9.27  )\n",
      "Average test accuracy : 80.17%   ( 8.58  )\n",
      "Average BNC train accuracy : 80.93%   ( 6.43  )\n",
      "Average BNC test accuracy : 50.14999999999999%   ( 14.21  )\n",
      "--------------------------fake NOUNS--------------------------\n",
      "Average train accuracy : 78.45%   ( 13.459999999999999  )\n",
      "Average test accuracy : 78.75%   ( 13.36  )\n",
      "Average BNC train accuracy : 82.39%   ( 9.790000000000001  )\n",
      "Average BNC test accuracy : 49.74%   ( 23.150000000000002  )\n",
      "--------------------------not fake NOUNS--------------------------\n",
      "Average train accuracy : 66.71000000000001%   ( 13.600000000000001  )\n",
      "Average test accuracy : 66.61%   ( 13.61  )\n",
      "Average BNC train accuracy : 71.37%   ( 11.450000000000001  )\n",
      "Average BNC test accuracy : 34.239999999999995%   ( 24.18  )\n"
     ]
    }
   ],
   "source": [
    "warnings.filterwarnings('ignore') #ignore ConvergenceWarnings\n",
    "random_classif_process(LinearSVC(max_iter=100000),'linear SVM',8,preprocess='tsne',k=2)\n",
    "warnings.filterwarnings('default')"
   ]
  },
  {
   "cell_type": "code",
   "execution_count": 383,
   "metadata": {},
   "outputs": [
    {
     "name": "stdout",
     "output_type": "stream",
     "text": [
      "============================================ RBF SVM =============================================\n",
      "--------------------------FAKES--------------------------\n",
      "Average train accuracy : 94.52000000000001%  \n",
      "Average test accuracy : 95.67%\n",
      "Average BNC train accuracy : 95.35%\n",
      "Average BNC test accuracy : 47.97%\n",
      "--------------------------fake NOUNS--------------------------\n",
      "Average train accuracy : 99.69%              \n",
      "Average test accuracy : 99.67%\n",
      "Average BNC train accuracy : 99.95%\n",
      "Average BNC test accuracy : 42.18%\n",
      "--------------------------not fake NOUNS--------------------------\n",
      "Average train accuracy : 99.9%%              \n",
      "Average test accuracy : 99.94%\n",
      "Average BNC train accuracy : 99.95%\n",
      "Average BNC test accuracy : 38.550000000000004%\n"
     ]
    }
   ],
   "source": [
    "random_classif_process(SVC(kernel='rbf'),'rbf SVM',8,preprocess='tsne',k=2)"
   ]
  },
  {
   "cell_type": "markdown",
   "metadata": {},
   "source": [
    "## Random Classif for KBest-Selected (2) DATA"
   ]
  },
  {
   "cell_type": "markdown",
   "metadata": {},
   "source": [
    "Local setting of the Feature selection (1 per BNC step)"
   ]
  },
  {
   "cell_type": "code",
   "execution_count": 140,
   "metadata": {},
   "outputs": [
    {
     "name": "stdout",
     "output_type": "stream",
     "text": [
      "============================================ LINEAR SVM =============================================\n",
      "--------------------------FAKES--------------------------\n",
      "Test 1 : BNC for passport ; 88%              "
     ]
    },
    {
     "ename": "KeyboardInterrupt",
     "evalue": "",
     "output_type": "error",
     "traceback": [
      "\u001b[1;31m---------------------------------------------------------------------------\u001b[0m",
      "\u001b[1;31mKeyboardInterrupt\u001b[0m                         Traceback (most recent call last)",
      "\u001b[1;32m<ipython-input-140-0bdeda368e75>\u001b[0m in \u001b[0;36m<module>\u001b[1;34m\u001b[0m\n\u001b[0;32m      1\u001b[0m \u001b[0mwarnings\u001b[0m\u001b[1;33m.\u001b[0m\u001b[0mfilterwarnings\u001b[0m\u001b[1;33m(\u001b[0m\u001b[1;34m'ignore'\u001b[0m\u001b[1;33m)\u001b[0m \u001b[1;31m#ignore FutureWarnings\u001b[0m\u001b[1;33m\u001b[0m\u001b[1;33m\u001b[0m\u001b[0m\n\u001b[1;32m----> 2\u001b[1;33m \u001b[0mrandom_classif_process\u001b[0m\u001b[1;33m(\u001b[0m\u001b[0mLinearSVC\u001b[0m\u001b[1;33m(\u001b[0m\u001b[0mmax_iter\u001b[0m\u001b[1;33m=\u001b[0m\u001b[1;36m100000\u001b[0m\u001b[1;33m)\u001b[0m\u001b[1;33m,\u001b[0m\u001b[1;34m'linear SVM'\u001b[0m\u001b[1;33m,\u001b[0m\u001b[1;36m8\u001b[0m\u001b[1;33m,\u001b[0m\u001b[0mpreprocess\u001b[0m\u001b[1;33m=\u001b[0m\u001b[1;34m'kbest local'\u001b[0m\u001b[1;33m,\u001b[0m\u001b[0mk\u001b[0m\u001b[1;33m=\u001b[0m\u001b[1;36m2\u001b[0m\u001b[1;33m)\u001b[0m\u001b[1;33m\u001b[0m\u001b[1;33m\u001b[0m\u001b[0m\n\u001b[0m\u001b[0;32m      3\u001b[0m \u001b[0mwarnings\u001b[0m\u001b[1;33m.\u001b[0m\u001b[0mfilterwarnings\u001b[0m\u001b[1;33m(\u001b[0m\u001b[1;34m'default'\u001b[0m\u001b[1;33m)\u001b[0m\u001b[1;33m\u001b[0m\u001b[1;33m\u001b[0m\u001b[0m\n",
      "\u001b[1;32m<ipython-input-12-2b9f5217c3f2>\u001b[0m in \u001b[0;36mrandom_classif_process\u001b[1;34m(classifier, clf_name, nb_tests, preprocess, k)\u001b[0m\n\u001b[0;32m     16\u001b[0m             \u001b[0msys\u001b[0m\u001b[1;33m.\u001b[0m\u001b[0mstdout\u001b[0m\u001b[1;33m.\u001b[0m\u001b[0mflush\u001b[0m\u001b[1;33m(\u001b[0m\u001b[1;33m)\u001b[0m\u001b[1;33m\u001b[0m\u001b[1;33m\u001b[0m\u001b[0m\n\u001b[0;32m     17\u001b[0m             \u001b[0mTaccs\u001b[0m\u001b[1;33m[\u001b[0m\u001b[0mi\u001b[0m\u001b[1;33m]\u001b[0m\u001b[1;33m,\u001b[0m \u001b[0mGaccs\u001b[0m\u001b[1;33m[\u001b[0m\u001b[0mi\u001b[0m\u001b[1;33m]\u001b[0m \u001b[1;33m=\u001b[0m \u001b[0mclassical_accuracy\u001b[0m\u001b[1;33m(\u001b[0m\u001b[0mclassifier\u001b[0m\u001b[1;33m,\u001b[0m\u001b[0mX\u001b[0m\u001b[1;33m,\u001b[0m\u001b[0mrand_T\u001b[0m\u001b[1;33m,\u001b[0m\u001b[0mN\u001b[0m\u001b[1;33m,\u001b[0m\u001b[0mpreprocess\u001b[0m\u001b[1;33m=\u001b[0m\u001b[0mpreprocess\u001b[0m\u001b[1;33m,\u001b[0m\u001b[0mk\u001b[0m\u001b[1;33m=\u001b[0m\u001b[0mk\u001b[0m\u001b[1;33m)\u001b[0m\u001b[1;33m\u001b[0m\u001b[1;33m\u001b[0m\u001b[0m\n\u001b[1;32m---> 18\u001b[1;33m             \u001b[0mBNC_Taccs\u001b[0m\u001b[1;33m[\u001b[0m\u001b[0mi\u001b[0m\u001b[1;33m]\u001b[0m\u001b[1;33m,\u001b[0m \u001b[0mBaccs\u001b[0m\u001b[1;33m[\u001b[0m\u001b[0mi\u001b[0m\u001b[1;33m]\u001b[0m \u001b[1;33m=\u001b[0m \u001b[0mBNC_accuracy\u001b[0m\u001b[1;33m(\u001b[0m\u001b[0mclassifier\u001b[0m\u001b[1;33m,\u001b[0m\u001b[0mX\u001b[0m\u001b[1;33m,\u001b[0m\u001b[0mrand_T\u001b[0m\u001b[1;33m,\u001b[0m\u001b[0mN\u001b[0m\u001b[1;33m,\u001b[0m\u001b[0mpreprocess\u001b[0m\u001b[1;33m=\u001b[0m\u001b[0mpreprocess\u001b[0m\u001b[1;33m,\u001b[0m\u001b[0mk\u001b[0m\u001b[1;33m=\u001b[0m\u001b[0mk\u001b[0m\u001b[1;33m,\u001b[0m\u001b[0mdebug\u001b[0m\u001b[1;33m=\u001b[0m\u001b[0mi\u001b[0m\u001b[1;33m+\u001b[0m\u001b[1;36m1\u001b[0m\u001b[1;33m)\u001b[0m\u001b[1;33m\u001b[0m\u001b[1;33m\u001b[0m\u001b[0m\n\u001b[0m\u001b[0;32m     19\u001b[0m         \u001b[0mprint\u001b[0m\u001b[1;33m(\u001b[0m\u001b[1;34m'\\rAverage train accuracy : {}%   ( {}  )'\u001b[0m\u001b[1;33m.\u001b[0m\u001b[0mformat\u001b[0m\u001b[1;33m(\u001b[0m\u001b[0mnp\u001b[0m\u001b[1;33m.\u001b[0m\u001b[0mmean\u001b[0m\u001b[1;33m(\u001b[0m\u001b[0mTaccs\u001b[0m\u001b[1;33m)\u001b[0m\u001b[1;33m.\u001b[0m\u001b[0mround\u001b[0m\u001b[1;33m(\u001b[0m\u001b[1;36m4\u001b[0m\u001b[1;33m)\u001b[0m\u001b[1;33m*\u001b[0m\u001b[1;36m100\u001b[0m\u001b[1;33m,\u001b[0m\u001b[0mnp\u001b[0m\u001b[1;33m.\u001b[0m\u001b[0mstd\u001b[0m\u001b[1;33m(\u001b[0m\u001b[0mTaccs\u001b[0m\u001b[1;33m)\u001b[0m\u001b[1;33m.\u001b[0m\u001b[0mround\u001b[0m\u001b[1;33m(\u001b[0m\u001b[1;36m4\u001b[0m\u001b[1;33m)\u001b[0m\u001b[1;33m*\u001b[0m\u001b[1;36m100\u001b[0m\u001b[1;33m)\u001b[0m\u001b[1;33m)\u001b[0m\u001b[1;33m\u001b[0m\u001b[1;33m\u001b[0m\u001b[0m\n\u001b[0;32m     20\u001b[0m         \u001b[0mprint\u001b[0m\u001b[1;33m(\u001b[0m\u001b[1;34m'Average test accuracy : {}%   ( {}  )'\u001b[0m\u001b[1;33m.\u001b[0m\u001b[0mformat\u001b[0m\u001b[1;33m(\u001b[0m\u001b[0mnp\u001b[0m\u001b[1;33m.\u001b[0m\u001b[0mmean\u001b[0m\u001b[1;33m(\u001b[0m\u001b[0mGaccs\u001b[0m\u001b[1;33m)\u001b[0m\u001b[1;33m.\u001b[0m\u001b[0mround\u001b[0m\u001b[1;33m(\u001b[0m\u001b[1;36m4\u001b[0m\u001b[1;33m)\u001b[0m\u001b[1;33m*\u001b[0m\u001b[1;36m100\u001b[0m\u001b[1;33m,\u001b[0m\u001b[0mnp\u001b[0m\u001b[1;33m.\u001b[0m\u001b[0mstd\u001b[0m\u001b[1;33m(\u001b[0m\u001b[0mGaccs\u001b[0m\u001b[1;33m)\u001b[0m\u001b[1;33m.\u001b[0m\u001b[0mround\u001b[0m\u001b[1;33m(\u001b[0m\u001b[1;36m4\u001b[0m\u001b[1;33m)\u001b[0m\u001b[1;33m*\u001b[0m\u001b[1;36m100\u001b[0m\u001b[1;33m)\u001b[0m\u001b[1;33m)\u001b[0m\u001b[1;33m\u001b[0m\u001b[1;33m\u001b[0m\u001b[0m\n",
      "\u001b[1;32m<ipython-input-7-2bc4df7c4ca9>\u001b[0m in \u001b[0;36mBNC_accuracy\u001b[1;34m(classifier, X, targets, nouns, preprocess, k, full_output, debug, show_kbest)\u001b[0m\n\u001b[0;32m     29\u001b[0m         \u001b[0mTtrain\u001b[0m \u001b[1;33m=\u001b[0m \u001b[0mtargets\u001b[0m\u001b[1;33m[\u001b[0m\u001b[0mnouns\u001b[0m\u001b[1;33m!=\u001b[0m\u001b[0mbannedW\u001b[0m\u001b[1;33m]\u001b[0m\u001b[1;33m\u001b[0m\u001b[1;33m\u001b[0m\u001b[0m\n\u001b[0;32m     30\u001b[0m         \u001b[1;32mif\u001b[0m \u001b[0mpreprocess\u001b[0m\u001b[1;33m==\u001b[0m\u001b[1;34m'kbest local'\u001b[0m\u001b[1;33m:\u001b[0m\u001b[1;33m\u001b[0m\u001b[1;33m\u001b[0m\u001b[0m\n\u001b[1;32m---> 31\u001b[1;33m             \u001b[0mselect\u001b[0m \u001b[1;33m=\u001b[0m \u001b[0mSelectKBest\u001b[0m\u001b[1;33m(\u001b[0m\u001b[0mMIC\u001b[0m\u001b[1;33m,\u001b[0m\u001b[0mk\u001b[0m\u001b[1;33m)\u001b[0m\u001b[1;33m.\u001b[0m\u001b[0mfit\u001b[0m\u001b[1;33m(\u001b[0m\u001b[0mXtrain\u001b[0m\u001b[1;33m,\u001b[0m\u001b[0mTtrain\u001b[0m\u001b[1;33m)\u001b[0m\u001b[1;33m\u001b[0m\u001b[1;33m\u001b[0m\u001b[0m\n\u001b[0m\u001b[0;32m     32\u001b[0m             \u001b[0mscalr\u001b[0m \u001b[1;33m=\u001b[0m \u001b[0mScaler\u001b[0m\u001b[1;33m(\u001b[0m\u001b[1;33m)\u001b[0m\u001b[1;33m\u001b[0m\u001b[1;33m\u001b[0m\u001b[0m\n\u001b[0;32m     33\u001b[0m             \u001b[0mXtrain\u001b[0m \u001b[1;33m=\u001b[0m \u001b[0mscalr\u001b[0m\u001b[1;33m.\u001b[0m\u001b[0mfit_transform\u001b[0m\u001b[1;33m(\u001b[0m\u001b[0mselect\u001b[0m\u001b[1;33m.\u001b[0m\u001b[0mtransform\u001b[0m\u001b[1;33m(\u001b[0m\u001b[0mXtrain\u001b[0m\u001b[1;33m)\u001b[0m\u001b[1;33m)\u001b[0m\u001b[1;33m\u001b[0m\u001b[1;33m\u001b[0m\u001b[0m\n",
      "\u001b[1;32m~\\Anaconda3\\envs\\RProj\\lib\\site-packages\\sklearn\\feature_selection\\_univariate_selection.py\u001b[0m in \u001b[0;36mfit\u001b[1;34m(self, X, y)\u001b[0m\n\u001b[0;32m    350\u001b[0m \u001b[1;33m\u001b[0m\u001b[0m\n\u001b[0;32m    351\u001b[0m         \u001b[0mself\u001b[0m\u001b[1;33m.\u001b[0m\u001b[0m_check_params\u001b[0m\u001b[1;33m(\u001b[0m\u001b[0mX\u001b[0m\u001b[1;33m,\u001b[0m \u001b[0my\u001b[0m\u001b[1;33m)\u001b[0m\u001b[1;33m\u001b[0m\u001b[1;33m\u001b[0m\u001b[0m\n\u001b[1;32m--> 352\u001b[1;33m         \u001b[0mscore_func_ret\u001b[0m \u001b[1;33m=\u001b[0m \u001b[0mself\u001b[0m\u001b[1;33m.\u001b[0m\u001b[0mscore_func\u001b[0m\u001b[1;33m(\u001b[0m\u001b[0mX\u001b[0m\u001b[1;33m,\u001b[0m \u001b[0my\u001b[0m\u001b[1;33m)\u001b[0m\u001b[1;33m\u001b[0m\u001b[1;33m\u001b[0m\u001b[0m\n\u001b[0m\u001b[0;32m    353\u001b[0m         \u001b[1;32mif\u001b[0m \u001b[0misinstance\u001b[0m\u001b[1;33m(\u001b[0m\u001b[0mscore_func_ret\u001b[0m\u001b[1;33m,\u001b[0m \u001b[1;33m(\u001b[0m\u001b[0mlist\u001b[0m\u001b[1;33m,\u001b[0m \u001b[0mtuple\u001b[0m\u001b[1;33m)\u001b[0m\u001b[1;33m)\u001b[0m\u001b[1;33m:\u001b[0m\u001b[1;33m\u001b[0m\u001b[1;33m\u001b[0m\u001b[0m\n\u001b[0;32m    354\u001b[0m             \u001b[0mself\u001b[0m\u001b[1;33m.\u001b[0m\u001b[0mscores_\u001b[0m\u001b[1;33m,\u001b[0m \u001b[0mself\u001b[0m\u001b[1;33m.\u001b[0m\u001b[0mpvalues_\u001b[0m \u001b[1;33m=\u001b[0m \u001b[0mscore_func_ret\u001b[0m\u001b[1;33m\u001b[0m\u001b[1;33m\u001b[0m\u001b[0m\n",
      "\u001b[1;32m~\\Anaconda3\\envs\\RProj\\lib\\site-packages\\sklearn\\utils\\validation.py\u001b[0m in \u001b[0;36minner_f\u001b[1;34m(*args, **kwargs)\u001b[0m\n\u001b[0;32m     61\u001b[0m             \u001b[0mextra_args\u001b[0m \u001b[1;33m=\u001b[0m \u001b[0mlen\u001b[0m\u001b[1;33m(\u001b[0m\u001b[0margs\u001b[0m\u001b[1;33m)\u001b[0m \u001b[1;33m-\u001b[0m \u001b[0mlen\u001b[0m\u001b[1;33m(\u001b[0m\u001b[0mall_args\u001b[0m\u001b[1;33m)\u001b[0m\u001b[1;33m\u001b[0m\u001b[1;33m\u001b[0m\u001b[0m\n\u001b[0;32m     62\u001b[0m             \u001b[1;32mif\u001b[0m \u001b[0mextra_args\u001b[0m \u001b[1;33m<=\u001b[0m \u001b[1;36m0\u001b[0m\u001b[1;33m:\u001b[0m\u001b[1;33m\u001b[0m\u001b[1;33m\u001b[0m\u001b[0m\n\u001b[1;32m---> 63\u001b[1;33m                 \u001b[1;32mreturn\u001b[0m \u001b[0mf\u001b[0m\u001b[1;33m(\u001b[0m\u001b[1;33m*\u001b[0m\u001b[0margs\u001b[0m\u001b[1;33m,\u001b[0m \u001b[1;33m**\u001b[0m\u001b[0mkwargs\u001b[0m\u001b[1;33m)\u001b[0m\u001b[1;33m\u001b[0m\u001b[1;33m\u001b[0m\u001b[0m\n\u001b[0m\u001b[0;32m     64\u001b[0m \u001b[1;33m\u001b[0m\u001b[0m\n\u001b[0;32m     65\u001b[0m             \u001b[1;31m# extra_args > 0\u001b[0m\u001b[1;33m\u001b[0m\u001b[1;33m\u001b[0m\u001b[1;33m\u001b[0m\u001b[0m\n",
      "\u001b[1;32m~\\Anaconda3\\envs\\RProj\\lib\\site-packages\\sklearn\\feature_selection\\_mutual_info.py\u001b[0m in \u001b[0;36mmutual_info_classif\u001b[1;34m(X, y, discrete_features, n_neighbors, copy, random_state)\u001b[0m\n\u001b[0;32m    447\u001b[0m     \u001b[0mcheck_classification_targets\u001b[0m\u001b[1;33m(\u001b[0m\u001b[0my\u001b[0m\u001b[1;33m)\u001b[0m\u001b[1;33m\u001b[0m\u001b[1;33m\u001b[0m\u001b[0m\n\u001b[0;32m    448\u001b[0m     return _estimate_mi(X, y, discrete_features, True, n_neighbors,\n\u001b[1;32m--> 449\u001b[1;33m                         copy, random_state)\n\u001b[0m",
      "\u001b[1;32m~\\Anaconda3\\envs\\RProj\\lib\\site-packages\\sklearn\\feature_selection\\_mutual_info.py\u001b[0m in \u001b[0;36m_estimate_mi\u001b[1;34m(X, y, discrete_features, discrete_target, n_neighbors, copy, random_state)\u001b[0m\n\u001b[0;32m    284\u001b[0m \u001b[1;33m\u001b[0m\u001b[0m\n\u001b[0;32m    285\u001b[0m     mi = [_compute_mi(x, y, discrete_feature, discrete_target, n_neighbors) for\n\u001b[1;32m--> 286\u001b[1;33m           x, discrete_feature in zip(_iterate_columns(X), discrete_mask)]\n\u001b[0m\u001b[0;32m    287\u001b[0m \u001b[1;33m\u001b[0m\u001b[0m\n\u001b[0;32m    288\u001b[0m     \u001b[1;32mreturn\u001b[0m \u001b[0mnp\u001b[0m\u001b[1;33m.\u001b[0m\u001b[0marray\u001b[0m\u001b[1;33m(\u001b[0m\u001b[0mmi\u001b[0m\u001b[1;33m)\u001b[0m\u001b[1;33m\u001b[0m\u001b[1;33m\u001b[0m\u001b[0m\n",
      "\u001b[1;32m~\\Anaconda3\\envs\\RProj\\lib\\site-packages\\sklearn\\feature_selection\\_mutual_info.py\u001b[0m in \u001b[0;36m<listcomp>\u001b[1;34m(.0)\u001b[0m\n\u001b[0;32m    284\u001b[0m \u001b[1;33m\u001b[0m\u001b[0m\n\u001b[0;32m    285\u001b[0m     mi = [_compute_mi(x, y, discrete_feature, discrete_target, n_neighbors) for\n\u001b[1;32m--> 286\u001b[1;33m           x, discrete_feature in zip(_iterate_columns(X), discrete_mask)]\n\u001b[0m\u001b[0;32m    287\u001b[0m \u001b[1;33m\u001b[0m\u001b[0m\n\u001b[0;32m    288\u001b[0m     \u001b[1;32mreturn\u001b[0m \u001b[0mnp\u001b[0m\u001b[1;33m.\u001b[0m\u001b[0marray\u001b[0m\u001b[1;33m(\u001b[0m\u001b[0mmi\u001b[0m\u001b[1;33m)\u001b[0m\u001b[1;33m\u001b[0m\u001b[1;33m\u001b[0m\u001b[0m\n",
      "\u001b[1;32m~\\Anaconda3\\envs\\RProj\\lib\\site-packages\\sklearn\\feature_selection\\_mutual_info.py\u001b[0m in \u001b[0;36m_compute_mi\u001b[1;34m(x, y, x_discrete, y_discrete, n_neighbors)\u001b[0m\n\u001b[0;32m    156\u001b[0m         \u001b[1;32mreturn\u001b[0m \u001b[0m_compute_mi_cd\u001b[0m\u001b[1;33m(\u001b[0m\u001b[0my\u001b[0m\u001b[1;33m,\u001b[0m \u001b[0mx\u001b[0m\u001b[1;33m,\u001b[0m \u001b[0mn_neighbors\u001b[0m\u001b[1;33m)\u001b[0m\u001b[1;33m\u001b[0m\u001b[1;33m\u001b[0m\u001b[0m\n\u001b[0;32m    157\u001b[0m     \u001b[1;32melif\u001b[0m \u001b[1;32mnot\u001b[0m \u001b[0mx_discrete\u001b[0m \u001b[1;32mand\u001b[0m \u001b[0my_discrete\u001b[0m\u001b[1;33m:\u001b[0m\u001b[1;33m\u001b[0m\u001b[1;33m\u001b[0m\u001b[0m\n\u001b[1;32m--> 158\u001b[1;33m         \u001b[1;32mreturn\u001b[0m \u001b[0m_compute_mi_cd\u001b[0m\u001b[1;33m(\u001b[0m\u001b[0mx\u001b[0m\u001b[1;33m,\u001b[0m \u001b[0my\u001b[0m\u001b[1;33m,\u001b[0m \u001b[0mn_neighbors\u001b[0m\u001b[1;33m)\u001b[0m\u001b[1;33m\u001b[0m\u001b[1;33m\u001b[0m\u001b[0m\n\u001b[0m\u001b[0;32m    159\u001b[0m     \u001b[1;32melse\u001b[0m\u001b[1;33m:\u001b[0m\u001b[1;33m\u001b[0m\u001b[1;33m\u001b[0m\u001b[0m\n\u001b[0;32m    160\u001b[0m         \u001b[1;32mreturn\u001b[0m \u001b[0m_compute_mi_cc\u001b[0m\u001b[1;33m(\u001b[0m\u001b[0mx\u001b[0m\u001b[1;33m,\u001b[0m \u001b[0my\u001b[0m\u001b[1;33m,\u001b[0m \u001b[0mn_neighbors\u001b[0m\u001b[1;33m)\u001b[0m\u001b[1;33m\u001b[0m\u001b[1;33m\u001b[0m\u001b[0m\n",
      "\u001b[1;32m~\\Anaconda3\\envs\\RProj\\lib\\site-packages\\sklearn\\feature_selection\\_mutual_info.py\u001b[0m in \u001b[0;36m_compute_mi_cd\u001b[1;34m(c, d, n_neighbors)\u001b[0m\n\u001b[0;32m    121\u001b[0m             \u001b[0mnn\u001b[0m\u001b[1;33m.\u001b[0m\u001b[0mset_params\u001b[0m\u001b[1;33m(\u001b[0m\u001b[0mn_neighbors\u001b[0m\u001b[1;33m=\u001b[0m\u001b[0mk\u001b[0m\u001b[1;33m)\u001b[0m\u001b[1;33m\u001b[0m\u001b[1;33m\u001b[0m\u001b[0m\n\u001b[0;32m    122\u001b[0m             \u001b[0mnn\u001b[0m\u001b[1;33m.\u001b[0m\u001b[0mfit\u001b[0m\u001b[1;33m(\u001b[0m\u001b[0mc\u001b[0m\u001b[1;33m[\u001b[0m\u001b[0mmask\u001b[0m\u001b[1;33m]\u001b[0m\u001b[1;33m)\u001b[0m\u001b[1;33m\u001b[0m\u001b[1;33m\u001b[0m\u001b[0m\n\u001b[1;32m--> 123\u001b[1;33m             \u001b[0mr\u001b[0m \u001b[1;33m=\u001b[0m \u001b[0mnn\u001b[0m\u001b[1;33m.\u001b[0m\u001b[0mkneighbors\u001b[0m\u001b[1;33m(\u001b[0m\u001b[1;33m)\u001b[0m\u001b[1;33m[\u001b[0m\u001b[1;36m0\u001b[0m\u001b[1;33m]\u001b[0m\u001b[1;33m\u001b[0m\u001b[1;33m\u001b[0m\u001b[0m\n\u001b[0m\u001b[0;32m    124\u001b[0m             \u001b[0mradius\u001b[0m\u001b[1;33m[\u001b[0m\u001b[0mmask\u001b[0m\u001b[1;33m]\u001b[0m \u001b[1;33m=\u001b[0m \u001b[0mnp\u001b[0m\u001b[1;33m.\u001b[0m\u001b[0mnextafter\u001b[0m\u001b[1;33m(\u001b[0m\u001b[0mr\u001b[0m\u001b[1;33m[\u001b[0m\u001b[1;33m:\u001b[0m\u001b[1;33m,\u001b[0m \u001b[1;33m-\u001b[0m\u001b[1;36m1\u001b[0m\u001b[1;33m]\u001b[0m\u001b[1;33m,\u001b[0m \u001b[1;36m0\u001b[0m\u001b[1;33m)\u001b[0m\u001b[1;33m\u001b[0m\u001b[1;33m\u001b[0m\u001b[0m\n\u001b[0;32m    125\u001b[0m             \u001b[0mk_all\u001b[0m\u001b[1;33m[\u001b[0m\u001b[0mmask\u001b[0m\u001b[1;33m]\u001b[0m \u001b[1;33m=\u001b[0m \u001b[0mk\u001b[0m\u001b[1;33m\u001b[0m\u001b[1;33m\u001b[0m\u001b[0m\n",
      "\u001b[1;32m~\\Anaconda3\\envs\\RProj\\lib\\site-packages\\sklearn\\neighbors\\_base.py\u001b[0m in \u001b[0;36mkneighbors\u001b[1;34m(self, X, n_neighbors, return_distance)\u001b[0m\n\u001b[0;32m    723\u001b[0m                 delayed(_tree_query_parallel_helper)(\n\u001b[0;32m    724\u001b[0m                     self._tree, X[s], n_neighbors, return_distance)\n\u001b[1;32m--> 725\u001b[1;33m                 \u001b[1;32mfor\u001b[0m \u001b[0ms\u001b[0m \u001b[1;32min\u001b[0m \u001b[0mgen_even_slices\u001b[0m\u001b[1;33m(\u001b[0m\u001b[0mX\u001b[0m\u001b[1;33m.\u001b[0m\u001b[0mshape\u001b[0m\u001b[1;33m[\u001b[0m\u001b[1;36m0\u001b[0m\u001b[1;33m]\u001b[0m\u001b[1;33m,\u001b[0m \u001b[0mn_jobs\u001b[0m\u001b[1;33m)\u001b[0m\u001b[1;33m\u001b[0m\u001b[1;33m\u001b[0m\u001b[0m\n\u001b[0m\u001b[0;32m    726\u001b[0m             )\n\u001b[0;32m    727\u001b[0m         \u001b[1;32melse\u001b[0m\u001b[1;33m:\u001b[0m\u001b[1;33m\u001b[0m\u001b[1;33m\u001b[0m\u001b[0m\n",
      "\u001b[1;32m~\\Anaconda3\\envs\\RProj\\lib\\site-packages\\joblib\\parallel.py\u001b[0m in \u001b[0;36m__call__\u001b[1;34m(self, iterable)\u001b[0m\n\u001b[0;32m   1002\u001b[0m             \u001b[1;31m# remaining jobs.\u001b[0m\u001b[1;33m\u001b[0m\u001b[1;33m\u001b[0m\u001b[1;33m\u001b[0m\u001b[0m\n\u001b[0;32m   1003\u001b[0m             \u001b[0mself\u001b[0m\u001b[1;33m.\u001b[0m\u001b[0m_iterating\u001b[0m \u001b[1;33m=\u001b[0m \u001b[1;32mFalse\u001b[0m\u001b[1;33m\u001b[0m\u001b[1;33m\u001b[0m\u001b[0m\n\u001b[1;32m-> 1004\u001b[1;33m             \u001b[1;32mif\u001b[0m \u001b[0mself\u001b[0m\u001b[1;33m.\u001b[0m\u001b[0mdispatch_one_batch\u001b[0m\u001b[1;33m(\u001b[0m\u001b[0miterator\u001b[0m\u001b[1;33m)\u001b[0m\u001b[1;33m:\u001b[0m\u001b[1;33m\u001b[0m\u001b[1;33m\u001b[0m\u001b[0m\n\u001b[0m\u001b[0;32m   1005\u001b[0m                 \u001b[0mself\u001b[0m\u001b[1;33m.\u001b[0m\u001b[0m_iterating\u001b[0m \u001b[1;33m=\u001b[0m \u001b[0mself\u001b[0m\u001b[1;33m.\u001b[0m\u001b[0m_original_iterator\u001b[0m \u001b[1;32mis\u001b[0m \u001b[1;32mnot\u001b[0m \u001b[1;32mNone\u001b[0m\u001b[1;33m\u001b[0m\u001b[1;33m\u001b[0m\u001b[0m\n\u001b[0;32m   1006\u001b[0m \u001b[1;33m\u001b[0m\u001b[0m\n",
      "\u001b[1;32m~\\Anaconda3\\envs\\RProj\\lib\\site-packages\\joblib\\parallel.py\u001b[0m in \u001b[0;36mdispatch_one_batch\u001b[1;34m(self, iterator)\u001b[0m\n\u001b[0;32m    833\u001b[0m                 \u001b[1;32mreturn\u001b[0m \u001b[1;32mFalse\u001b[0m\u001b[1;33m\u001b[0m\u001b[1;33m\u001b[0m\u001b[0m\n\u001b[0;32m    834\u001b[0m             \u001b[1;32melse\u001b[0m\u001b[1;33m:\u001b[0m\u001b[1;33m\u001b[0m\u001b[1;33m\u001b[0m\u001b[0m\n\u001b[1;32m--> 835\u001b[1;33m                 \u001b[0mself\u001b[0m\u001b[1;33m.\u001b[0m\u001b[0m_dispatch\u001b[0m\u001b[1;33m(\u001b[0m\u001b[0mtasks\u001b[0m\u001b[1;33m)\u001b[0m\u001b[1;33m\u001b[0m\u001b[1;33m\u001b[0m\u001b[0m\n\u001b[0m\u001b[0;32m    836\u001b[0m                 \u001b[1;32mreturn\u001b[0m \u001b[1;32mTrue\u001b[0m\u001b[1;33m\u001b[0m\u001b[1;33m\u001b[0m\u001b[0m\n\u001b[0;32m    837\u001b[0m \u001b[1;33m\u001b[0m\u001b[0m\n",
      "\u001b[1;32m~\\Anaconda3\\envs\\RProj\\lib\\site-packages\\joblib\\parallel.py\u001b[0m in \u001b[0;36m_dispatch\u001b[1;34m(self, batch)\u001b[0m\n\u001b[0;32m    752\u001b[0m         \u001b[1;32mwith\u001b[0m \u001b[0mself\u001b[0m\u001b[1;33m.\u001b[0m\u001b[0m_lock\u001b[0m\u001b[1;33m:\u001b[0m\u001b[1;33m\u001b[0m\u001b[1;33m\u001b[0m\u001b[0m\n\u001b[0;32m    753\u001b[0m             \u001b[0mjob_idx\u001b[0m \u001b[1;33m=\u001b[0m \u001b[0mlen\u001b[0m\u001b[1;33m(\u001b[0m\u001b[0mself\u001b[0m\u001b[1;33m.\u001b[0m\u001b[0m_jobs\u001b[0m\u001b[1;33m)\u001b[0m\u001b[1;33m\u001b[0m\u001b[1;33m\u001b[0m\u001b[0m\n\u001b[1;32m--> 754\u001b[1;33m             \u001b[0mjob\u001b[0m \u001b[1;33m=\u001b[0m \u001b[0mself\u001b[0m\u001b[1;33m.\u001b[0m\u001b[0m_backend\u001b[0m\u001b[1;33m.\u001b[0m\u001b[0mapply_async\u001b[0m\u001b[1;33m(\u001b[0m\u001b[0mbatch\u001b[0m\u001b[1;33m,\u001b[0m \u001b[0mcallback\u001b[0m\u001b[1;33m=\u001b[0m\u001b[0mcb\u001b[0m\u001b[1;33m)\u001b[0m\u001b[1;33m\u001b[0m\u001b[1;33m\u001b[0m\u001b[0m\n\u001b[0m\u001b[0;32m    755\u001b[0m             \u001b[1;31m# A job can complete so quickly than its callback is\u001b[0m\u001b[1;33m\u001b[0m\u001b[1;33m\u001b[0m\u001b[1;33m\u001b[0m\u001b[0m\n\u001b[0;32m    756\u001b[0m             \u001b[1;31m# called before we get here, causing self._jobs to\u001b[0m\u001b[1;33m\u001b[0m\u001b[1;33m\u001b[0m\u001b[1;33m\u001b[0m\u001b[0m\n",
      "\u001b[1;32m~\\Anaconda3\\envs\\RProj\\lib\\site-packages\\joblib\\_parallel_backends.py\u001b[0m in \u001b[0;36mapply_async\u001b[1;34m(self, func, callback)\u001b[0m\n\u001b[0;32m    207\u001b[0m     \u001b[1;32mdef\u001b[0m \u001b[0mapply_async\u001b[0m\u001b[1;33m(\u001b[0m\u001b[0mself\u001b[0m\u001b[1;33m,\u001b[0m \u001b[0mfunc\u001b[0m\u001b[1;33m,\u001b[0m \u001b[0mcallback\u001b[0m\u001b[1;33m=\u001b[0m\u001b[1;32mNone\u001b[0m\u001b[1;33m)\u001b[0m\u001b[1;33m:\u001b[0m\u001b[1;33m\u001b[0m\u001b[1;33m\u001b[0m\u001b[0m\n\u001b[0;32m    208\u001b[0m         \u001b[1;34m\"\"\"Schedule a func to be run\"\"\"\u001b[0m\u001b[1;33m\u001b[0m\u001b[1;33m\u001b[0m\u001b[0m\n\u001b[1;32m--> 209\u001b[1;33m         \u001b[0mresult\u001b[0m \u001b[1;33m=\u001b[0m \u001b[0mImmediateResult\u001b[0m\u001b[1;33m(\u001b[0m\u001b[0mfunc\u001b[0m\u001b[1;33m)\u001b[0m\u001b[1;33m\u001b[0m\u001b[1;33m\u001b[0m\u001b[0m\n\u001b[0m\u001b[0;32m    210\u001b[0m         \u001b[1;32mif\u001b[0m \u001b[0mcallback\u001b[0m\u001b[1;33m:\u001b[0m\u001b[1;33m\u001b[0m\u001b[1;33m\u001b[0m\u001b[0m\n\u001b[0;32m    211\u001b[0m             \u001b[0mcallback\u001b[0m\u001b[1;33m(\u001b[0m\u001b[0mresult\u001b[0m\u001b[1;33m)\u001b[0m\u001b[1;33m\u001b[0m\u001b[1;33m\u001b[0m\u001b[0m\n",
      "\u001b[1;32m~\\Anaconda3\\envs\\RProj\\lib\\site-packages\\joblib\\_parallel_backends.py\u001b[0m in \u001b[0;36m__init__\u001b[1;34m(self, batch)\u001b[0m\n\u001b[0;32m    588\u001b[0m         \u001b[1;31m# Don't delay the application, to avoid keeping the input\u001b[0m\u001b[1;33m\u001b[0m\u001b[1;33m\u001b[0m\u001b[1;33m\u001b[0m\u001b[0m\n\u001b[0;32m    589\u001b[0m         \u001b[1;31m# arguments in memory\u001b[0m\u001b[1;33m\u001b[0m\u001b[1;33m\u001b[0m\u001b[1;33m\u001b[0m\u001b[0m\n\u001b[1;32m--> 590\u001b[1;33m         \u001b[0mself\u001b[0m\u001b[1;33m.\u001b[0m\u001b[0mresults\u001b[0m \u001b[1;33m=\u001b[0m \u001b[0mbatch\u001b[0m\u001b[1;33m(\u001b[0m\u001b[1;33m)\u001b[0m\u001b[1;33m\u001b[0m\u001b[1;33m\u001b[0m\u001b[0m\n\u001b[0m\u001b[0;32m    591\u001b[0m \u001b[1;33m\u001b[0m\u001b[0m\n\u001b[0;32m    592\u001b[0m     \u001b[1;32mdef\u001b[0m \u001b[0mget\u001b[0m\u001b[1;33m(\u001b[0m\u001b[0mself\u001b[0m\u001b[1;33m)\u001b[0m\u001b[1;33m:\u001b[0m\u001b[1;33m\u001b[0m\u001b[1;33m\u001b[0m\u001b[0m\n",
      "\u001b[1;32m~\\Anaconda3\\envs\\RProj\\lib\\site-packages\\joblib\\parallel.py\u001b[0m in \u001b[0;36m__call__\u001b[1;34m(self)\u001b[0m\n\u001b[0;32m    254\u001b[0m         \u001b[1;32mwith\u001b[0m \u001b[0mparallel_backend\u001b[0m\u001b[1;33m(\u001b[0m\u001b[0mself\u001b[0m\u001b[1;33m.\u001b[0m\u001b[0m_backend\u001b[0m\u001b[1;33m,\u001b[0m \u001b[0mn_jobs\u001b[0m\u001b[1;33m=\u001b[0m\u001b[0mself\u001b[0m\u001b[1;33m.\u001b[0m\u001b[0m_n_jobs\u001b[0m\u001b[1;33m)\u001b[0m\u001b[1;33m:\u001b[0m\u001b[1;33m\u001b[0m\u001b[1;33m\u001b[0m\u001b[0m\n\u001b[0;32m    255\u001b[0m             return [func(*args, **kwargs)\n\u001b[1;32m--> 256\u001b[1;33m                     for func, args, kwargs in self.items]\n\u001b[0m\u001b[0;32m    257\u001b[0m \u001b[1;33m\u001b[0m\u001b[0m\n\u001b[0;32m    258\u001b[0m     \u001b[1;32mdef\u001b[0m \u001b[0m__len__\u001b[0m\u001b[1;33m(\u001b[0m\u001b[0mself\u001b[0m\u001b[1;33m)\u001b[0m\u001b[1;33m:\u001b[0m\u001b[1;33m\u001b[0m\u001b[1;33m\u001b[0m\u001b[0m\n",
      "\u001b[1;32m~\\Anaconda3\\envs\\RProj\\lib\\site-packages\\joblib\\parallel.py\u001b[0m in \u001b[0;36m<listcomp>\u001b[1;34m(.0)\u001b[0m\n\u001b[0;32m    254\u001b[0m         \u001b[1;32mwith\u001b[0m \u001b[0mparallel_backend\u001b[0m\u001b[1;33m(\u001b[0m\u001b[0mself\u001b[0m\u001b[1;33m.\u001b[0m\u001b[0m_backend\u001b[0m\u001b[1;33m,\u001b[0m \u001b[0mn_jobs\u001b[0m\u001b[1;33m=\u001b[0m\u001b[0mself\u001b[0m\u001b[1;33m.\u001b[0m\u001b[0m_n_jobs\u001b[0m\u001b[1;33m)\u001b[0m\u001b[1;33m:\u001b[0m\u001b[1;33m\u001b[0m\u001b[1;33m\u001b[0m\u001b[0m\n\u001b[0;32m    255\u001b[0m             return [func(*args, **kwargs)\n\u001b[1;32m--> 256\u001b[1;33m                     for func, args, kwargs in self.items]\n\u001b[0m\u001b[0;32m    257\u001b[0m \u001b[1;33m\u001b[0m\u001b[0m\n\u001b[0;32m    258\u001b[0m     \u001b[1;32mdef\u001b[0m \u001b[0m__len__\u001b[0m\u001b[1;33m(\u001b[0m\u001b[0mself\u001b[0m\u001b[1;33m)\u001b[0m\u001b[1;33m:\u001b[0m\u001b[1;33m\u001b[0m\u001b[1;33m\u001b[0m\u001b[0m\n",
      "\u001b[1;32m~\\Anaconda3\\envs\\RProj\\lib\\site-packages\\sklearn\\utils\\fixes.py\u001b[0m in \u001b[0;36m__call__\u001b[1;34m(self, *args, **kwargs)\u001b[0m\n\u001b[0;32m    220\u001b[0m     \u001b[1;32mdef\u001b[0m \u001b[0m__call__\u001b[0m\u001b[1;33m(\u001b[0m\u001b[0mself\u001b[0m\u001b[1;33m,\u001b[0m \u001b[1;33m*\u001b[0m\u001b[0margs\u001b[0m\u001b[1;33m,\u001b[0m \u001b[1;33m**\u001b[0m\u001b[0mkwargs\u001b[0m\u001b[1;33m)\u001b[0m\u001b[1;33m:\u001b[0m\u001b[1;33m\u001b[0m\u001b[1;33m\u001b[0m\u001b[0m\n\u001b[0;32m    221\u001b[0m         \u001b[1;32mwith\u001b[0m \u001b[0mconfig_context\u001b[0m\u001b[1;33m(\u001b[0m\u001b[1;33m**\u001b[0m\u001b[0mself\u001b[0m\u001b[1;33m.\u001b[0m\u001b[0mconfig\u001b[0m\u001b[1;33m)\u001b[0m\u001b[1;33m:\u001b[0m\u001b[1;33m\u001b[0m\u001b[1;33m\u001b[0m\u001b[0m\n\u001b[1;32m--> 222\u001b[1;33m             \u001b[1;32mreturn\u001b[0m \u001b[0mself\u001b[0m\u001b[1;33m.\u001b[0m\u001b[0mfunction\u001b[0m\u001b[1;33m(\u001b[0m\u001b[1;33m*\u001b[0m\u001b[0margs\u001b[0m\u001b[1;33m,\u001b[0m \u001b[1;33m**\u001b[0m\u001b[0mkwargs\u001b[0m\u001b[1;33m)\u001b[0m\u001b[1;33m\u001b[0m\u001b[1;33m\u001b[0m\u001b[0m\n\u001b[0m",
      "\u001b[1;32m~\\Anaconda3\\envs\\RProj\\lib\\site-packages\\sklearn\\neighbors\\_base.py\u001b[0m in \u001b[0;36m_tree_query_parallel_helper\u001b[1;34m(tree, *args, **kwargs)\u001b[0m\n\u001b[0;32m    545\u001b[0m     \u001b[0munder\u001b[0m \u001b[0mPyPy\u001b[0m\u001b[1;33m.\u001b[0m\u001b[1;33m\u001b[0m\u001b[1;33m\u001b[0m\u001b[0m\n\u001b[0;32m    546\u001b[0m     \"\"\"\n\u001b[1;32m--> 547\u001b[1;33m     \u001b[1;32mreturn\u001b[0m \u001b[0mtree\u001b[0m\u001b[1;33m.\u001b[0m\u001b[0mquery\u001b[0m\u001b[1;33m(\u001b[0m\u001b[1;33m*\u001b[0m\u001b[0margs\u001b[0m\u001b[1;33m,\u001b[0m \u001b[1;33m**\u001b[0m\u001b[0mkwargs\u001b[0m\u001b[1;33m)\u001b[0m\u001b[1;33m\u001b[0m\u001b[1;33m\u001b[0m\u001b[0m\n\u001b[0m\u001b[0;32m    548\u001b[0m \u001b[1;33m\u001b[0m\u001b[0m\n\u001b[0;32m    549\u001b[0m \u001b[1;33m\u001b[0m\u001b[0m\n",
      "\u001b[1;31mKeyboardInterrupt\u001b[0m: "
     ]
    }
   ],
   "source": [
    "warnings.filterwarnings('ignore') #ignore FutureWarnings\n",
    "random_classif_process(LinearSVC(max_iter=100000),'linear SVM',8,preprocess='kbest local',k=2)\n",
    "warnings.filterwarnings('default')"
   ]
  },
  {
   "cell_type": "markdown",
   "metadata": {},
   "source": [
    "Global setting of the Feature selection (1 for all the BNC)"
   ]
  },
  {
   "cell_type": "code",
   "execution_count": 505,
   "metadata": {},
   "outputs": [
    {
     "name": "stdout",
     "output_type": "stream",
     "text": [
      "============================================ LINEAR SVM =============================================\n",
      "--------------------------FAKES--------------------------\n",
      "Average train accuracy : 82.43%              \n",
      "Average test accuracy : 83.67%\n",
      "Average BNC train accuracy : 83.46000000000001%\n",
      "Average BNC test accuracy : 68.65%\n",
      "--------------------------fake NOUNS--------------------------\n",
      "Average train accuracy : 91.34%              \n",
      "Average test accuracy : 89.33%\n",
      "Average BNC train accuracy : 91.47999999999999%\n",
      "Average BNC test accuracy : 81.22%\n",
      "--------------------------not fake NOUNS--------------------------\n",
      "Average train accuracy : 88.07000000000001%  \n",
      "Average test accuracy : 88.17%\n",
      "Average BNC train accuracy : 88.27000000000001%\n",
      "Average BNC test accuracy : 84.23%\n"
     ]
    }
   ],
   "source": [
    "warnings.filterwarnings('ignore') #ignore FutureWarnings\n",
    "random_classif_process(LinearSVC(max_iter=100000),'linear SVM',8,preprocess='kbest global',k=2)\n",
    "warnings.filterwarnings('default')"
   ]
  },
  {
   "cell_type": "code",
   "execution_count": null,
   "metadata": {},
   "outputs": [],
   "source": [
    "warnings.filterwarnings('ignore') #ignore FutureWarnings\n",
    "random_classif_process(SVC(kernel='rbf'),'rbf SVM',8,preprocess='kbest local',k=2)\n",
    "warnings.filterwarnings('default')"
   ]
  },
  {
   "cell_type": "markdown",
   "metadata": {},
   "source": [
    "## Random Classif for KBest-Selected (10) DATA"
   ]
  },
  {
   "cell_type": "code",
   "execution_count": 387,
   "metadata": {},
   "outputs": [
    {
     "name": "stdout",
     "output_type": "stream",
     "text": [
      "============================================ LINEAR SVM =============================================\n",
      "--------------------------FAKES--------------------------\n",
      "Average train accuracy : 91.82000000000001%  \n",
      "Average test accuracy : 90.08%\n",
      "Average BNC train accuracy : 93.13%\n",
      "Average BNC test accuracy : 42.47%\n",
      "--------------------------fake NOUNS--------------------------\n",
      "Average train accuracy : 99.42%              \n",
      "Average test accuracy : 99.25%\n",
      "Average BNC train accuracy : 99.67%\n",
      "Average BNC test accuracy : 54.21%\n",
      "--------------------------not fake NOUNS--------------------------\n",
      "Average train accuracy : 97.41%              \n",
      "Average test accuracy : 97.68%\n",
      "Average BNC train accuracy : 98.31%\n",
      "Average BNC test accuracy : 45.910000000000004%\n"
     ]
    }
   ],
   "source": [
    "warnings.filterwarnings('ignore') #ignore FutureWarnings\n",
    "random_classif_process(LinearSVC(max_iter=100000),'linear SVM',8,preprocess='kbest local',k=10)\n",
    "warnings.filterwarnings('default')"
   ]
  },
  {
   "cell_type": "code",
   "execution_count": null,
   "metadata": {},
   "outputs": [],
   "source": [
    "warnings.filterwarnings('ignore') #ignore FutureWarnings\n",
    "random_classif_process(SVC(kernel='rbf'),'rbf SVM',8,preprocess='kbest local',k=10)\n",
    "warnings.filterwarnings('default')"
   ]
  },
  {
   "cell_type": "markdown",
   "metadata": {},
   "source": [
    "## Visualization of a random classification"
   ]
  },
  {
   "cell_type": "markdown",
   "metadata": {},
   "source": [
    "We will use FAKE embeddings"
   ]
  },
  {
   "cell_type": "code",
   "execution_count": 535,
   "metadata": {},
   "outputs": [],
   "source": [
    "# # Looking for a random key that output the original separation\n",
    "# privativity_dict = {'article': 0, 'beard': 1, 'blood': 1, 'company': 1, 'death': 1, 'gun': 1, 'id': 0, 'interview': 0, 'passport': 0}\n",
    "# non_privativity_dict = {n:0**privativity_dict[n] for n in privativity_dict}\n",
    "\n",
    "# i=0\n",
    "# rng = np.random.default_rng(i)\n",
    "# rand_T, rand_dict = random_labeling(int(len(fakes_embd)*0.09),fakes_embd,rng=rng,out_list=True)\n",
    "\n",
    "# while rand_dict != privativity_dict and rand_dict != non_privativity_dict:\n",
    "#     i+=1\n",
    "#     rng = np.random.default_rng(i)\n",
    "#     rand_T, rand_dict = random_labeling(int(len(fakes_embd)*0.09),fakes_embd,rng=rng,out_list=True)\n",
    "# print(i)"
   ]
  },
  {
   "cell_type": "code",
   "execution_count": 13,
   "metadata": {},
   "outputs": [],
   "source": [
    "warnings.filterwarnings('ignore') #ignore FutureWarnings"
   ]
  },
  {
   "cell_type": "code",
   "execution_count": 43,
   "metadata": {},
   "outputs": [
    {
     "name": "stdout",
     "output_type": "stream",
     "text": [
      "{'article': 0, 'beard': 0, 'blood': 1, 'company': 1, 'death': 0, 'gun': 1, 'id': 0, 'interview': 0, 'passport': 1}\n"
     ]
    },
    {
     "data": {
      "image/png": "[encoded data removed]",
      "text/plain": [
       "<Figure size 432x288 with 1 Axes>"
      ]
     },
     "metadata": {
      "needs_background": "light"
     },
     "output_type": "display_data"
    }
   ],
   "source": [
    "rng = np.random.default_rng(42) #set 26 to get original class division\n",
    "\n",
    "#Choose if you want a controlled rng or not\n",
    "#rand_T, rand_dict = random_labeling(int(len(fakes_embd)*0.09),fakes_embd,rng=rng,out_list=True)\n",
    "rand_T, rand_dict = random_labeling(int(len(fakes_embd)*0.09),fakes_embd,out_list=True)\n",
    "\n",
    "print(rand_dict)\n",
    "\n",
    "Tacc, Gacc, model = classical_accuracy(LinearSVC(max_iter=100000),X_fakes,rand_T,nouns_fakes,preprocess='kbest local',k=2,out_model=True)\n",
    "#_, Loc_Bacc = BNC_accuracy(LinearSVC(max_iter=100000),X_fakes,rand_T,nouns_fakes, preprocess='kbest local',k=2,debug=1)\n",
    "#_, Gbl_Bacc = BNC_accuracy(LinearSVC(max_iter=100000),X_fakes,rand_T,nouns_fakes, preprocess='kbest global',k=2,debug=1)\n",
    "\n",
    "\n",
    "X_fakes_trans = model[1].transform(model[0].transform(X_fakes)).T\n",
    "axes_nb = np.where(model[0].get_support())[0]\n",
    "\n",
    "colors_classes={-1: 'blue', 1 : 'gold'}\n",
    "\n",
    "w = model[2].coef_[0]\n",
    "i = model[2].intercept_[0]\n",
    "x1 = np.linspace(-2.5,2.5,10)\n",
    "a = -w[0]/w[1]\n",
    "x2 = a * x1 - i/w[1]\n",
    "colors_classes={-1: 'blue', 1 : 'gold'}\n",
    "\n",
    "plt.scatter(X_fakes_trans[0], X_fakes_trans[1], color=rand_T.map(colors_classes))\n",
    "plt.plot(x1,x2,'k--',label='Separation line')\n",
    "plt.title(\"k-best reduction (2) and random classes \\n train : {}% ; test : {}% \\n BNC local {}% ; global : {}%\".format(Tacc.round(4)*100, Gacc.round(4)*100,Loc_Bacc.round(4)*100,Gbl_Bacc.round(4)*100))\n",
    "plt.axis('tight')\n",
    "plt.xlabel('feature #' + str(axes_nb[0]))\n",
    "plt.ylabel('feature #' + str(axes_nb[1]))\n",
    "plt.show()"
   ]
  },
  {
   "cell_type": "code",
   "execution_count": 19,
   "metadata": {},
   "outputs": [
    {
     "name": "stdout",
     "output_type": "stream",
     "text": [
      "Test 1 : BNC for passport ; 88%              "
     ]
    },
    {
     "data": {
      "image/png": "[encoded data removed]",
      "text/plain": [
       "<Figure size 432x288 with 1 Axes>"
      ]
     },
     "metadata": {
      "needs_background": "light"
     },
     "output_type": "display_data"
    }
   ],
   "source": [
    "Tacc, Gacc, model = classical_accuracy(LinearSVC(max_iter=100000),X_fakes,targets_fakes,nouns_fakes,preprocess='kbest local',k=2,out_model=True)\n",
    "_, Loc_Bacc = BNC_accuracy(LinearSVC(max_iter=100000),X_fakes,targets_fakes,nouns_fakes, preprocess='kbest local',k=2,debug=1)\n",
    "_, Gbl_Bacc = BNC_accuracy(LinearSVC(max_iter=100000),X_fakes,targets_fakes,nouns_fakes, preprocess='kbest global',k=2,debug=1)\n",
    "\n",
    "\n",
    "X_fakes_trans = model[1].transform(model[0].transform(X_fakes)).T\n",
    "axes_nb = np.where(model[0].get_support())[0]\n",
    "\n",
    "colors_classes={-1: 'blue', 1 : 'gold'}\n",
    "\n",
    "w = model[2].coef_[0]\n",
    "i = model[2].intercept_[0]\n",
    "x1 = np.linspace(-2.5,2.5,10)\n",
    "a = -w[0]/w[1]\n",
    "x2 = a * x1 - i/w[1]\n",
    "colors_classes={-1: 'blue', 1 : 'gold'}\n",
    "\n",
    "plt.scatter(X_fakes_trans[0], X_fakes_trans[1], color=targets_fakes.map(colors_classes))\n",
    "plt.plot(x1,x2,'k--',label='Separation line')\n",
    "plt.title(\"k-best reduction (2) and true classes \\n train : {}% ; test : {}% \\n BNC local {}% ; global : {}%\".format(Tacc.round(4)*100, Gacc.round(4)*100,Loc_Bacc.round(4)*100,Gbl_Bacc.round(4)*100))\n",
    "plt.axis('tight')\n",
    "plt.xlabel('feature #' + str(axes_nb[0]))\n",
    "plt.ylabel('feature #' + str(axes_nb[1]))\n",
    "plt.show()"
   ]
  },
  {
   "cell_type": "code",
   "execution_count": 25,
   "metadata": {},
   "outputs": [
    {
     "name": "stdout",
     "output_type": "stream",
     "text": [
      "Test 2 : BNC for article ; 0%               ([531 617 678 727 793 816 864 914 979 999])\n",
      "Test 2 : BNC for beard ; 11%             ([531 616 685 816 861 864 878 897 914 985])\n",
      "Test 2 : BNC for blood ; 22%             ([531 620 710 802 816 864 866 897 902 914])\n",
      "Test 2 : BNC for company ; 33%             ([531 695 789 816 864 878 897 914 979 985])\n",
      "Test 2 : BNC for death ; 44%             ([531 678 726 789 816 822 864 878 914 979])\n",
      "Test 2 : BNC for gun ; 55%             ([531 678 816 822 864 878 897 914 979 985])\n",
      "Test 2 : BNC for id ; 66%             ([531 687 745 789 816 822 840 878 985 999])\n",
      "Test 2 : BNC for interview ; 77%             ([531 678 726 789 816 864 878 897 914 985])\n",
      "Test 2 : BNC for passport ; 88%             ([531 678 710 740 816 866 868 878 897 979])\n"
     ]
    },
    {
     "data": {
      "text/plain": [
       "(0.9562665929837214, 0.823032786644227)"
      ]
     },
     "execution_count": 25,
     "metadata": {},
     "output_type": "execute_result"
    }
   ],
   "source": [
    "BNC_accuracy(LinearSVC(max_iter=100000),X_fakes,targets_fakes,nouns_fakes, preprocess='kbest local',k=10,debug=2,show_kbest=True)"
   ]
  },
  {
   "cell_type": "code",
   "execution_count": 497,
   "metadata": {},
   "outputs": [
    {
     "name": "stdout",
     "output_type": "stream",
     "text": [
      "[676 985]\n"
     ]
    },
    {
     "data": {
      "text/plain": [
       "(0.8607260725479077, 0.7250925658136687)"
      ]
     },
     "execution_count": 497,
     "metadata": {},
     "output_type": "execute_result"
    }
   ],
   "source": [
    "selector = SelectKBest(MIC,2)\n",
    "X_trans = Scaler().fit_transform(selector.fit_transform(X_fakes,rand_T))\n",
    "print(\"\\r{}\".format(np.where(selector.get_support())[0]))\n",
    "BNC_accuracy(classifier,X_trans,rand_T,nouns_fakes)"
   ]
  },
  {
   "cell_type": "code",
   "execution_count": null,
   "metadata": {},
   "outputs": [],
   "source": [
    "warnings.filterwarnings('default')"
   ]
  },
  {
   "cell_type": "markdown",
   "metadata": {},
   "source": [
    "## Testing all random partitions"
   ]
  },
  {
   "cell_type": "code",
   "execution_count": 14,
   "metadata": {},
   "outputs": [],
   "source": [
    "warnings.filterwarnings('ignore')"
   ]
  },
  {
   "cell_type": "code",
   "execution_count": 15,
   "metadata": {},
   "outputs": [
    {
     "name": "stdout",
     "output_type": "stream",
     "text": [
      "original index :  9\n"
     ]
    },
    {
     "data": {
      "text/plain": [
       "88"
      ]
     },
     "execution_count": 15,
     "metadata": {},
     "output_type": "execute_result"
    }
   ],
   "source": [
    "# delta = tolerance*2\n",
    "# while delta > tolerance:\n",
    "#     if rng:\n",
    "#         rand_classes = {listNouns[k]:rng.integers(0,2) for k in range(9)}\n",
    "#     else:\n",
    "#         rand_classes = {listNouns[k]:np.random.randint(2) for k in range(9)}\n",
    "#     rand_targets = pd.Series(data=np.ones(len(df))*-1,index=df.index)\n",
    "#     for i, embd in df.iterrows():\n",
    "#         if rand_classes[embd['noun']]==1:\n",
    "#             rand_targets[i]=1\n",
    "#     delta = np.abs(rand_targets.sum())\n",
    "# if debug:\n",
    "#     print('sampling delta : ', delta)\n",
    "#     print(rand_targets.value_counts())\n",
    "# if out_list:\n",
    "#     return (rand_targets, rand_classes)\n",
    "# else:\n",
    "#     return rand_targets\n",
    "\n",
    "\n",
    "\n",
    "def partition(n):\n",
    "    buffer = []\n",
    "    if n==1:\n",
    "        return [[0],[1]]\n",
    "    sub_list=partition(n-1)\n",
    "    for part in sub_list:\n",
    "        buffer.append([0]+part.copy())\n",
    "        buffer.append([1]+part.copy())\n",
    "    return buffer\n",
    "\n",
    "combinaisons = partition(9)\n",
    "\n",
    "counts = nouns_fakes.value_counts(sort=False).sort_index()\n",
    "\n",
    "valid_parts = []\n",
    "for part in combinaisons :\n",
    "    target_0 = 0\n",
    "    target_1 = 0\n",
    "    for i, value in enumerate(counts):\n",
    "        if part[i]:\n",
    "            target_1 += value\n",
    "        else:\n",
    "            target_0 += value\n",
    "    if np.abs(target_0 - target_1)<int(len(fakes_embd)*0.09):\n",
    "        valid_parts.append(part)\n",
    "origin_ind_fakes = valid_parts.index([0,1,1,1,1,1,0,0,0])\n",
    "print('original index : ',origin_ind_fakes)            \n",
    "len(valid_parts)"
   ]
  },
  {
   "cell_type": "code",
   "execution_count": 16,
   "metadata": {},
   "outputs": [
    {
     "data": {
      "text/plain": [
       "44"
      ]
     },
     "execution_count": 16,
     "metadata": {},
     "output_type": "execute_result"
    }
   ],
   "source": [
    "# As expected, all valid partitions have also their symetric that is valid and in the reverse order.\n",
    "pairs = 0\n",
    "for i in range(len(valid_parts)//2):\n",
    "    if valid_parts[i]==list((np.array(valid_parts[-i-1])-1)*-1):\n",
    "        pairs+=1\n",
    "pairs"
   ]
  },
  {
   "cell_type": "code",
   "execution_count": 21,
   "metadata": {},
   "outputs": [
    {
     "name": "stdout",
     "output_type": "stream",
     "text": [
      "Test 1 : BNC for passport ; 88%              (0.9198580035878958, 0.5828963614163383)\n",
      "Test 2 : BNC for passport ; 88%              (0.9198580035878958, 0.5828963614163383)\n"
     ]
    }
   ],
   "source": [
    "part = valid_parts[0]\n",
    "\n",
    "part_classes = {listNouns[k]:part[k] for k in range(9)}\n",
    "part_targets = pd.Series(data=np.ones(len(fakes_embd))*-1,index=fakes_embd.index)\n",
    "for i, embd in fakes_embd.iterrows():\n",
    "    if part_classes[embd['noun']]==1:\n",
    "        part_targets[i]=1\n",
    "print(BNC_accuracy(LinearSVC(),X_fakes,part_targets,nouns_fakes,preprocess='kbest local',k=2,debug=1))\n",
    "\n",
    "part = valid_parts[-1]\n",
    "part_classes = {listNouns[k]:part[k] for k in range(9)}\n",
    "part_targets = pd.Series(data=np.ones(len(fakes_embd))*-1,index=fakes_embd.index)\n",
    "for i, embd in fakes_embd.iterrows():\n",
    "    if part_classes[embd['noun']]==1:\n",
    "        part_targets[i]=1\n",
    "print(BNC_accuracy(LinearSVC(),X_fakes,part_targets,nouns_fakes,preprocess='kbest local',k=2,debug=2))\n",
    "\n",
    "\n",
    "#The result is the same for a partition or its reverse ! So we does not need to count the symetric ones."
   ]
  },
  {
   "cell_type": "code",
   "execution_count": 17,
   "metadata": {},
   "outputs": [
    {
     "name": "stdout",
     "output_type": "stream",
     "text": [
      "Test 44 : BNC for passport ; 88%              "
     ]
    }
   ],
   "source": [
    "parts_to_test = valid_parts[:len(valid_parts)//2]\n",
    "FAKES_classic_scores = np.empty(len(parts_to_test))\n",
    "FAKES_BNC_scores = np.empty(len(parts_to_test))\n",
    "FNOUNS_classic_scores = np.empty(len(parts_to_test))\n",
    "FNOUNS_BNC_scores = np.empty(len(parts_to_test))\n",
    "\n",
    "for ind,part in enumerate(parts_to_test):\n",
    "    part_classes = {listNouns[k]:part[k] for k in range(9)}\n",
    "    part_targets = pd.Series(data=np.ones(len(fakes_embd))*-1,index=fakes_embd.index)\n",
    "    for i, embd in fakes_embd.iterrows():\n",
    "        if part_classes[embd['noun']]==1:\n",
    "            part_targets[i]=1\n",
    "    _,FAKES_classic_scores[ind] = classical_accuracy(LinearSVC(max_iter=100000),X_fakes,part_targets,nouns_fakes,preprocess='kbest local',k=2)\n",
    "    _,FAKES_BNC_scores[ind] = BNC_accuracy(LinearSVC(max_iter=100000),X_fakes,part_targets,nouns_fakes,preprocess='kbest local',k=2,debug=ind+1)\n",
    "    _,FNOUNS_classic_scores[ind] = classical_accuracy(LinearSVC(max_iter=100000),X_Fnouns,part_targets,nouns_Fnouns ,preprocess='kbest local',k=2)\n",
    "    _,FNOUNS_BNC_scores[ind] = BNC_accuracy(LinearSVC(max_iter=100000),X_Fnouns,part_targets,nouns_Fnouns,preprocess='kbest local',k=2,debug=ind+1)\n"
   ]
  },
  {
   "cell_type": "code",
   "execution_count": 18,
   "metadata": {},
   "outputs": [
    {
     "data": {
      "text/plain": [
       "0.7977901546288577"
      ]
     },
     "execution_count": 18,
     "metadata": {},
     "output_type": "execute_result"
    }
   ],
   "source": [
    "np.max(FAKES_BNC_scores)"
   ]
  },
  {
   "cell_type": "code",
   "execution_count": 19,
   "metadata": {},
   "outputs": [
    {
     "name": "stdout",
     "output_type": "stream",
     "text": [
      "0.7978 [0, 1, 1, 1, 1, 1, 0, 0, 0]  baseline (original partition)\n",
      "0.7891 [0, 1, 1, 0, 0, 1, 1, 0, 0] 15\n",
      "0.7534 [1, 1, 1, 0, 0, 0, 0, 1, 0] 20\n"
     ]
    }
   ],
   "source": [
    "high_s_fakes = FAKES_BNC_scores[FAKES_BNC_scores>0.71]\n",
    "highest_p_fakes = np.flip(np.argsort(FAKES_BNC_scores))[:len(high_s_fakes)]\n",
    "for ind in highest_p_fakes:\n",
    "    if ind == origin_ind_fakes:\n",
    "        print(FAKES_BNC_scores[origin_ind_fakes].round(4) , valid_parts[origin_ind_fakes], ' baseline (original partition)')\n",
    "    else:\n",
    "        print(FAKES_BNC_scores[ind].round(4) , valid_parts[ind], ind)"
   ]
  },
  {
   "cell_type": "code",
   "execution_count": 20,
   "metadata": {},
   "outputs": [
    {
     "name": "stdout",
     "output_type": "stream",
     "text": [
      "0.9468 [0, 1, 1, 1, 1, 1, 0, 0, 0]  baseline (original partition)\n",
      "0.7306 [1, 1, 0, 1, 1, 0, 1, 1, 0] 36\n",
      "0.7182 [0, 0, 1, 0, 1, 0, 1, 0, 0] 12\n"
     ]
    }
   ],
   "source": [
    "high_s_fnouns = FNOUNS_BNC_scores[FNOUNS_BNC_scores>0.71]\n",
    "highest_p_fnouns = np.flip(np.argsort(FNOUNS_BNC_scores))[:len(high_s_fnouns)]\n",
    "for ind in highest_p_fnouns:\n",
    "    if ind == origin_ind_fakes:\n",
    "        print(FNOUNS_BNC_scores[origin_ind_fakes].round(4) , valid_parts[origin_ind_fakes], ' baseline (original partition)')\n",
    "    else:\n",
    "        print(FNOUNS_BNC_scores[ind].round(4) , valid_parts[ind], ind)"
   ]
  },
  {
   "cell_type": "code",
   "execution_count": 45,
   "metadata": {},
   "outputs": [
    {
     "data": {
      "text/plain": [
       "['article',\n",
       " 'beard',\n",
       " 'blood',\n",
       " 'company',\n",
       " 'death',\n",
       " 'gun',\n",
       " 'id',\n",
       " 'interview',\n",
       " 'passport']"
      ]
     },
     "execution_count": 45,
     "metadata": {},
     "output_type": "execute_result"
    }
   ],
   "source": [
    "listNouns"
   ]
  },
  {
   "cell_type": "code",
   "execution_count": 44,
   "metadata": {},
   "outputs": [
    {
     "data": {
      "text/plain": [
       "[1, 0, 0, 0, 1, 1, 1, 0, 0]"
      ]
     },
     "execution_count": 44,
     "metadata": {},
     "output_type": "execute_result"
    }
   ],
   "source": [
    "valid_parts[23]"
   ]
  },
  {
   "cell_type": "code",
   "execution_count": 21,
   "metadata": {},
   "outputs": [
    {
     "data": {
      "image/png": "[encoded data removed]",
      "text/plain": [
       "<Figure size 720x288 with 2 Axes>"
      ]
     },
     "metadata": {
      "needs_background": "light"
     },
     "output_type": "display_data"
    }
   ],
   "source": [
    "fig, ax = plt.subplots(1,2,figsize=(10,4))\n",
    "ax[0].hist(FAKES_BNC_scores,bins=44,density=False)\n",
    "ax[1].hist(FNOUNS_BNC_scores,bins=44,density=False)\n",
    "ax[0].set_title('BNC Score on FAKE embeddings \\nmean : {} , std : {}'.format(np.mean(FAKES_BNC_scores).round(4)*100,np.std(FAKES_BNC_scores).round(3)*100) )\n",
    "ax[1].set_title('BNC Score on (fake)NOUN embeddings \\nmean : {} , std : {}'.format(np.mean(FNOUNS_BNC_scores).round(4)*100,np.std(FNOUNS_BNC_scores).round(4)*100))\n",
    "plt.show()"
   ]
  },
  {
   "cell_type": "code",
   "execution_count": 22,
   "metadata": {},
   "outputs": [
    {
     "data": {
      "text/plain": [
       "array([0.4369, 0.1713])"
      ]
     },
     "execution_count": 22,
     "metadata": {},
     "output_type": "execute_result"
    }
   ],
   "source": [
    "np.round((np.mean(FAKES_BNC_scores),np.std(FAKES_BNC_scores)),4)"
   ]
  },
  {
   "cell_type": "code",
   "execution_count": 23,
   "metadata": {},
   "outputs": [
    {
     "data": {
      "text/plain": [
       "array([0.4772, 0.1653])"
      ]
     },
     "execution_count": 23,
     "metadata": {},
     "output_type": "execute_result"
    }
   ],
   "source": [
    "np.round((np.mean(FNOUNS_BNC_scores),np.std(FNOUNS_BNC_scores)),4)"
   ]
  },
  {
   "cell_type": "code",
   "execution_count": 41,
   "metadata": {},
   "outputs": [
    {
     "name": "stdout",
     "output_type": "stream",
     "text": [
      "original index :  8\n",
      "nb of valid partitions :  138\n"
     ]
    }
   ],
   "source": [
    "counts = nouns_nfs.value_counts(sort=False).sort_index()\n",
    "\n",
    "valid_parts = []\n",
    "for part in combinaisons :\n",
    "    target_0 = 0\n",
    "    target_1 = 0\n",
    "    for i, value in enumerate(counts):\n",
    "        if part[i]:\n",
    "            target_1 += value\n",
    "        else:\n",
    "            target_0 += value\n",
    "    if np.abs(target_0 - target_1)<int(max(len(not_fake_samples)*0.09,targets_nfs.sum())):\n",
    "        valid_parts.append(part)\n",
    "\n",
    "origin_ind_notfakes = valid_parts.index([0,1,1,1,1,1,0,0,0])\n",
    "print('original index : ',origin_ind_notfakes)\n",
    "\n",
    "print('nb of valid partitions : ',len(valid_parts))\n",
    "\n"
   ]
  },
  {
   "cell_type": "code",
   "execution_count": 42,
   "metadata": {},
   "outputs": [
    {
     "name": "stdout",
     "output_type": "stream",
     "text": [
      "Test 41 : BNC for death ; 44%                 "
     ]
    },
    {
     "ename": "KeyboardInterrupt",
     "evalue": "",
     "output_type": "error",
     "traceback": [
      "\u001b[1;31m---------------------------------------------------------------------------\u001b[0m",
      "\u001b[1;31mKeyboardInterrupt\u001b[0m                         Traceback (most recent call last)",
      "\u001b[1;32m<ipython-input-42-4a313002e402>\u001b[0m in \u001b[0;36m<module>\u001b[1;34m\u001b[0m\n\u001b[0;32m     10\u001b[0m             \u001b[0mpart_targets\u001b[0m\u001b[1;33m[\u001b[0m\u001b[0mi\u001b[0m\u001b[1;33m]\u001b[0m\u001b[1;33m=\u001b[0m\u001b[1;36m1\u001b[0m\u001b[1;33m\u001b[0m\u001b[1;33m\u001b[0m\u001b[0m\n\u001b[0;32m     11\u001b[0m     \u001b[0m_\u001b[0m\u001b[1;33m,\u001b[0m\u001b[0mNFNOUNS_classic_scores\u001b[0m\u001b[1;33m[\u001b[0m\u001b[0mind\u001b[0m\u001b[1;33m]\u001b[0m \u001b[1;33m=\u001b[0m \u001b[0mclassical_accuracy\u001b[0m\u001b[1;33m(\u001b[0m\u001b[0mLinearSVC\u001b[0m\u001b[1;33m(\u001b[0m\u001b[0mmax_iter\u001b[0m\u001b[1;33m=\u001b[0m\u001b[1;36m100000\u001b[0m\u001b[1;33m)\u001b[0m\u001b[1;33m,\u001b[0m\u001b[0mX_nfs\u001b[0m\u001b[1;33m,\u001b[0m\u001b[0mpart_targets\u001b[0m\u001b[1;33m,\u001b[0m\u001b[0mnouns_nfs\u001b[0m \u001b[1;33m,\u001b[0m\u001b[0mpreprocess\u001b[0m\u001b[1;33m=\u001b[0m\u001b[1;34m'kbest local'\u001b[0m\u001b[1;33m,\u001b[0m\u001b[0mk\u001b[0m\u001b[1;33m=\u001b[0m\u001b[1;36m2\u001b[0m\u001b[1;33m)\u001b[0m\u001b[1;33m\u001b[0m\u001b[1;33m\u001b[0m\u001b[0m\n\u001b[1;32m---> 12\u001b[1;33m     \u001b[0m_\u001b[0m\u001b[1;33m,\u001b[0m\u001b[0mNFNOUNS_BNC_scores\u001b[0m\u001b[1;33m[\u001b[0m\u001b[0mind\u001b[0m\u001b[1;33m]\u001b[0m \u001b[1;33m=\u001b[0m \u001b[0mBNC_accuracy\u001b[0m\u001b[1;33m(\u001b[0m\u001b[0mLinearSVC\u001b[0m\u001b[1;33m(\u001b[0m\u001b[0mmax_iter\u001b[0m\u001b[1;33m=\u001b[0m\u001b[1;36m100000\u001b[0m\u001b[1;33m)\u001b[0m\u001b[1;33m,\u001b[0m\u001b[0mX_nfs\u001b[0m\u001b[1;33m,\u001b[0m\u001b[0mpart_targets\u001b[0m\u001b[1;33m,\u001b[0m\u001b[0mnouns_nfs\u001b[0m\u001b[1;33m,\u001b[0m\u001b[0mpreprocess\u001b[0m\u001b[1;33m=\u001b[0m\u001b[1;34m'kbest local'\u001b[0m\u001b[1;33m,\u001b[0m\u001b[0mk\u001b[0m\u001b[1;33m=\u001b[0m\u001b[1;36m2\u001b[0m\u001b[1;33m,\u001b[0m\u001b[0mdebug\u001b[0m\u001b[1;33m=\u001b[0m\u001b[0mind\u001b[0m\u001b[1;33m+\u001b[0m\u001b[1;36m1\u001b[0m\u001b[1;33m)\u001b[0m\u001b[1;33m\u001b[0m\u001b[1;33m\u001b[0m\u001b[0m\n\u001b[0m",
      "\u001b[1;32m<ipython-input-7-2bc4df7c4ca9>\u001b[0m in \u001b[0;36mBNC_accuracy\u001b[1;34m(classifier, X, targets, nouns, preprocess, k, full_output, debug, show_kbest)\u001b[0m\n\u001b[0;32m     29\u001b[0m         \u001b[0mTtrain\u001b[0m \u001b[1;33m=\u001b[0m \u001b[0mtargets\u001b[0m\u001b[1;33m[\u001b[0m\u001b[0mnouns\u001b[0m\u001b[1;33m!=\u001b[0m\u001b[0mbannedW\u001b[0m\u001b[1;33m]\u001b[0m\u001b[1;33m\u001b[0m\u001b[1;33m\u001b[0m\u001b[0m\n\u001b[0;32m     30\u001b[0m         \u001b[1;32mif\u001b[0m \u001b[0mpreprocess\u001b[0m\u001b[1;33m==\u001b[0m\u001b[1;34m'kbest local'\u001b[0m\u001b[1;33m:\u001b[0m\u001b[1;33m\u001b[0m\u001b[1;33m\u001b[0m\u001b[0m\n\u001b[1;32m---> 31\u001b[1;33m             \u001b[0mselect\u001b[0m \u001b[1;33m=\u001b[0m \u001b[0mSelectKBest\u001b[0m\u001b[1;33m(\u001b[0m\u001b[0mMIC\u001b[0m\u001b[1;33m,\u001b[0m\u001b[0mk\u001b[0m\u001b[1;33m)\u001b[0m\u001b[1;33m.\u001b[0m\u001b[0mfit\u001b[0m\u001b[1;33m(\u001b[0m\u001b[0mXtrain\u001b[0m\u001b[1;33m,\u001b[0m\u001b[0mTtrain\u001b[0m\u001b[1;33m)\u001b[0m\u001b[1;33m\u001b[0m\u001b[1;33m\u001b[0m\u001b[0m\n\u001b[0m\u001b[0;32m     32\u001b[0m             \u001b[0mscalr\u001b[0m \u001b[1;33m=\u001b[0m \u001b[0mScaler\u001b[0m\u001b[1;33m(\u001b[0m\u001b[1;33m)\u001b[0m\u001b[1;33m\u001b[0m\u001b[1;33m\u001b[0m\u001b[0m\n\u001b[0;32m     33\u001b[0m             \u001b[0mXtrain\u001b[0m \u001b[1;33m=\u001b[0m \u001b[0mscalr\u001b[0m\u001b[1;33m.\u001b[0m\u001b[0mfit_transform\u001b[0m\u001b[1;33m(\u001b[0m\u001b[0mselect\u001b[0m\u001b[1;33m.\u001b[0m\u001b[0mtransform\u001b[0m\u001b[1;33m(\u001b[0m\u001b[0mXtrain\u001b[0m\u001b[1;33m)\u001b[0m\u001b[1;33m)\u001b[0m\u001b[1;33m\u001b[0m\u001b[1;33m\u001b[0m\u001b[0m\n",
      "\u001b[1;32m~\\Anaconda3\\envs\\RProj\\lib\\site-packages\\sklearn\\feature_selection\\_univariate_selection.py\u001b[0m in \u001b[0;36mfit\u001b[1;34m(self, X, y)\u001b[0m\n\u001b[0;32m    350\u001b[0m \u001b[1;33m\u001b[0m\u001b[0m\n\u001b[0;32m    351\u001b[0m         \u001b[0mself\u001b[0m\u001b[1;33m.\u001b[0m\u001b[0m_check_params\u001b[0m\u001b[1;33m(\u001b[0m\u001b[0mX\u001b[0m\u001b[1;33m,\u001b[0m \u001b[0my\u001b[0m\u001b[1;33m)\u001b[0m\u001b[1;33m\u001b[0m\u001b[1;33m\u001b[0m\u001b[0m\n\u001b[1;32m--> 352\u001b[1;33m         \u001b[0mscore_func_ret\u001b[0m \u001b[1;33m=\u001b[0m \u001b[0mself\u001b[0m\u001b[1;33m.\u001b[0m\u001b[0mscore_func\u001b[0m\u001b[1;33m(\u001b[0m\u001b[0mX\u001b[0m\u001b[1;33m,\u001b[0m \u001b[0my\u001b[0m\u001b[1;33m)\u001b[0m\u001b[1;33m\u001b[0m\u001b[1;33m\u001b[0m\u001b[0m\n\u001b[0m\u001b[0;32m    353\u001b[0m         \u001b[1;32mif\u001b[0m \u001b[0misinstance\u001b[0m\u001b[1;33m(\u001b[0m\u001b[0mscore_func_ret\u001b[0m\u001b[1;33m,\u001b[0m \u001b[1;33m(\u001b[0m\u001b[0mlist\u001b[0m\u001b[1;33m,\u001b[0m \u001b[0mtuple\u001b[0m\u001b[1;33m)\u001b[0m\u001b[1;33m)\u001b[0m\u001b[1;33m:\u001b[0m\u001b[1;33m\u001b[0m\u001b[1;33m\u001b[0m\u001b[0m\n\u001b[0;32m    354\u001b[0m             \u001b[0mself\u001b[0m\u001b[1;33m.\u001b[0m\u001b[0mscores_\u001b[0m\u001b[1;33m,\u001b[0m \u001b[0mself\u001b[0m\u001b[1;33m.\u001b[0m\u001b[0mpvalues_\u001b[0m \u001b[1;33m=\u001b[0m \u001b[0mscore_func_ret\u001b[0m\u001b[1;33m\u001b[0m\u001b[1;33m\u001b[0m\u001b[0m\n",
      "\u001b[1;32m~\\Anaconda3\\envs\\RProj\\lib\\site-packages\\sklearn\\utils\\validation.py\u001b[0m in \u001b[0;36minner_f\u001b[1;34m(*args, **kwargs)\u001b[0m\n\u001b[0;32m     61\u001b[0m             \u001b[0mextra_args\u001b[0m \u001b[1;33m=\u001b[0m \u001b[0mlen\u001b[0m\u001b[1;33m(\u001b[0m\u001b[0margs\u001b[0m\u001b[1;33m)\u001b[0m \u001b[1;33m-\u001b[0m \u001b[0mlen\u001b[0m\u001b[1;33m(\u001b[0m\u001b[0mall_args\u001b[0m\u001b[1;33m)\u001b[0m\u001b[1;33m\u001b[0m\u001b[1;33m\u001b[0m\u001b[0m\n\u001b[0;32m     62\u001b[0m             \u001b[1;32mif\u001b[0m \u001b[0mextra_args\u001b[0m \u001b[1;33m<=\u001b[0m \u001b[1;36m0\u001b[0m\u001b[1;33m:\u001b[0m\u001b[1;33m\u001b[0m\u001b[1;33m\u001b[0m\u001b[0m\n\u001b[1;32m---> 63\u001b[1;33m                 \u001b[1;32mreturn\u001b[0m \u001b[0mf\u001b[0m\u001b[1;33m(\u001b[0m\u001b[1;33m*\u001b[0m\u001b[0margs\u001b[0m\u001b[1;33m,\u001b[0m \u001b[1;33m**\u001b[0m\u001b[0mkwargs\u001b[0m\u001b[1;33m)\u001b[0m\u001b[1;33m\u001b[0m\u001b[1;33m\u001b[0m\u001b[0m\n\u001b[0m\u001b[0;32m     64\u001b[0m \u001b[1;33m\u001b[0m\u001b[0m\n\u001b[0;32m     65\u001b[0m             \u001b[1;31m# extra_args > 0\u001b[0m\u001b[1;33m\u001b[0m\u001b[1;33m\u001b[0m\u001b[1;33m\u001b[0m\u001b[0m\n",
      "\u001b[1;32m~\\Anaconda3\\envs\\RProj\\lib\\site-packages\\sklearn\\feature_selection\\_mutual_info.py\u001b[0m in \u001b[0;36mmutual_info_classif\u001b[1;34m(X, y, discrete_features, n_neighbors, copy, random_state)\u001b[0m\n\u001b[0;32m    447\u001b[0m     \u001b[0mcheck_classification_targets\u001b[0m\u001b[1;33m(\u001b[0m\u001b[0my\u001b[0m\u001b[1;33m)\u001b[0m\u001b[1;33m\u001b[0m\u001b[1;33m\u001b[0m\u001b[0m\n\u001b[0;32m    448\u001b[0m     return _estimate_mi(X, y, discrete_features, True, n_neighbors,\n\u001b[1;32m--> 449\u001b[1;33m                         copy, random_state)\n\u001b[0m",
      "\u001b[1;32m~\\Anaconda3\\envs\\RProj\\lib\\site-packages\\sklearn\\feature_selection\\_mutual_info.py\u001b[0m in \u001b[0;36m_estimate_mi\u001b[1;34m(X, y, discrete_features, discrete_target, n_neighbors, copy, random_state)\u001b[0m\n\u001b[0;32m    284\u001b[0m \u001b[1;33m\u001b[0m\u001b[0m\n\u001b[0;32m    285\u001b[0m     mi = [_compute_mi(x, y, discrete_feature, discrete_target, n_neighbors) for\n\u001b[1;32m--> 286\u001b[1;33m           x, discrete_feature in zip(_iterate_columns(X), discrete_mask)]\n\u001b[0m\u001b[0;32m    287\u001b[0m \u001b[1;33m\u001b[0m\u001b[0m\n\u001b[0;32m    288\u001b[0m     \u001b[1;32mreturn\u001b[0m \u001b[0mnp\u001b[0m\u001b[1;33m.\u001b[0m\u001b[0marray\u001b[0m\u001b[1;33m(\u001b[0m\u001b[0mmi\u001b[0m\u001b[1;33m)\u001b[0m\u001b[1;33m\u001b[0m\u001b[1;33m\u001b[0m\u001b[0m\n",
      "\u001b[1;32m~\\Anaconda3\\envs\\RProj\\lib\\site-packages\\sklearn\\feature_selection\\_mutual_info.py\u001b[0m in \u001b[0;36m<listcomp>\u001b[1;34m(.0)\u001b[0m\n\u001b[0;32m    284\u001b[0m \u001b[1;33m\u001b[0m\u001b[0m\n\u001b[0;32m    285\u001b[0m     mi = [_compute_mi(x, y, discrete_feature, discrete_target, n_neighbors) for\n\u001b[1;32m--> 286\u001b[1;33m           x, discrete_feature in zip(_iterate_columns(X), discrete_mask)]\n\u001b[0m\u001b[0;32m    287\u001b[0m \u001b[1;33m\u001b[0m\u001b[0m\n\u001b[0;32m    288\u001b[0m     \u001b[1;32mreturn\u001b[0m \u001b[0mnp\u001b[0m\u001b[1;33m.\u001b[0m\u001b[0marray\u001b[0m\u001b[1;33m(\u001b[0m\u001b[0mmi\u001b[0m\u001b[1;33m)\u001b[0m\u001b[1;33m\u001b[0m\u001b[1;33m\u001b[0m\u001b[0m\n",
      "\u001b[1;32m~\\Anaconda3\\envs\\RProj\\lib\\site-packages\\sklearn\\feature_selection\\_mutual_info.py\u001b[0m in \u001b[0;36m_compute_mi\u001b[1;34m(x, y, x_discrete, y_discrete, n_neighbors)\u001b[0m\n\u001b[0;32m    156\u001b[0m         \u001b[1;32mreturn\u001b[0m \u001b[0m_compute_mi_cd\u001b[0m\u001b[1;33m(\u001b[0m\u001b[0my\u001b[0m\u001b[1;33m,\u001b[0m \u001b[0mx\u001b[0m\u001b[1;33m,\u001b[0m \u001b[0mn_neighbors\u001b[0m\u001b[1;33m)\u001b[0m\u001b[1;33m\u001b[0m\u001b[1;33m\u001b[0m\u001b[0m\n\u001b[0;32m    157\u001b[0m     \u001b[1;32melif\u001b[0m \u001b[1;32mnot\u001b[0m \u001b[0mx_discrete\u001b[0m \u001b[1;32mand\u001b[0m \u001b[0my_discrete\u001b[0m\u001b[1;33m:\u001b[0m\u001b[1;33m\u001b[0m\u001b[1;33m\u001b[0m\u001b[0m\n\u001b[1;32m--> 158\u001b[1;33m         \u001b[1;32mreturn\u001b[0m \u001b[0m_compute_mi_cd\u001b[0m\u001b[1;33m(\u001b[0m\u001b[0mx\u001b[0m\u001b[1;33m,\u001b[0m \u001b[0my\u001b[0m\u001b[1;33m,\u001b[0m \u001b[0mn_neighbors\u001b[0m\u001b[1;33m)\u001b[0m\u001b[1;33m\u001b[0m\u001b[1;33m\u001b[0m\u001b[0m\n\u001b[0m\u001b[0;32m    159\u001b[0m     \u001b[1;32melse\u001b[0m\u001b[1;33m:\u001b[0m\u001b[1;33m\u001b[0m\u001b[1;33m\u001b[0m\u001b[0m\n\u001b[0;32m    160\u001b[0m         \u001b[1;32mreturn\u001b[0m \u001b[0m_compute_mi_cc\u001b[0m\u001b[1;33m(\u001b[0m\u001b[0mx\u001b[0m\u001b[1;33m,\u001b[0m \u001b[0my\u001b[0m\u001b[1;33m,\u001b[0m \u001b[0mn_neighbors\u001b[0m\u001b[1;33m)\u001b[0m\u001b[1;33m\u001b[0m\u001b[1;33m\u001b[0m\u001b[0m\n",
      "\u001b[1;32m~\\Anaconda3\\envs\\RProj\\lib\\site-packages\\sklearn\\feature_selection\\_mutual_info.py\u001b[0m in \u001b[0;36m_compute_mi_cd\u001b[1;34m(c, d, n_neighbors)\u001b[0m\n\u001b[0;32m    135\u001b[0m \u001b[1;33m\u001b[0m\u001b[0m\n\u001b[0;32m    136\u001b[0m     \u001b[0mkd\u001b[0m \u001b[1;33m=\u001b[0m \u001b[0mKDTree\u001b[0m\u001b[1;33m(\u001b[0m\u001b[0mc\u001b[0m\u001b[1;33m)\u001b[0m\u001b[1;33m\u001b[0m\u001b[1;33m\u001b[0m\u001b[0m\n\u001b[1;32m--> 137\u001b[1;33m     \u001b[0mm_all\u001b[0m \u001b[1;33m=\u001b[0m \u001b[0mkd\u001b[0m\u001b[1;33m.\u001b[0m\u001b[0mquery_radius\u001b[0m\u001b[1;33m(\u001b[0m\u001b[0mc\u001b[0m\u001b[1;33m,\u001b[0m \u001b[0mradius\u001b[0m\u001b[1;33m,\u001b[0m \u001b[0mcount_only\u001b[0m\u001b[1;33m=\u001b[0m\u001b[1;32mTrue\u001b[0m\u001b[1;33m,\u001b[0m \u001b[0mreturn_distance\u001b[0m\u001b[1;33m=\u001b[0m\u001b[1;32mFalse\u001b[0m\u001b[1;33m)\u001b[0m\u001b[1;33m\u001b[0m\u001b[1;33m\u001b[0m\u001b[0m\n\u001b[0m\u001b[0;32m    138\u001b[0m     \u001b[0mm_all\u001b[0m \u001b[1;33m=\u001b[0m \u001b[0mnp\u001b[0m\u001b[1;33m.\u001b[0m\u001b[0marray\u001b[0m\u001b[1;33m(\u001b[0m\u001b[0mm_all\u001b[0m\u001b[1;33m)\u001b[0m \u001b[1;33m-\u001b[0m \u001b[1;36m1.0\u001b[0m\u001b[1;33m\u001b[0m\u001b[1;33m\u001b[0m\u001b[0m\n\u001b[0;32m    139\u001b[0m \u001b[1;33m\u001b[0m\u001b[0m\n",
      "\u001b[1;31mKeyboardInterrupt\u001b[0m: "
     ]
    }
   ],
   "source": [
    "parts_to_test = valid_parts[:len(valid_parts)//2]\n",
    "NFNOUNS_classic_scores = np.empty(len(parts_to_test))\n",
    "NFNOUNS_BNC_scores = np.empty(len(parts_to_test))\n",
    "\n",
    "for ind,part in enumerate(parts_to_test):\n",
    "    part_classes = {listNouns[k]:part[k] for k in range(9)}\n",
    "    part_targets = pd.Series(data=np.ones(len(not_fake_samples))*-1,index=not_fake_samples.index)\n",
    "    for i, embd in not_fake_samples.iterrows():\n",
    "        if part_classes[embd['noun']]==1:\n",
    "            part_targets[i]=1\n",
    "    _,NFNOUNS_classic_scores[ind] = classical_accuracy(LinearSVC(max_iter=100000),X_nfs,part_targets,nouns_nfs ,preprocess='kbest local',k=2)\n",
    "    _,NFNOUNS_BNC_scores[ind] = BNC_accuracy(LinearSVC(max_iter=100000),X_nfs,part_targets,nouns_nfs,preprocess='kbest local',k=2,debug=ind+1)\n"
   ]
  },
  {
   "cell_type": "code",
   "execution_count": null,
   "metadata": {},
   "outputs": [],
   "source": [
    "np.max(NFNOUNS_BNC_scores)"
   ]
  },
  {
   "cell_type": "code",
   "execution_count": null,
   "metadata": {},
   "outputs": [],
   "source": [
    "high_s_nfnouns = NFNOUNS_BNC_scores[NFNOUNS_BNC_scores>0.71]\n",
    "highest_p_nfnouns = np.flip(np.argsort(NFNOUNS_BNC_scores))[:len(high_s_nfnouns)]\n",
    "for ind in highest_p_nfnouns:\n",
    "    if ind == origin_ind_notfakes:\n",
    "        print(NFNOUNS_BNC_scores[origin_ind_notfakes].round(4) , valid_parts[origin_ind_notfakes], ' baseline (original partition)')\n",
    "    else:\n",
    "        print(NFNOUNS_BNC_scores[ind].round(4) , valid_parts[ind], ind)"
   ]
  },
  {
   "cell_type": "code",
   "execution_count": null,
   "metadata": {},
   "outputs": [],
   "source": [
    "plt.hist(NFNOUNS_BNC_scores,bins=len(NFNOUNS_BNC_scores),density=False)\n",
    "plt.title('BNC Score on (not fake)NOUN embeddings')\n",
    "plt.show()"
   ]
  },
  {
   "cell_type": "code",
   "execution_count": null,
   "metadata": {},
   "outputs": [],
   "source": [
    "fig, ax = plt.subplots(1,3,figsize=(20,5))\n",
    "ax[0].hist(FAKES_BNC_scores,bins=len(FAKES_BNC_scores),density=False, label='{} partitions'.format(len(FAKES_BNC_scores)))\n",
    "ax[1].hist(FNOUNS_BNC_scores,bins=len(FNOUNS_BNC_scores),density=False, label='{} partitions'.format(len(FNOUNS_BNC_scores)))\n",
    "ax[2].hist(NFNOUNS_BNC_scores,bins=len(NFNOUNS_BNC_scores),density=False, label='{} partitions'.format(len(NFNOUNS_BNC_scores)))\n",
    "\n",
    "ax[0].set_title('BNC Score on FAKE embeddings \\nmean : {} , std : {}'.format(np.mean(FAKES_BNC_scores).round(4)*100,np.std(FAKES_BNC_scores).round(3)*100) )\n",
    "ax[1].set_title('BNC Score on (fake)NOUN embeddings \\nmean : {} , std : {}'.format(np.mean(FNOUNS_BNC_scores).round(4)*100,np.std(FNOUNS_BNC_scores).round(4)*100))\n",
    "ax[2].set_title('BNC Score on (not fake)NOUN embeddings \\n mean : {} , std : {}'.format(np.mean(NFNOUNS_BNC_scores).round(4)*100,np.std(NFNOUNS_BNC_scores).round(4)*100))\n",
    "\n",
    "ax[0].legend()\n",
    "ax[1].legend()\n",
    "ax[2].legend()\n",
    "\n",
    "plt.savefig('random_scores.png',dpi=300)\n",
    "plt.show()"
   ]
  },
  {
   "cell_type": "code",
   "execution_count": null,
   "metadata": {},
   "outputs": [],
   "source": [
    "warnings.filterwarnings('default')"
   ]
  },
  {
   "cell_type": "code",
   "execution_count": null,
   "metadata": {},
   "outputs": [],
   "source": []
  }
 ],
 "metadata": {
  "kernelspec": {
   "display_name": "Python 3",
   "language": "python",
   "name": "python3"
  },
  "language_info": {
   "codemirror_mode": {
    "name": "ipython",
    "version": 3
   },
   "file_extension": ".py",
   "mimetype": "text/x-python",
   "name": "python",
   "nbconvert_exporter": "python",
   "pygments_lexer": "ipython3",
   "version": "3.7.7"
  }
 },
 "nbformat": 4,
 "nbformat_minor": 4
}
